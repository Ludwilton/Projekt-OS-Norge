{
 "cells": [
  {
   "cell_type": "markdown",
   "metadata": {},
   "source": [
    "# Uppgift 1"
   ]
  },
  {
   "cell_type": "code",
   "execution_count": 217,
   "metadata": {},
   "outputs": [],
   "source": [
    "import pandas as pd\n",
    "import seaborn as sns\n",
    "import hashlib as hl\n",
    "import matplotlib.pyplot as plt\n",
    "import numpy as np\n",
    "import sys\n",
    "sys.path.append(\"..\")\n",
    "from data_utils import *\n",
    "import matplotlib.image as mpimg\n",
    "import plotly.express as px\n",
    "from plotly.subplots import make_subplots\n",
    "import plotly.graph_objects as go\n",
    "\n",
    "\n",
    "# FutureWarning handling\n",
    "pd.options.mode.copy_on_write = True\n",
    "\n",
    "df = read_athlete_events(\"/home/albot/coding/repos/Projekt-OS-Norge/athlete_events.csv\")\n",
    "df = hash_column(df, \"Name\")\n",
    "nor = df[df[\"NOC\"] == \"NOR\"]"
   ]
  },
  {
   "cell_type": "code",
   "execution_count": null,
   "metadata": {},
   "outputs": [],
   "source": [
    "def medal_counter(df=nor, col=\"Games\"):\n",
    "    df_medal = df.copy()\n",
    "    df_medal[\"Medal\"] = df_medal[\"Medal\"].fillna(\"No Medal\")        # inte säker på att jag behöver denna\n",
    "    df_medal = df_medal.drop_duplicates(subset=[\"Event\", \"Games\", \"Team\", \"Medal\"])\n",
    "    medal_count = df_medal.groupby([col, \"Medal\"]).size().unstack(fill_value=0)\n",
    "    medal_count[\"Total\"] = medal_count[[\"Bronze\", \"Silver\", \"Gold\"]].sum(axis=1)\n",
    "    medal_count = medal_count.reindex(columns=[\"Bronze\", \"Silver\", \"Gold\", \"Total\"])\n",
    "    return medal_count"
   ]
  },
  {
   "cell_type": "code",
   "execution_count": 219,
   "metadata": {},
   "outputs": [
    {
     "data": {
      "text/html": [
       "<div>\n",
       "<style scoped>\n",
       "    .dataframe tbody tr th:only-of-type {\n",
       "        vertical-align: middle;\n",
       "    }\n",
       "\n",
       "    .dataframe tbody tr th {\n",
       "        vertical-align: top;\n",
       "    }\n",
       "\n",
       "    .dataframe thead th {\n",
       "        text-align: right;\n",
       "    }\n",
       "</style>\n",
       "<table border=\"1\" class=\"dataframe\">\n",
       "  <thead>\n",
       "    <tr style=\"text-align: right;\">\n",
       "      <th>Medal</th>\n",
       "      <th>Bronze</th>\n",
       "      <th>Silver</th>\n",
       "      <th>Gold</th>\n",
       "      <th>Total</th>\n",
       "    </tr>\n",
       "    <tr>\n",
       "      <th>Games</th>\n",
       "      <th></th>\n",
       "      <th></th>\n",
       "      <th></th>\n",
       "      <th></th>\n",
       "    </tr>\n",
       "  </thead>\n",
       "  <tbody>\n",
       "    <tr>\n",
       "      <th>1900 Summer</th>\n",
       "      <td>3</td>\n",
       "      <td>2</td>\n",
       "      <td>0</td>\n",
       "      <td>5</td>\n",
       "    </tr>\n",
       "    <tr>\n",
       "      <th>1904 Summer</th>\n",
       "      <td>0</td>\n",
       "      <td>0</td>\n",
       "      <td>2</td>\n",
       "      <td>2</td>\n",
       "    </tr>\n",
       "    <tr>\n",
       "      <th>1906 Summer</th>\n",
       "      <td>0</td>\n",
       "      <td>1</td>\n",
       "      <td>1</td>\n",
       "      <td>2</td>\n",
       "    </tr>\n",
       "    <tr>\n",
       "      <th>1908 Summer</th>\n",
       "      <td>3</td>\n",
       "      <td>3</td>\n",
       "      <td>2</td>\n",
       "      <td>8</td>\n",
       "    </tr>\n",
       "    <tr>\n",
       "      <th>1912 Summer</th>\n",
       "      <td>5</td>\n",
       "      <td>1</td>\n",
       "      <td>4</td>\n",
       "      <td>10</td>\n",
       "    </tr>\n",
       "  </tbody>\n",
       "</table>\n",
       "</div>"
      ],
      "text/plain": [
       "Medal        Bronze  Silver  Gold  Total\n",
       "Games                                   \n",
       "1900 Summer       3       2     0      5\n",
       "1904 Summer       0       0     2      2\n",
       "1906 Summer       0       1     1      2\n",
       "1908 Summer       3       3     2      8\n",
       "1912 Summer       5       1     4     10"
      ]
     },
     "execution_count": 219,
     "metadata": {},
     "output_type": "execute_result"
    }
   ],
   "source": [
    "nor_medals = medal_counter()\n",
    "nor_medals.head()"
   ]
  },
  {
   "cell_type": "code",
   "execution_count": null,
   "metadata": {},
   "outputs": [],
   "source": []
  },
  {
   "cell_type": "code",
   "execution_count": 220,
   "metadata": {},
   "outputs": [
    {
     "data": {
      "application/vnd.plotly.v1+json": {
       "config": {
        "plotlyServerURL": "https://plot.ly"
       },
       "data": [
        {
         "hovertemplate": "Games=%{x}<br>Total=%{y}<extra></extra>",
         "legendgroup": "",
         "line": {
          "color": "#636efa",
          "dash": "solid"
         },
         "marker": {
          "symbol": "circle"
         },
         "mode": "lines+markers",
         "name": "",
         "orientation": "v",
         "showlegend": false,
         "type": "scatter",
         "x": [
          "1900 Summer",
          "1904 Summer",
          "1906 Summer",
          "1908 Summer",
          "1912 Summer",
          "1920 Summer",
          "1924 Summer",
          "1924 Winter",
          "1928 Summer",
          "1928 Winter",
          "1932 Summer",
          "1932 Winter",
          "1936 Summer",
          "1936 Winter",
          "1948 Summer",
          "1948 Winter",
          "1952 Summer",
          "1952 Winter",
          "1956 Summer",
          "1956 Winter",
          "1960 Summer",
          "1960 Winter",
          "1964 Summer",
          "1964 Winter",
          "1968 Summer",
          "1968 Winter",
          "1972 Summer",
          "1972 Winter",
          "1976 Summer",
          "1976 Winter",
          "1980 Winter",
          "1984 Summer",
          "1984 Winter",
          "1988 Summer",
          "1988 Winter",
          "1992 Summer",
          "1992 Winter",
          "1994 Winter",
          "1996 Summer",
          "1998 Winter",
          "2000 Summer",
          "2002 Winter",
          "2004 Summer",
          "2006 Winter",
          "2008 Summer",
          "2010 Winter",
          "2012 Summer",
          "2014 Winter",
          "2016 Summer"
         ],
         "xaxis": "x",
         "y": [
          5,
          2,
          2,
          8,
          10,
          32,
          10,
          17,
          4,
          15,
          0,
          10,
          6,
          15,
          7,
          10,
          5,
          16,
          3,
          4,
          1,
          6,
          0,
          15,
          2,
          14,
          4,
          12,
          2,
          7,
          10,
          3,
          9,
          5,
          5,
          7,
          17,
          23,
          7,
          22,
          10,
          24,
          6,
          19,
          9,
          23,
          4,
          26,
          4
         ],
         "yaxis": "y"
        }
       ],
       "layout": {
        "legend": {
         "tracegroupgap": 0
        },
        "template": {
         "data": {
          "bar": [
           {
            "error_x": {
             "color": "#2a3f5f"
            },
            "error_y": {
             "color": "#2a3f5f"
            },
            "marker": {
             "line": {
              "color": "#E5ECF6",
              "width": 0.5
             },
             "pattern": {
              "fillmode": "overlay",
              "size": 10,
              "solidity": 0.2
             }
            },
            "type": "bar"
           }
          ],
          "barpolar": [
           {
            "marker": {
             "line": {
              "color": "#E5ECF6",
              "width": 0.5
             },
             "pattern": {
              "fillmode": "overlay",
              "size": 10,
              "solidity": 0.2
             }
            },
            "type": "barpolar"
           }
          ],
          "carpet": [
           {
            "aaxis": {
             "endlinecolor": "#2a3f5f",
             "gridcolor": "white",
             "linecolor": "white",
             "minorgridcolor": "white",
             "startlinecolor": "#2a3f5f"
            },
            "baxis": {
             "endlinecolor": "#2a3f5f",
             "gridcolor": "white",
             "linecolor": "white",
             "minorgridcolor": "white",
             "startlinecolor": "#2a3f5f"
            },
            "type": "carpet"
           }
          ],
          "choropleth": [
           {
            "colorbar": {
             "outlinewidth": 0,
             "ticks": ""
            },
            "type": "choropleth"
           }
          ],
          "contour": [
           {
            "colorbar": {
             "outlinewidth": 0,
             "ticks": ""
            },
            "colorscale": [
             [
              0,
              "#0d0887"
             ],
             [
              0.1111111111111111,
              "#46039f"
             ],
             [
              0.2222222222222222,
              "#7201a8"
             ],
             [
              0.3333333333333333,
              "#9c179e"
             ],
             [
              0.4444444444444444,
              "#bd3786"
             ],
             [
              0.5555555555555556,
              "#d8576b"
             ],
             [
              0.6666666666666666,
              "#ed7953"
             ],
             [
              0.7777777777777778,
              "#fb9f3a"
             ],
             [
              0.8888888888888888,
              "#fdca26"
             ],
             [
              1,
              "#f0f921"
             ]
            ],
            "type": "contour"
           }
          ],
          "contourcarpet": [
           {
            "colorbar": {
             "outlinewidth": 0,
             "ticks": ""
            },
            "type": "contourcarpet"
           }
          ],
          "heatmap": [
           {
            "colorbar": {
             "outlinewidth": 0,
             "ticks": ""
            },
            "colorscale": [
             [
              0,
              "#0d0887"
             ],
             [
              0.1111111111111111,
              "#46039f"
             ],
             [
              0.2222222222222222,
              "#7201a8"
             ],
             [
              0.3333333333333333,
              "#9c179e"
             ],
             [
              0.4444444444444444,
              "#bd3786"
             ],
             [
              0.5555555555555556,
              "#d8576b"
             ],
             [
              0.6666666666666666,
              "#ed7953"
             ],
             [
              0.7777777777777778,
              "#fb9f3a"
             ],
             [
              0.8888888888888888,
              "#fdca26"
             ],
             [
              1,
              "#f0f921"
             ]
            ],
            "type": "heatmap"
           }
          ],
          "heatmapgl": [
           {
            "colorbar": {
             "outlinewidth": 0,
             "ticks": ""
            },
            "colorscale": [
             [
              0,
              "#0d0887"
             ],
             [
              0.1111111111111111,
              "#46039f"
             ],
             [
              0.2222222222222222,
              "#7201a8"
             ],
             [
              0.3333333333333333,
              "#9c179e"
             ],
             [
              0.4444444444444444,
              "#bd3786"
             ],
             [
              0.5555555555555556,
              "#d8576b"
             ],
             [
              0.6666666666666666,
              "#ed7953"
             ],
             [
              0.7777777777777778,
              "#fb9f3a"
             ],
             [
              0.8888888888888888,
              "#fdca26"
             ],
             [
              1,
              "#f0f921"
             ]
            ],
            "type": "heatmapgl"
           }
          ],
          "histogram": [
           {
            "marker": {
             "pattern": {
              "fillmode": "overlay",
              "size": 10,
              "solidity": 0.2
             }
            },
            "type": "histogram"
           }
          ],
          "histogram2d": [
           {
            "colorbar": {
             "outlinewidth": 0,
             "ticks": ""
            },
            "colorscale": [
             [
              0,
              "#0d0887"
             ],
             [
              0.1111111111111111,
              "#46039f"
             ],
             [
              0.2222222222222222,
              "#7201a8"
             ],
             [
              0.3333333333333333,
              "#9c179e"
             ],
             [
              0.4444444444444444,
              "#bd3786"
             ],
             [
              0.5555555555555556,
              "#d8576b"
             ],
             [
              0.6666666666666666,
              "#ed7953"
             ],
             [
              0.7777777777777778,
              "#fb9f3a"
             ],
             [
              0.8888888888888888,
              "#fdca26"
             ],
             [
              1,
              "#f0f921"
             ]
            ],
            "type": "histogram2d"
           }
          ],
          "histogram2dcontour": [
           {
            "colorbar": {
             "outlinewidth": 0,
             "ticks": ""
            },
            "colorscale": [
             [
              0,
              "#0d0887"
             ],
             [
              0.1111111111111111,
              "#46039f"
             ],
             [
              0.2222222222222222,
              "#7201a8"
             ],
             [
              0.3333333333333333,
              "#9c179e"
             ],
             [
              0.4444444444444444,
              "#bd3786"
             ],
             [
              0.5555555555555556,
              "#d8576b"
             ],
             [
              0.6666666666666666,
              "#ed7953"
             ],
             [
              0.7777777777777778,
              "#fb9f3a"
             ],
             [
              0.8888888888888888,
              "#fdca26"
             ],
             [
              1,
              "#f0f921"
             ]
            ],
            "type": "histogram2dcontour"
           }
          ],
          "mesh3d": [
           {
            "colorbar": {
             "outlinewidth": 0,
             "ticks": ""
            },
            "type": "mesh3d"
           }
          ],
          "parcoords": [
           {
            "line": {
             "colorbar": {
              "outlinewidth": 0,
              "ticks": ""
             }
            },
            "type": "parcoords"
           }
          ],
          "pie": [
           {
            "automargin": true,
            "type": "pie"
           }
          ],
          "scatter": [
           {
            "fillpattern": {
             "fillmode": "overlay",
             "size": 10,
             "solidity": 0.2
            },
            "type": "scatter"
           }
          ],
          "scatter3d": [
           {
            "line": {
             "colorbar": {
              "outlinewidth": 0,
              "ticks": ""
             }
            },
            "marker": {
             "colorbar": {
              "outlinewidth": 0,
              "ticks": ""
             }
            },
            "type": "scatter3d"
           }
          ],
          "scattercarpet": [
           {
            "marker": {
             "colorbar": {
              "outlinewidth": 0,
              "ticks": ""
             }
            },
            "type": "scattercarpet"
           }
          ],
          "scattergeo": [
           {
            "marker": {
             "colorbar": {
              "outlinewidth": 0,
              "ticks": ""
             }
            },
            "type": "scattergeo"
           }
          ],
          "scattergl": [
           {
            "marker": {
             "colorbar": {
              "outlinewidth": 0,
              "ticks": ""
             }
            },
            "type": "scattergl"
           }
          ],
          "scattermapbox": [
           {
            "marker": {
             "colorbar": {
              "outlinewidth": 0,
              "ticks": ""
             }
            },
            "type": "scattermapbox"
           }
          ],
          "scatterpolar": [
           {
            "marker": {
             "colorbar": {
              "outlinewidth": 0,
              "ticks": ""
             }
            },
            "type": "scatterpolar"
           }
          ],
          "scatterpolargl": [
           {
            "marker": {
             "colorbar": {
              "outlinewidth": 0,
              "ticks": ""
             }
            },
            "type": "scatterpolargl"
           }
          ],
          "scatterternary": [
           {
            "marker": {
             "colorbar": {
              "outlinewidth": 0,
              "ticks": ""
             }
            },
            "type": "scatterternary"
           }
          ],
          "surface": [
           {
            "colorbar": {
             "outlinewidth": 0,
             "ticks": ""
            },
            "colorscale": [
             [
              0,
              "#0d0887"
             ],
             [
              0.1111111111111111,
              "#46039f"
             ],
             [
              0.2222222222222222,
              "#7201a8"
             ],
             [
              0.3333333333333333,
              "#9c179e"
             ],
             [
              0.4444444444444444,
              "#bd3786"
             ],
             [
              0.5555555555555556,
              "#d8576b"
             ],
             [
              0.6666666666666666,
              "#ed7953"
             ],
             [
              0.7777777777777778,
              "#fb9f3a"
             ],
             [
              0.8888888888888888,
              "#fdca26"
             ],
             [
              1,
              "#f0f921"
             ]
            ],
            "type": "surface"
           }
          ],
          "table": [
           {
            "cells": {
             "fill": {
              "color": "#EBF0F8"
             },
             "line": {
              "color": "white"
             }
            },
            "header": {
             "fill": {
              "color": "#C8D4E3"
             },
             "line": {
              "color": "white"
             }
            },
            "type": "table"
           }
          ]
         },
         "layout": {
          "annotationdefaults": {
           "arrowcolor": "#2a3f5f",
           "arrowhead": 0,
           "arrowwidth": 1
          },
          "autotypenumbers": "strict",
          "coloraxis": {
           "colorbar": {
            "outlinewidth": 0,
            "ticks": ""
           }
          },
          "colorscale": {
           "diverging": [
            [
             0,
             "#8e0152"
            ],
            [
             0.1,
             "#c51b7d"
            ],
            [
             0.2,
             "#de77ae"
            ],
            [
             0.3,
             "#f1b6da"
            ],
            [
             0.4,
             "#fde0ef"
            ],
            [
             0.5,
             "#f7f7f7"
            ],
            [
             0.6,
             "#e6f5d0"
            ],
            [
             0.7,
             "#b8e186"
            ],
            [
             0.8,
             "#7fbc41"
            ],
            [
             0.9,
             "#4d9221"
            ],
            [
             1,
             "#276419"
            ]
           ],
           "sequential": [
            [
             0,
             "#0d0887"
            ],
            [
             0.1111111111111111,
             "#46039f"
            ],
            [
             0.2222222222222222,
             "#7201a8"
            ],
            [
             0.3333333333333333,
             "#9c179e"
            ],
            [
             0.4444444444444444,
             "#bd3786"
            ],
            [
             0.5555555555555556,
             "#d8576b"
            ],
            [
             0.6666666666666666,
             "#ed7953"
            ],
            [
             0.7777777777777778,
             "#fb9f3a"
            ],
            [
             0.8888888888888888,
             "#fdca26"
            ],
            [
             1,
             "#f0f921"
            ]
           ],
           "sequentialminus": [
            [
             0,
             "#0d0887"
            ],
            [
             0.1111111111111111,
             "#46039f"
            ],
            [
             0.2222222222222222,
             "#7201a8"
            ],
            [
             0.3333333333333333,
             "#9c179e"
            ],
            [
             0.4444444444444444,
             "#bd3786"
            ],
            [
             0.5555555555555556,
             "#d8576b"
            ],
            [
             0.6666666666666666,
             "#ed7953"
            ],
            [
             0.7777777777777778,
             "#fb9f3a"
            ],
            [
             0.8888888888888888,
             "#fdca26"
            ],
            [
             1,
             "#f0f921"
            ]
           ]
          },
          "colorway": [
           "#636efa",
           "#EF553B",
           "#00cc96",
           "#ab63fa",
           "#FFA15A",
           "#19d3f3",
           "#FF6692",
           "#B6E880",
           "#FF97FF",
           "#FECB52"
          ],
          "font": {
           "color": "#2a3f5f"
          },
          "geo": {
           "bgcolor": "white",
           "lakecolor": "white",
           "landcolor": "#E5ECF6",
           "showlakes": true,
           "showland": true,
           "subunitcolor": "white"
          },
          "hoverlabel": {
           "align": "left"
          },
          "hovermode": "closest",
          "mapbox": {
           "style": "light"
          },
          "paper_bgcolor": "white",
          "plot_bgcolor": "#E5ECF6",
          "polar": {
           "angularaxis": {
            "gridcolor": "white",
            "linecolor": "white",
            "ticks": ""
           },
           "bgcolor": "#E5ECF6",
           "radialaxis": {
            "gridcolor": "white",
            "linecolor": "white",
            "ticks": ""
           }
          },
          "scene": {
           "xaxis": {
            "backgroundcolor": "#E5ECF6",
            "gridcolor": "white",
            "gridwidth": 2,
            "linecolor": "white",
            "showbackground": true,
            "ticks": "",
            "zerolinecolor": "white"
           },
           "yaxis": {
            "backgroundcolor": "#E5ECF6",
            "gridcolor": "white",
            "gridwidth": 2,
            "linecolor": "white",
            "showbackground": true,
            "ticks": "",
            "zerolinecolor": "white"
           },
           "zaxis": {
            "backgroundcolor": "#E5ECF6",
            "gridcolor": "white",
            "gridwidth": 2,
            "linecolor": "white",
            "showbackground": true,
            "ticks": "",
            "zerolinecolor": "white"
           }
          },
          "shapedefaults": {
           "line": {
            "color": "#2a3f5f"
           }
          },
          "ternary": {
           "aaxis": {
            "gridcolor": "white",
            "linecolor": "white",
            "ticks": ""
           },
           "baxis": {
            "gridcolor": "white",
            "linecolor": "white",
            "ticks": ""
           },
           "bgcolor": "#E5ECF6",
           "caxis": {
            "gridcolor": "white",
            "linecolor": "white",
            "ticks": ""
           }
          },
          "title": {
           "x": 0.05
          },
          "xaxis": {
           "automargin": true,
           "gridcolor": "white",
           "linecolor": "white",
           "ticks": "",
           "title": {
            "standoff": 15
           },
           "zerolinecolor": "white",
           "zerolinewidth": 2
          },
          "yaxis": {
           "automargin": true,
           "gridcolor": "white",
           "linecolor": "white",
           "ticks": "",
           "title": {
            "standoff": 15
           },
           "zerolinecolor": "white",
           "zerolinewidth": 2
          }
         }
        },
        "title": {
         "text": "Medals won by Norway in the Olympics"
        },
        "xaxis": {
         "anchor": "y",
         "domain": [
          0,
          1
         ],
         "title": {
          "text": "Games"
         }
        },
        "yaxis": {
         "anchor": "x",
         "domain": [
          0,
          1
         ],
         "title": {
          "text": "Total"
         }
        }
       }
      }
     },
     "metadata": {},
     "output_type": "display_data"
    }
   ],
   "source": [
    "fig = px.line(nor_medals, x=nor_medals.index, y=\"Total\", markers=True, title=\"Medals won by Norway in the Olympics\")\n",
    "fig.show()"
   ]
  },
  {
   "cell_type": "markdown",
   "metadata": {},
   "source": [
    "## Gender distribution  \n",
    "\n",
    "### Perhaps  \n",
    "* age  \n",
    "* medals  \n",
    "* px subplot pie chart of women w/ medals vs women participating, same for men  \n",
    "* sns barplot (countplot?) of women particiapting through the years\n",
    "* best sports"
   ]
  },
  {
   "cell_type": "code",
   "execution_count": 221,
   "metadata": {},
   "outputs": [
    {
     "data": {
      "application/vnd.plotly.v1+json": {
       "config": {
        "plotlyServerURL": "https://plot.ly"
       },
       "data": [
        {
         "alignmentgroup": "True",
         "bingroup": "x",
         "hovertemplate": "Gender=M<br>Age=%{x}<br>count=%{y}<extra></extra>",
         "legendgroup": "M",
         "marker": {
          "color": "#636efa",
          "line": {
           "width": 1.5
          },
          "opacity": 0.5,
          "pattern": {
           "shape": ""
          }
         },
         "name": "M",
         "offsetgroup": "M",
         "orientation": "v",
         "showlegend": true,
         "type": "histogram",
         "x": [
          20,
          20,
          20,
          20,
          22,
          22,
          22,
          22,
          22,
          26,
          26,
          26,
          26,
          30,
          30,
          30,
          30,
          30,
          34,
          34,
          22,
          26,
          24,
          24,
          27,
          24,
          43,
          47,
          23,
          24,
          20,
          33,
          33,
          33,
          23,
          27,
          27,
          31,
          31,
          31,
          28,
          25,
          34,
          41,
          33,
          45,
          49,
          53,
          57,
          22,
          22,
          26,
          30,
          20,
          21,
          25,
          19,
          23,
          22,
          21,
          47,
          33,
          26,
          33,
          26,
          26,
          26,
          26,
          30,
          30,
          30,
          30,
          44,
          23,
          23,
          22,
          22,
          22,
          26,
          26,
          26,
          26,
          26,
          30,
          30,
          30,
          35,
          39,
          50,
          22,
          26,
          21,
          25,
          32,
          32,
          44,
          48,
          48,
          48,
          23,
          27,
          29,
          33,
          21,
          20,
          23,
          23,
          29,
          29,
          31,
          24,
          20,
          26,
          23,
          23,
          27,
          27,
          22,
          27,
          19,
          25,
          20,
          24,
          22,
          30,
          24,
          28,
          28,
          28,
          32,
          32,
          29,
          23,
          23,
          28,
          26,
          34,
          20,
          16,
          21,
          25,
          27,
          22,
          28,
          28,
          32,
          32,
          24,
          18,
          18,
          26,
          26,
          23,
          23,
          27,
          27,
          20,
          20,
          22,
          23,
          27,
          27,
          24,
          24,
          28,
          28,
          28,
          28,
          32,
          32,
          32,
          32,
          32,
          26,
          26,
          27,
          27,
          20,
          23,
          23,
          27,
          27,
          31,
          24,
          24,
          25,
          25,
          25,
          24,
          24,
          36,
          40,
          56,
          24,
          24,
          24,
          24,
          28,
          28,
          23,
          23,
          25,
          25,
          19,
          19,
          19,
          41,
          23,
          21,
          27,
          27,
          22,
          25,
          29,
          29,
          33,
          33,
          25,
          23,
          23,
          27,
          21,
          22,
          29,
          29,
          29,
          29,
          33,
          33,
          25,
          23,
          23,
          23,
          27,
          27,
          27,
          25,
          21,
          17,
          21,
          28,
          21,
          21,
          22,
          24,
          27,
          27,
          27,
          31,
          31,
          22,
          26,
          24,
          24,
          23,
          23,
          27,
          27,
          27,
          31,
          31,
          31,
          31,
          19,
          19,
          19,
          27,
          27,
          27,
          31,
          31,
          31,
          21,
          25,
          24,
          32,
          23,
          27,
          27,
          31,
          35,
          31,
          21,
          20,
          29,
          33,
          25,
          29,
          23,
          23,
          20,
          21,
          25,
          23,
          25,
          29,
          45,
          29,
          20,
          19,
          27,
          23,
          27,
          28,
          28,
          29,
          23,
          26,
          26,
          28,
          28,
          28,
          25,
          20,
          20,
          22,
          22,
          22,
          23,
          30,
          30,
          30,
          34,
          34,
          34,
          38,
          38,
          22,
          22,
          26,
          26,
          25,
          29,
          33,
          23,
          25,
          30,
          30,
          30,
          23,
          27,
          45,
          50,
          19,
          19,
          23,
          23,
          27,
          22,
          23,
          24,
          27,
          22,
          22,
          24,
          29,
          33,
          33,
          37,
          37,
          37,
          21,
          28,
          32,
          25,
          22,
          24,
          24,
          24,
          24,
          25,
          27,
          31,
          33,
          25,
          32,
          21,
          31,
          24,
          18,
          30,
          21,
          25,
          22,
          21,
          25,
          28,
          24,
          25,
          29,
          29,
          23,
          28,
          23,
          27,
          27,
          20,
          20,
          20,
          24,
          24,
          24,
          28,
          28,
          28,
          28,
          28,
          32,
          32,
          32,
          32,
          32,
          36,
          36,
          36,
          36,
          36,
          40,
          40,
          40,
          40,
          40,
          40,
          21,
          25,
          25,
          28,
          31,
          31,
          47,
          47,
          23,
          24,
          24,
          26,
          29,
          23,
          26,
          25,
          25,
          32,
          23,
          22,
          26,
          26,
          21,
          24,
          17,
          23,
          23,
          27,
          22,
          26,
          24,
          17,
          17,
          25,
          25,
          25,
          41,
          26,
          30,
          23,
          23,
          27,
          20,
          20,
          20,
          20,
          20,
          21,
          21,
          25,
          25,
          25,
          25,
          25,
          29,
          33,
          33,
          19,
          19,
          19,
          23,
          23,
          23,
          23,
          23,
          27,
          27,
          27,
          27,
          20,
          23,
          27,
          22,
          26,
          34,
          20,
          20,
          24,
          24,
          28,
          28,
          28,
          28,
          32,
          36,
          36,
          23,
          31,
          31,
          31,
          31,
          33,
          33,
          38,
          38,
          27,
          22,
          22,
          18,
          23,
          21,
          18,
          21,
          21,
          32,
          40,
          24,
          24,
          24,
          26,
          26,
          26,
          30,
          21,
          21,
          30,
          26,
          30,
          27,
          31,
          31,
          23,
          23,
          26,
          26,
          26,
          31,
          31,
          31,
          31,
          21,
          21,
          21,
          27,
          27,
          30,
          20,
          20,
          28,
          38,
          42,
          27,
          27,
          31,
          35,
          24,
          28,
          24,
          19,
          28,
          28,
          32,
          32,
          43,
          30,
          42,
          46,
          26,
          23,
          27,
          27,
          27,
          18,
          18,
          38,
          24,
          24,
          41,
          19,
          23,
          20,
          20,
          22,
          30,
          26,
          33,
          31,
          25,
          35,
          37,
          26,
          24,
          24,
          23,
          23,
          23,
          27,
          27,
          27,
          13,
          25,
          22,
          22,
          20,
          22,
          22,
          24,
          24,
          24,
          22,
          31,
          30,
          19,
          45,
          34,
          19,
          19,
          19,
          38,
          27,
          36,
          48,
          60,
          27,
          44,
          27,
          27,
          27,
          19,
          19,
          19,
          40,
          40,
          21,
          25,
          29,
          52,
          31,
          31,
          35,
          35,
          25,
          32,
          36,
          21,
          25,
          31,
          21,
          37,
          29,
          33,
          21,
          25,
          28,
          28,
          25,
          25,
          29,
          29,
          35,
          21,
          33,
          28,
          34,
          22,
          21,
          23,
          26,
          19,
          25,
          29,
          23,
          26,
          38,
          42,
          27,
          20,
          38,
          42,
          34,
          34,
          36,
          22,
          20,
          20,
          27,
          32,
          37,
          39,
          36,
          36,
          23,
          24,
          28,
          30,
          30,
          29,
          29,
          28,
          36,
          36,
          27,
          31,
          26,
          26,
          26,
          26,
          27,
          27,
          31,
          26,
          23,
          26,
          28,
          18,
          22,
          22,
          22,
          27,
          22,
          22,
          26,
          26,
          26,
          22,
          23,
          21,
          21,
          23,
          31,
          38,
          22,
          22,
          22,
          24,
          24,
          24,
          28,
          28,
          32,
          32,
          21,
          25,
          25,
          21,
          23,
          19,
          19,
          23,
          23,
          27,
          27,
          31,
          33,
          26,
          48,
          48,
          29,
          36,
          27,
          27,
          19,
          19,
          25,
          29,
          29,
          29,
          29,
          22,
          22,
          26,
          26,
          24,
          24,
          26,
          28,
          23,
          23,
          23,
          27,
          27,
          19,
          17,
          33,
          33,
          22,
          31,
          29,
          31,
          35,
          29,
          29,
          33,
          33,
          33,
          25,
          25,
          32,
          24,
          21,
          25,
          24,
          25,
          25,
          25,
          25,
          29,
          29,
          29,
          25,
          25,
          25,
          25,
          20,
          20,
          20,
          24,
          24,
          24,
          24,
          23,
          20,
          27,
          27,
          31,
          31,
          31,
          27,
          27,
          27,
          27,
          29,
          29,
          29,
          29,
          33,
          33,
          33,
          33,
          33,
          22,
          22,
          22,
          22,
          26,
          26,
          26,
          26,
          33,
          33,
          22,
          24,
          24,
          29,
          25,
          27,
          22,
          26,
          21,
          33,
          37,
          24,
          23,
          23,
          23,
          27,
          27,
          27,
          24,
          36,
          36,
          44,
          22,
          22,
          22,
          26,
          26,
          34,
          34,
          35,
          27,
          32,
          22,
          22,
          22,
          27,
          27,
          30,
          30,
          28,
          32,
          32,
          24,
          24,
          28,
          28,
          32,
          40,
          24,
          25,
          23,
          27,
          27,
          29,
          29,
          23,
          23,
          26,
          36,
          36,
          24,
          22,
          22,
          29,
          23,
          23,
          27,
          27,
          19,
          21,
          27,
          25,
          25,
          25,
          25,
          25,
          25,
          24,
          20,
          20,
          24,
          24,
          24,
          24,
          23,
          23,
          23,
          27,
          25,
          20,
          24,
          28,
          29,
          33,
          23,
          27,
          23,
          35,
          35,
          21,
          19,
          53,
          23,
          27,
          26,
          22,
          25,
          37,
          37,
          37,
          37,
          37,
          21,
          28,
          19,
          22,
          22,
          25,
          25,
          25,
          25,
          27,
          27,
          31,
          35,
          20,
          20,
          30,
          22,
          24,
          25,
          38,
          25,
          35,
          39,
          21,
          24,
          24,
          28,
          28,
          28,
          28,
          24,
          24,
          22,
          22,
          26,
          26,
          30,
          30,
          27,
          27,
          28,
          25,
          25,
          25,
          25,
          25,
          25,
          25,
          18,
          22,
          26,
          34,
          21,
          25,
          27,
          27,
          39,
          39,
          39,
          43,
          43,
          27,
          28,
          23,
          30,
          22,
          22,
          29,
          25,
          37,
          24,
          27,
          27,
          24,
          24,
          24,
          26,
          30,
          21,
          25,
          23,
          32,
          29,
          22,
          23,
          23,
          32,
          17,
          21,
          25,
          25,
          28,
          28,
          28,
          17,
          20,
          25,
          25,
          25,
          29,
          29,
          29,
          29,
          33,
          33,
          33,
          33,
          21,
          25,
          25,
          24,
          24,
          24,
          28,
          28,
          32,
          32,
          25,
          26,
          31,
          34,
          38,
          22,
          19,
          19,
          22,
          22,
          22,
          22,
          21,
          30,
          48,
          48,
          25,
          29,
          23,
          19,
          24,
          28,
          24,
          24,
          27,
          27,
          23,
          18,
          29,
          20,
          32,
          38,
          28,
          32,
          21,
          21,
          23,
          35,
          22,
          24,
          24,
          22,
          24,
          24,
          24,
          24,
          24,
          25,
          25,
          29,
          32,
          32,
          40,
          40,
          35,
          28,
          32,
          25,
          19,
          24,
          24,
          36,
          36,
          27,
          27,
          21,
          25,
          25,
          29,
          29,
          23,
          22,
          28,
          28,
          28,
          26,
          26,
          32,
          32,
          24,
          24,
          24,
          28,
          28,
          28,
          19,
          19,
          19,
          23,
          23,
          23,
          27,
          32,
          23,
          18,
          18,
          20,
          20,
          20,
          24,
          24,
          22,
          22,
          21,
          28,
          28,
          27,
          29,
          22,
          25,
          25,
          27,
          30,
          34,
          21,
          25,
          25,
          25,
          29,
          29,
          27,
          27,
          23,
          23,
          24,
          24,
          28,
          28,
          28,
          32,
          32,
          32,
          32,
          36,
          36,
          36,
          36,
          36,
          40,
          40,
          40,
          40,
          24,
          24,
          28,
          36,
          40,
          25,
          25,
          26,
          30,
          30,
          34,
          26,
          27,
          30,
          32,
          17,
          28,
          33,
          23,
          26,
          23,
          25,
          24,
          31,
          35,
          17,
          27,
          31,
          23,
          29,
          23,
          20,
          24,
          28,
          23,
          24,
          29,
          29,
          28,
          24,
          27,
          28,
          26,
          27,
          31,
          35,
          24,
          24,
          24,
          41,
          32,
          36,
          28,
          28,
          28,
          42,
          28,
          23,
          27,
          31,
          31,
          27,
          25,
          23,
          29,
          29,
          29,
          29,
          29,
          29,
          29,
          26,
          30,
          22,
          22,
          26,
          26,
          22,
          24,
          27,
          19,
          19,
          24,
          27,
          27,
          26,
          26,
          30,
          26,
          18,
          20,
          33,
          33,
          26,
          29,
          33,
          33,
          32,
          29,
          29,
          33,
          27,
          36,
          35,
          35,
          39,
          39,
          26,
          30,
          34,
          29,
          29,
          29,
          29,
          29,
          31,
          31,
          31,
          35,
          35,
          35,
          35,
          43,
          43,
          43,
          43,
          43,
          43,
          43,
          43,
          43,
          28,
          32,
          31,
          23,
          20,
          27,
          41,
          23,
          27,
          31,
          31,
          33,
          33,
          18,
          18,
          26,
          26,
          21,
          26,
          35,
          24,
          24,
          22,
          20,
          25,
          24,
          29,
          29,
          29,
          29,
          29,
          38,
          27,
          20,
          24,
          21,
          24,
          28,
          28,
          32,
          32,
          32,
          23,
          22,
          22,
          22,
          30,
          30,
          34,
          34,
          38,
          38,
          18,
          29,
          29,
          29,
          24,
          32,
          36,
          30,
          30,
          34,
          25,
          36,
          24,
          28,
          22,
          21,
          25,
          21,
          21,
          22,
          26,
          28,
          27,
          31,
          27,
          27,
          27,
          26,
          23,
          25,
          25,
          29,
          37,
          37,
          36,
          28,
          21,
          21,
          21,
          35,
          35,
          35,
          35,
          21,
          20,
          23,
          23,
          27,
          27,
          32,
          32,
          30,
          21,
          29,
          29,
          24,
          30,
          43,
          43,
          47,
          47,
          24,
          25,
          25,
          25,
          29,
          29,
          19,
          33,
          25,
          21,
          22,
          26,
          23,
          20,
          27,
          28,
          28,
          30,
          30,
          28,
          20,
          20,
          27,
          29,
          33,
          29,
          21,
          21,
          25,
          29,
          26,
          30,
          21,
          23,
          26,
          25,
          29,
          29,
          29,
          24,
          34,
          34,
          29,
          29,
          22,
          22,
          26,
          26,
          25,
          25,
          27,
          28,
          25,
          31,
          21,
          23,
          23,
          27,
          23,
          21,
          25,
          19,
          24,
          24,
          24,
          28,
          23,
          24,
          25,
          22,
          26,
          30,
          30,
          23,
          21,
          21,
          29,
          23,
          23,
          21,
          20,
          24,
          24,
          25,
          25,
          29,
          20,
          24,
          24,
          24,
          28,
          28,
          28,
          24,
          21,
          24,
          21,
          21,
          21,
          21,
          21,
          25,
          27,
          31,
          31,
          29,
          34,
          21,
          23,
          39,
          29,
          29,
          29,
          29,
          29,
          29,
          29,
          29,
          24,
          23,
          24,
          23,
          21,
          20,
          20,
          24,
          24,
          24,
          24,
          24,
          28,
          28,
          28,
          28,
          18,
          22,
          28,
          35,
          20,
          19,
          25,
          29,
          33,
          37,
          41,
          34,
          23,
          20,
          24,
          28,
          25,
          27,
          27,
          31,
          31,
          39,
          39,
          19,
          31,
          19,
          30,
          30,
          30,
          30,
          18,
          20,
          20,
          25,
          27,
          31,
          31,
          31,
          35,
          35,
          25,
          25,
          25,
          29,
          22,
          22,
          22,
          26,
          26,
          26,
          26,
          30,
          30,
          25,
          31,
          35,
          39,
          28,
          24,
          28,
          32,
          36,
          24,
          26,
          33,
          33,
          33,
          25,
          24,
          26,
          26,
          30,
          24,
          24,
          28,
          27,
          27,
          22,
          38,
          28,
          28,
          28,
          36,
          36,
          44,
          44,
          28,
          28,
          28,
          28,
          28,
          28,
          28,
          28,
          24,
          32,
          37,
          37,
          23,
          27,
          22,
          26,
          25,
          25,
          25,
          28,
          32,
          36,
          27,
          27,
          27,
          27,
          24,
          23,
          27,
          33,
          31,
          31,
          38,
          38,
          19,
          19,
          21,
          25,
          32,
          32,
          24,
          26,
          28,
          29,
          20,
          22,
          22,
          22,
          22,
          27,
          20,
          20,
          20,
          20,
          25,
          21,
          25,
          28,
          23,
          24,
          26,
          30,
          28,
          32,
          32,
          32,
          24,
          28,
          25,
          25,
          23,
          24,
          18,
          23,
          23,
          29,
          32,
          36,
          36,
          27,
          27,
          32,
          26,
          26,
          34,
          34,
          34,
          34,
          34,
          22,
          31,
          31,
          20,
          20,
          24,
          24,
          28,
          28,
          28,
          25,
          33,
          21,
          30,
          23,
          31,
          22,
          21,
          21,
          21,
          19,
          19,
          27,
          31,
          31,
          20,
          29,
          17,
          32,
          35,
          39,
          25,
          22,
          26,
          21,
          23,
          23,
          23,
          23,
          23,
          27,
          27,
          27,
          27,
          31,
          31,
          31,
          31,
          35,
          35,
          35,
          35,
          19,
          22,
          26,
          22,
          22,
          23,
          24,
          24,
          21,
          30,
          30,
          30,
          30,
          30,
          30,
          30,
          30,
          23,
          31,
          39,
          27,
          27,
          35,
          35,
          35,
          20,
          20,
          24,
          32,
          32,
          21,
          27,
          20,
          20,
          20,
          32,
          29,
          29,
          29,
          29,
          29,
          29,
          29,
          29,
          32,
          18,
          21,
          21,
          25,
          28,
          28,
          22,
          24,
          28,
          32,
          22,
          34,
          34,
          38,
          38,
          22,
          28,
          26,
          24,
          24,
          28,
          28,
          24,
          23,
          21,
          37,
          37,
          37,
          41,
          41,
          45,
          45,
          36,
          36,
          34,
          18,
          20,
          24,
          32,
          40,
          48,
          60,
          25,
          25,
          18,
          18,
          26,
          26,
          23,
          23,
          23,
          25,
          25,
          25,
          24,
          17,
          22,
          26,
          34,
          21,
          29,
          24,
          28,
          21,
          26,
          30,
          30,
          28,
          28,
          22,
          26,
          30,
          32,
          24,
          24,
          28,
          28,
          24,
          26,
          21,
          24,
          21,
          23,
          25,
          19,
          19,
          19,
          27,
          20,
          26,
          26,
          26,
          21,
          25,
          30,
          34,
          23,
          23,
          27,
          24,
          24,
          24,
          24,
          24,
          24,
          28,
          28,
          28,
          32,
          32,
          32,
          23,
          33,
          37,
          26,
          22,
          23,
          42,
          42,
          22,
          32,
          25,
          23,
          27,
          22,
          23,
          27,
          27,
          27,
          26,
          30,
          30,
          25,
          25,
          22,
          21,
          21,
          21,
          29,
          29,
          33,
          33,
          33,
          23,
          23,
          27,
          27,
          27,
          27,
          29,
          35,
          48,
          23,
          22,
          26,
          22,
          26,
          30,
          24,
          24,
          24,
          28,
          28,
          28,
          32,
          32,
          36,
          30,
          20,
          28,
          33,
          41,
          23,
          23,
          23,
          27,
          27,
          27,
          22,
          20,
          24,
          24,
          21,
          26,
          26,
          26,
          26,
          26,
          30,
          30,
          30,
          27,
          21,
          28,
          29,
          38,
          43,
          27,
          34,
          27,
          25,
          24,
          28,
          19,
          23,
          23,
          26,
          30,
          30,
          30,
          34,
          34,
          38,
          38,
          46,
          46,
          46,
          46,
          50,
          50,
          50,
          50,
          50,
          25,
          20,
          25,
          25,
          25,
          25,
          25,
          25,
          25,
          25,
          22,
          42,
          46,
          28,
          26,
          26,
          26,
          26,
          26,
          26,
          26,
          25,
          36,
          36,
          36,
          36,
          41,
          41,
          41,
          41,
          41,
          41,
          21,
          26,
          30,
          21,
          21,
          19,
          33,
          33,
          33,
          19,
          23,
          23,
          23,
          27,
          27,
          17,
          21,
          21,
          21,
          25,
          25,
          25,
          29,
          29,
          29,
          30,
          19,
          23,
          21,
          25,
          22,
          27,
          27,
          27,
          31,
          31,
          31,
          31,
          21,
          21,
          21,
          21,
          27,
          22,
          19,
          25,
          25,
          25,
          29,
          29,
          27,
          24,
          28,
          24,
          24,
          22,
          26,
          21,
          25,
          29,
          29,
          29,
          23,
          39,
          28,
          35,
          42,
          24,
          22,
          22,
          24,
          24,
          28,
          28,
          30,
          30,
          30,
          26,
          36,
          24,
          28,
          44,
          44,
          18,
          26,
          30,
          34,
          34,
          38,
          21,
          25,
          25,
          19,
          26,
          25,
          21,
          25,
          25,
          21,
          23,
          24,
          26,
          24,
          28,
          32,
          36,
          25,
          25,
          25,
          25,
          25,
          25,
          25,
          25,
          42,
          42,
          22,
          22,
          22,
          21,
          25,
          25,
          25,
          29,
          29,
          26,
          28,
          28,
          31,
          20,
          20,
          23,
          27,
          35,
          37,
          26,
          27,
          24,
          27,
          31,
          25,
          25,
          25,
          25,
          33,
          33,
          33,
          24,
          21,
          23,
          27,
          18,
          22,
          26,
          34,
          20,
          20,
          24,
          24,
          24,
          36,
          38,
          28,
          28,
          32,
          32,
          27,
          26,
          26,
          19,
          22,
          22,
          22,
          22,
          22,
          23,
          28,
          28,
          40,
          25,
          31,
          35,
          20,
          39,
          47,
          24,
          31,
          21,
          21,
          23,
          27,
          22,
          22,
          26,
          26,
          26,
          26,
          24,
          24,
          28,
          26,
          23,
          23,
          22,
          22,
          26,
          26,
          26,
          30,
          30,
          30,
          20,
          20,
          25,
          29,
          33,
          37,
          20,
          19,
          19,
          20,
          27,
          31,
          24,
          26,
          26,
          26,
          26,
          26,
          25,
          25,
          27,
          26,
          20,
          24,
          27,
          45,
          19,
          24,
          24,
          19,
          33,
          30,
          44,
          40,
          40,
          40,
          40,
          23,
          22,
          22,
          26,
          26,
          25,
          36,
          36,
          20,
          20,
          20,
          24,
          24,
          21,
          19,
          24,
          39,
          25,
          29,
          21,
          25,
          25,
          25,
          25,
          29,
          29,
          21,
          28,
          28,
          28,
          32,
          32,
          31,
          26,
          30,
          26,
          29,
          28,
          28,
          47,
          47,
          47,
          47,
          51,
          51,
          51,
          51,
          51,
          20,
          23,
          31,
          34,
          34,
          25,
          23,
          31,
          19,
          20,
          27,
          35,
          39,
          26,
          21,
          21,
          33,
          37,
          34,
          38,
          23,
          23,
          27,
          27,
          27,
          36,
          49,
          24,
          25,
          22,
          22,
          22,
          22,
          31,
          19,
          19,
          18,
          25,
          21,
          22,
          26,
          23,
          22,
          22,
          27,
          26,
          23,
          27,
          31,
          33,
          28,
          20,
          20,
          20,
          28,
          20,
          31,
          31,
          24,
          24,
          26,
          26,
          30,
          30,
          34,
          34,
          22,
          23,
          26,
          30,
          19,
          24,
          28,
          32,
          30,
          29,
          31,
          31,
          39,
          39,
          39,
          25,
          20,
          20,
          24,
          24,
          32,
          30,
          24,
          24,
          24,
          24,
          24,
          24,
          28,
          28,
          28,
          28,
          28,
          25,
          35,
          35,
          35,
          35,
          35,
          35,
          35,
          35,
          21,
          24,
          24,
          19,
          25,
          25,
          38,
          21,
          21,
          21,
          21,
          27,
          31,
          35,
          33,
          33,
          33,
          25,
          25,
          25,
          26,
          19,
          23,
          23,
          26,
          36,
          36,
          40,
          27,
          19,
          24,
          21,
          23,
          25,
          24,
          28,
          26,
          26,
          26,
          26,
          26,
          26,
          26,
          26,
          32,
          32,
          19,
          21,
          19,
          19,
          28,
          22,
          24,
          24,
          28,
          19,
          25,
          21,
          21,
          21,
          18,
          18,
          22,
          22,
          26,
          36,
          22,
          27,
          27,
          27,
          27,
          26,
          26,
          30,
          35,
          35,
          35,
          35,
          35,
          35,
          35,
          35,
          35,
          39,
          39,
          39,
          39,
          39,
          17,
          17,
          23,
          23,
          26,
          36,
          24,
          28,
          38,
          26,
          22,
          22,
          30,
          22,
          15,
          30,
          22,
          28,
          28,
          21,
          23,
          21,
          24,
          38,
          38,
          38,
          38,
          38,
          22,
          22,
          26,
          26,
          18,
          26,
          29,
          24,
          27,
          31,
          21,
          29,
          29,
          29,
          29,
          54,
          20,
          25,
          22,
          26,
          24,
          30,
          28,
          30,
          29,
          23,
          24,
          24,
          24,
          28,
          28,
          28,
          28,
          25,
          25,
          29,
          29,
          34,
          34,
          20,
          24,
          28,
          33,
          33,
          41,
          41,
          41,
          41,
          41,
          41,
          41,
          41,
          30,
          30,
          29,
          42,
          43,
          35,
          47,
          33,
          33,
          33,
          33,
          33,
          24,
          17,
          17,
          17,
          19,
          19,
          19,
          23,
          23,
          26,
          30,
          21,
          21,
          21,
          19,
          19,
          19,
          23,
          23,
          23,
          23,
          20,
          20,
          21,
          22,
          21,
          28,
          28,
          21,
          26,
          25,
          21,
          21,
          20,
          25,
          24,
          25,
          23,
          23,
          25,
          30,
          24,
          21,
          25,
          21,
          24,
          23,
          23,
          26,
          23,
          23,
          23,
          21,
          25,
          28,
          24,
          19,
          29,
          21,
          21,
          21,
          17,
          21,
          23,
          35,
          20,
          26,
          30,
          28,
          21,
          28,
          28,
          26,
          30,
          20,
          25,
          25,
          17,
          27,
          27,
          30,
          30,
          25,
          34,
          22,
          25,
          28,
          28,
          32,
          32,
          40,
          40,
          40,
          40,
          31,
          34,
          38,
          42,
          24,
          33,
          25,
          20,
          28,
          28,
          28,
          32,
          26,
          21,
          22,
          26,
          21,
          23,
          23,
          24,
          24,
          34,
          34,
          41,
          26,
          22,
          21,
          23,
          28,
          23,
          29,
          29,
          25,
          25,
          22,
          35,
          25,
          21,
          44,
          48,
          24,
          28,
          28,
          21,
          21,
          22,
          22,
          26,
          26,
          37,
          41,
          19,
          23,
          27,
          27,
          27,
          22,
          24,
          26,
          25,
          29,
          33,
          23,
          22,
          24,
          24,
          24,
          28,
          29,
          25,
          25,
          25,
          23,
          30,
          21,
          25,
          29,
          24,
          34,
          38,
          38,
          18,
          18,
          30,
          42,
          42,
          24,
          24,
          24,
          24,
          27,
          31,
          31,
          20,
          20,
          24,
          24,
          28,
          28,
          21,
          25,
          29,
          33,
          18,
          22,
          26,
          24,
          25,
          31,
          31,
          23,
          27,
          21,
          29,
          21,
          21,
          26,
          26,
          30,
          17,
          23,
          27,
          31,
          28,
          20,
          24,
          24,
          36,
          19,
          19,
          23,
          28,
          21,
          21,
          20,
          24,
          28,
          24,
          21,
          22,
          24,
          24,
          24,
          28,
          28,
          32,
          27,
          24,
          22,
          26,
          28,
          36,
          44,
          30,
          25,
          16,
          20,
          20,
          24,
          28,
          21,
          27,
          24,
          25,
          26,
          23,
          39,
          19,
          27,
          36,
          36,
          40,
          40,
          40,
          27,
          29,
          29,
          24,
          28,
          25,
          25,
          30,
          30,
          30,
          30,
          30,
          38,
          38,
          38,
          42,
          42,
          24,
          24,
          28,
          28,
          23,
          23,
          27,
          27,
          31,
          31,
          31,
          30,
          33,
          25,
          27,
          28,
          22,
          22,
          26,
          28,
          37,
          26,
          26,
          22,
          39,
          29,
          29,
          23,
          40,
          40,
          40,
          40,
          40,
          24,
          28,
          28,
          42,
          20,
          27,
          26,
          23,
          19,
          27,
          23,
          27,
          25,
          21,
          25,
          20,
          20,
          50,
          23,
          28,
          28,
          28,
          27,
          31,
          27,
          27,
          27,
          27,
          31,
          31,
          31,
          31,
          20,
          24,
          26,
          26,
          26,
          21,
          23,
          23,
          22,
          27,
          25,
          31,
          21,
          21,
          21,
          24,
          24,
          21,
          21,
          21,
          27,
          27,
          27,
          29,
          33,
          26,
          30,
          30,
          30,
          30,
          32,
          32,
          36,
          36,
          36,
          44,
          44,
          44,
          27,
          25,
          28,
          32,
          44,
          28,
          26,
          26,
          24,
          24,
          24,
          26,
          34,
          34,
          34,
          27,
          24,
          24,
          24,
          24,
          24,
          24,
          39,
          24,
          27,
          23,
          24,
          24,
          22,
          31,
          20,
          28,
          26,
          26,
          23,
          17,
          17,
          38,
          31,
          35,
          26,
          21,
          50,
          50,
          28,
          34,
          34,
          24,
          28,
          34,
          34,
          34,
          34,
          34,
          34,
          34,
          34,
          34,
          34,
          38,
          26,
          20,
          26,
          30,
          24,
          21,
          25,
          31,
          31,
          25,
          24,
          24,
          24,
          28,
          28,
          28,
          22,
          22,
          22,
          22,
          22,
          22,
          22,
          27,
          27,
          27,
          27,
          27,
          27,
          27,
          26,
          31,
          31,
          34,
          34,
          27,
          27,
          40,
          22,
          19,
          23,
          20,
          31,
          31,
          26,
          32,
          20,
          22,
          43,
          47,
          20,
          20,
          20,
          20,
          23,
          23,
          22,
          22,
          26,
          26,
          22,
          26,
          29,
          28,
          32,
          23,
          27,
          20,
          20,
          22,
          22,
          26,
          30,
          30,
          21,
          38,
          29,
          36,
          21,
          21,
          25,
          25,
          29,
          29,
          27,
          27,
          19,
          23,
          27,
          23,
          23,
          24,
          24,
          25,
          33,
          50,
          20,
          19,
          23,
          23,
          23,
          27,
          27,
          28,
          34,
          22,
          26,
          26,
          20,
          23,
          23,
          24,
          28,
          33,
          30,
          25,
          30,
          28,
          28,
          28,
          22,
          22,
          20,
          20,
          44,
          44,
          21,
          21,
          21,
          25,
          25,
          29,
          29,
          33,
          31,
          31,
          24,
          24,
          28,
          28,
          26,
          26,
          30,
          30,
          22,
          22,
          22,
          26,
          26,
          25,
          20,
          20,
          20,
          31,
          31,
          31,
          35,
          35,
          39,
          39,
          39,
          43,
          43,
          47,
          47,
          51,
          51,
          25,
          25,
          29,
          21,
          21,
          21,
          27,
          27,
          31,
          21,
          21,
          21,
          31,
          44,
          33,
          25,
          28,
          32,
          25,
          25,
          29,
          29,
          29,
          29,
          33,
          33,
          33,
          33,
          17,
          21,
          23,
          23,
          23,
          27,
          27,
          31,
          22,
          22,
          22,
          22,
          22,
          22,
          22,
          26,
          26,
          26,
          26,
          26,
          26,
          26,
          26,
          26,
          26,
          26,
          30,
          30,
          24,
          24,
          19,
          22,
          30,
          21,
          21,
          21,
          29,
          19,
          23,
          27,
          26,
          31,
          34,
          23,
          34,
          19,
          19,
          24,
          24,
          28,
          27,
          26,
          26,
          26,
          26,
          26,
          18,
          18,
          22,
          27,
          27,
          31,
          31,
          23,
          27,
          29,
          19,
          23,
          27,
          27,
          27,
          25,
          25,
          27,
          27,
          27,
          21,
          25,
          20,
          21,
          25,
          25,
          25,
          25,
          25,
          29,
          29,
          29,
          29,
          23,
          28,
          28,
          28,
          28,
          28,
          24,
          24,
          28,
          19,
          19,
          38,
          42,
          27,
          31,
          29,
          29,
          29,
          33,
          24,
          24,
          28,
          28,
          20,
          24,
          24,
          24,
          24,
          24,
          28,
          28,
          28,
          28,
          28,
          28,
          32,
          36,
          36,
          17,
          26,
          22,
          28,
          24,
          28,
          32,
          62,
          62,
          62,
          62,
          23,
          23,
          23,
          23,
          23,
          27,
          27,
          27,
          27,
          31,
          31,
          31,
          59,
          35,
          39,
          22,
          15,
          25,
          25,
          25,
          23,
          38,
          20,
          20,
          24,
          24,
          24,
          25,
          27,
          29,
          25,
          29,
          38,
          36,
          18,
          43,
          43,
          30,
          22,
          23,
          27,
          30,
          22,
          22,
          26,
          26,
          26,
          31,
          26,
          26,
          30,
          29,
          23,
          26,
          30,
          18,
          22,
          26,
          30,
          32,
          22,
          26,
          30,
          22,
          21,
          21,
          21,
          25,
          25,
          25,
          27,
          27,
          27,
          23,
          27,
          31,
          31,
          23,
          22,
          22,
          27,
          31,
          21,
          22,
          27,
          39,
          43,
          47,
          26,
          22,
          25,
          29,
          34,
          19,
          18,
          33,
          32,
          31,
          27,
          19,
          15,
          19,
          30,
          19,
          20,
          24,
          21,
          27,
          24,
          28,
          28,
          39,
          43,
          33,
          37,
          19,
          19,
          23,
          23,
          30,
          19,
          25,
          20,
          24,
          28,
          32,
          36,
          40,
          28,
          26,
          25,
          29,
          33,
          24,
          23,
          27,
          24,
          28,
          25,
          25,
          23,
          25,
          25,
          25,
          25,
          25,
          25,
          29,
          29,
          29,
          33,
          33,
          33,
          25,
          27,
          27,
          31,
          35,
          21,
          27,
          27,
          33,
          37,
          37,
          37,
          37,
          37,
          24,
          20,
          38,
          42,
          24,
          24,
          24,
          24,
          28,
          28,
          28,
          28,
          28,
          30,
          30,
          30,
          21,
          25,
          30,
          27,
          22,
          23,
          26,
          26,
          34,
          38,
          20,
          31,
          39,
          20,
          20,
          19,
          27,
          26,
          31,
          26,
          28,
          26,
          28,
          26,
          26,
          33,
          24,
          24,
          24,
          28,
          24,
          25,
          22,
          26,
          26,
          26,
          22,
          22,
          26,
          26,
          26,
          34,
          22,
          26,
          22,
          26,
          19,
          27,
          25,
          21,
          29,
          21,
          22,
          23,
          26,
          26,
          30,
          30,
          24,
          20,
          34,
          34,
          34,
          20,
          28,
          28,
          26,
          36,
          32,
          19,
          23,
          18,
          26,
          20,
          33,
          20,
          31,
          24,
          22,
          22,
          20,
          16,
          16,
          20,
          20,
          20,
          22,
          24,
          22,
          26,
          30,
          30,
          25,
          25,
          21,
          24,
          24,
          28,
          25,
          45,
          45,
          49,
          49,
          49,
          23,
          23,
          21,
          28,
          43,
          28,
          20,
          20,
          20,
          20,
          20,
          20,
          20,
          24,
          34,
          31,
          24,
          56,
          35,
          39,
          20,
          20,
          24,
          24,
          28,
          22,
          22,
          27,
          19,
          19,
          25,
          29,
          29,
          26,
          21,
          22,
          26,
          31,
          35
         ],
         "xaxis": "x",
         "yaxis": "y"
        },
        {
         "alignmentgroup": "True",
         "bingroup": "x",
         "hovertemplate": "Gender=F<br>Age=%{x}<br>count=%{y}<extra></extra>",
         "legendgroup": "F",
         "marker": {
          "color": "#EF553B",
          "line": {
           "width": 1.5
          },
          "opacity": 0.5,
          "pattern": {
           "shape": ""
          }
         },
         "name": "F",
         "offsetgroup": "F",
         "orientation": "v",
         "showlegend": true,
         "type": "histogram",
         "x": [
          27,
          17,
          23,
          21,
          21,
          27,
          31,
          22,
          22,
          23,
          24,
          28,
          29,
          23,
          27,
          23,
          18,
          22,
          30,
          34,
          20,
          24,
          24,
          24,
          28,
          28,
          28,
          28,
          32,
          32,
          16,
          16,
          16,
          16,
          16,
          16,
          22,
          26,
          22,
          23,
          22,
          23,
          26,
          26,
          26,
          30,
          30,
          30,
          19,
          19,
          19,
          23,
          23,
          23,
          27,
          27,
          27,
          21,
          21,
          21,
          31,
          19,
          19,
          23,
          27,
          25,
          28,
          28,
          23,
          26,
          26,
          26,
          26,
          18,
          24,
          24,
          24,
          24,
          24,
          28,
          28,
          28,
          28,
          28,
          32,
          32,
          32,
          32,
          32,
          32,
          29,
          33,
          19,
          25,
          33,
          23,
          27,
          27,
          20,
          24,
          24,
          17,
          17,
          21,
          21,
          21,
          21,
          27,
          27,
          27,
          24,
          24,
          34,
          38,
          20,
          28,
          28,
          40,
          40,
          21,
          21,
          21,
          25,
          25,
          25,
          25,
          25,
          29,
          29,
          29,
          29,
          29,
          33,
          33,
          33,
          33,
          33,
          33,
          22,
          22,
          26,
          26,
          23,
          23,
          19,
          23,
          27,
          21,
          21,
          21,
          22,
          22,
          30,
          18,
          18,
          22,
          22,
          15,
          15,
          15,
          15,
          15,
          15,
          19,
          19,
          22,
          28,
          32,
          21,
          21,
          21,
          21,
          29,
          29,
          31,
          20,
          24,
          28,
          32,
          23,
          21,
          25,
          25,
          27,
          22,
          22,
          22,
          37,
          41,
          41,
          22,
          22,
          22,
          29,
          33,
          33,
          21,
          25,
          22,
          23,
          31,
          35,
          39,
          43,
          23,
          23,
          23,
          17,
          17,
          17,
          21,
          21,
          21,
          25,
          25,
          19,
          20,
          21,
          21,
          18,
          22,
          26,
          22,
          26,
          26,
          26,
          26,
          28,
          28,
          28,
          28,
          32,
          32,
          32,
          32,
          17,
          23,
          23,
          23,
          23,
          23,
          23,
          26,
          22,
          20,
          20,
          20,
          24,
          22,
          31,
          30,
          30,
          30,
          16,
          16,
          16,
          16,
          16,
          16,
          18,
          25,
          27,
          22,
          25,
          25,
          21,
          24,
          24,
          28,
          28,
          28,
          24,
          29,
          23,
          27,
          19,
          23,
          24,
          23,
          23,
          23,
          23,
          17,
          17,
          17,
          21,
          21,
          21,
          33,
          33,
          27,
          27,
          27,
          27,
          27,
          31,
          31,
          31,
          31,
          31,
          23,
          23,
          27,
          22,
          24,
          24,
          24,
          26,
          17,
          17,
          17,
          22,
          26,
          30,
          24,
          28,
          21,
          22,
          19,
          24,
          24,
          20,
          20,
          20,
          33,
          19,
          23,
          23,
          23,
          23,
          20,
          24,
          20,
          20,
          26,
          26,
          26,
          29,
          33,
          22,
          26,
          30,
          23,
          27,
          31,
          24,
          29,
          32,
          22,
          26,
          26,
          20,
          23,
          19,
          27,
          23,
          25,
          29,
          28,
          28,
          23,
          31,
          35,
          28,
          19,
          19,
          19,
          19,
          19,
          19,
          23,
          23,
          27,
          27,
          31,
          31,
          28,
          32,
          20,
          20,
          20,
          27,
          27,
          24,
          28,
          32,
          25,
          27,
          19,
          32,
          30,
          28,
          32,
          20,
          20,
          20,
          20,
          24,
          24,
          23,
          27,
          27,
          28,
          31,
          31,
          45,
          33,
          17,
          30,
          30,
          30,
          22,
          11,
          15,
          19,
          23,
          22,
          20,
          25,
          29,
          21,
          25,
          27,
          23,
          21,
          25,
          21,
          21,
          16,
          16,
          16,
          16,
          16,
          16,
          19,
          19,
          19,
          19,
          19,
          19,
          23,
          27,
          25,
          29,
          25,
          28,
          18,
          18,
          22,
          22,
          22,
          26,
          26,
          26,
          28,
          28,
          32,
          32,
          23,
          24,
          24,
          24,
          24,
          24,
          24,
          24,
          24,
          19,
          19,
          19,
          26,
          18,
          19,
          19,
          19,
          19,
          19,
          19,
          22,
          23,
          23,
          27,
          27,
          27,
          16,
          16,
          16,
          20,
          20,
          20,
          30,
          20,
          20,
          20,
          20,
          24,
          24,
          24,
          19,
          19,
          19,
          23,
          23,
          23,
          25,
          19,
          19,
          26,
          26,
          24,
          24,
          24,
          16,
          29,
          33,
          20,
          28,
          17,
          17,
          21,
          21,
          21,
          25,
          25,
          25,
          25,
          19,
          22,
          22,
          25,
          25,
          25,
          23,
          19,
          19,
          30,
          30,
          30,
          30,
          30,
          26,
          27,
          36,
          36,
          22,
          26,
          23,
          23,
          23,
          20,
          25,
          23,
          25,
          30,
          20,
          22,
          20,
          20,
          20,
          20,
          24,
          24,
          24,
          28,
          28,
          32,
          32,
          27,
          31,
          28,
          36,
          23,
          23,
          23,
          25,
          25,
          25,
          24,
          24,
          28,
          28,
          32,
          28,
          32,
          22,
          22,
          22,
          22,
          24,
          26,
          20,
          20,
          17,
          17,
          23,
          23,
          23,
          21,
          25,
          20,
          20,
          20,
          20,
          20,
          20,
          24,
          24,
          24,
          24,
          24,
          24,
          23,
          29,
          19,
          19,
          23,
          23,
          25,
          20,
          28,
          21,
          25,
          33,
          25,
          29,
          19,
          25,
          23,
          27,
          24,
          24,
          22,
          26,
          30,
          20,
          20,
          20,
          20,
          29,
          33,
          18,
          18,
          18,
          18,
          22,
          22,
          24,
          24,
          23,
          24,
          19,
          19,
          21,
          21,
          21,
          28,
          31,
          28,
          32,
          36,
          27,
          31,
          20,
          24,
          23,
          23,
          23,
          23,
          27,
          27,
          16,
          31,
          22,
          27,
          18,
          23,
          27,
          27,
          21,
          23,
          27,
          21,
          26,
          26,
          26,
          26,
          26,
          30,
          30,
          30,
          30,
          34,
          34,
          34,
          34,
          27,
          25,
          20,
          21,
          21,
          21,
          21,
          23,
          23,
          27,
          27,
          27,
          31,
          31,
          31,
          25,
          21,
          23,
          22,
          22,
          22,
          26,
          26,
          26,
          30,
          30,
          23,
          23,
          23,
          23,
          25,
          25,
          25,
          25,
          29,
          29,
          28,
          16,
          28,
          28,
          28,
          22,
          27,
          23,
          23,
          23,
          27,
          27,
          27,
          31,
          31,
          31,
          23,
          23,
          23,
          23,
          21,
          26,
          33,
          37,
          41,
          30,
          21,
          21,
          33,
          33,
          25,
          25,
          25,
          29,
          29,
          20,
          19,
          23,
          27,
          28,
          23,
          23,
          23,
          27,
          27,
          31,
          31,
          31,
          31,
          31,
          33,
          33,
          33,
          30,
          30,
          20,
          20,
          20,
          23,
          23,
          24,
          23,
          23,
          20,
          24,
          24,
          28,
          19,
          23,
          32,
          32,
          29,
          29,
          22,
          23,
          23,
          21,
          38,
          21,
          22,
          22,
          37,
          37,
          37,
          37,
          37,
          41,
          41,
          41,
          41,
          24,
          26,
          26,
          26,
          26,
          22,
          18,
          18,
          22,
          22,
          22,
          22,
          26,
          26,
          23,
          27,
          21,
          25,
          35,
          37,
          41,
          31,
          17,
          23,
          24,
          24,
          32,
          32,
          24,
          24,
          28,
          28,
          24,
          27,
          32,
          20,
          27,
          31,
          24,
          27,
          27,
          22,
          26,
          22,
          47,
          47,
          20,
          24,
          28,
          16,
          16,
          16,
          16,
          16,
          16,
          26,
          16,
          16,
          16,
          20,
          20,
          20,
          24,
          24,
          30,
          30,
          30,
          30,
          30,
          22,
          20,
          18,
          18,
          18,
          18,
          21,
          21,
          25,
          25,
          25,
          20,
          29,
          17,
          17,
          17,
          17,
          17,
          17,
          22,
          21,
          21,
          25,
          25,
          25,
          25,
          29,
          29,
          29,
          29,
          30,
          22,
          22,
          26,
          26,
          26,
          30,
          30,
          30,
          30,
          23,
          23,
          23,
          27,
          27,
          27,
          27,
          31,
          31,
          31,
          31,
          31,
          18,
          30,
          21,
          21,
          21,
          21,
          29,
          29,
          29,
          20,
          23,
          27,
          30,
          19,
          19,
          23,
          23,
          23,
          27,
          26,
          18,
          22,
          26,
          30,
          34,
          21,
          24,
          24,
          25,
          29,
          26,
          28,
          32,
          32,
          27,
          20,
          20,
          20,
          22,
          29,
          21,
          34,
          38,
          42,
          28,
          20,
          24,
          24,
          24,
          24,
          24,
          28,
          28,
          28,
          28,
          32,
          32,
          25,
          25,
          25,
          25,
          17,
          27,
          20,
          27,
          27,
          21,
          21,
          33,
          28,
          25,
          29,
          17,
          21,
          25,
          25,
          25,
          25,
          25,
          29,
          29,
          29,
          29,
          33,
          33,
          33,
          20,
          24,
          29,
          25,
          17,
          19,
          17,
          18,
          22,
          27,
          22,
          22,
          26,
          26,
          26,
          26,
          26,
          27,
          19,
          19,
          15,
          15,
          15,
          15,
          15,
          27,
          26,
          21,
          21,
          27,
          27,
          27,
          25,
          29,
          18,
          24,
          28,
          32,
          21,
          21,
          21,
          19,
          28,
          32,
          36,
          35,
          35,
          39,
          21,
          29,
          25,
          25,
          29,
          29,
          21,
          21,
          21,
          30,
          30,
          30,
          34,
          34,
          26,
          17,
          22,
          22,
          22,
          22,
          22,
          24,
          24,
          24,
          24,
          24,
          18,
          18,
          18,
          22,
          22,
          27,
          35,
          35,
          52,
          22,
          30,
          23,
          29,
          22,
          22,
          22,
          28,
          28,
          32,
          32,
          32,
          32,
          32,
          23,
          23,
          23,
          23,
          20
         ],
         "xaxis": "x",
         "yaxis": "y"
        }
       ],
       "layout": {
        "barmode": "overlay",
        "legend": {
         "title": {
          "text": "Gender"
         },
         "tracegroupgap": 0
        },
        "template": {
         "data": {
          "bar": [
           {
            "error_x": {
             "color": "#2a3f5f"
            },
            "error_y": {
             "color": "#2a3f5f"
            },
            "marker": {
             "line": {
              "color": "#E5ECF6",
              "width": 0.5
             },
             "pattern": {
              "fillmode": "overlay",
              "size": 10,
              "solidity": 0.2
             }
            },
            "type": "bar"
           }
          ],
          "barpolar": [
           {
            "marker": {
             "line": {
              "color": "#E5ECF6",
              "width": 0.5
             },
             "pattern": {
              "fillmode": "overlay",
              "size": 10,
              "solidity": 0.2
             }
            },
            "type": "barpolar"
           }
          ],
          "carpet": [
           {
            "aaxis": {
             "endlinecolor": "#2a3f5f",
             "gridcolor": "white",
             "linecolor": "white",
             "minorgridcolor": "white",
             "startlinecolor": "#2a3f5f"
            },
            "baxis": {
             "endlinecolor": "#2a3f5f",
             "gridcolor": "white",
             "linecolor": "white",
             "minorgridcolor": "white",
             "startlinecolor": "#2a3f5f"
            },
            "type": "carpet"
           }
          ],
          "choropleth": [
           {
            "colorbar": {
             "outlinewidth": 0,
             "ticks": ""
            },
            "type": "choropleth"
           }
          ],
          "contour": [
           {
            "colorbar": {
             "outlinewidth": 0,
             "ticks": ""
            },
            "colorscale": [
             [
              0,
              "#0d0887"
             ],
             [
              0.1111111111111111,
              "#46039f"
             ],
             [
              0.2222222222222222,
              "#7201a8"
             ],
             [
              0.3333333333333333,
              "#9c179e"
             ],
             [
              0.4444444444444444,
              "#bd3786"
             ],
             [
              0.5555555555555556,
              "#d8576b"
             ],
             [
              0.6666666666666666,
              "#ed7953"
             ],
             [
              0.7777777777777778,
              "#fb9f3a"
             ],
             [
              0.8888888888888888,
              "#fdca26"
             ],
             [
              1,
              "#f0f921"
             ]
            ],
            "type": "contour"
           }
          ],
          "contourcarpet": [
           {
            "colorbar": {
             "outlinewidth": 0,
             "ticks": ""
            },
            "type": "contourcarpet"
           }
          ],
          "heatmap": [
           {
            "colorbar": {
             "outlinewidth": 0,
             "ticks": ""
            },
            "colorscale": [
             [
              0,
              "#0d0887"
             ],
             [
              0.1111111111111111,
              "#46039f"
             ],
             [
              0.2222222222222222,
              "#7201a8"
             ],
             [
              0.3333333333333333,
              "#9c179e"
             ],
             [
              0.4444444444444444,
              "#bd3786"
             ],
             [
              0.5555555555555556,
              "#d8576b"
             ],
             [
              0.6666666666666666,
              "#ed7953"
             ],
             [
              0.7777777777777778,
              "#fb9f3a"
             ],
             [
              0.8888888888888888,
              "#fdca26"
             ],
             [
              1,
              "#f0f921"
             ]
            ],
            "type": "heatmap"
           }
          ],
          "heatmapgl": [
           {
            "colorbar": {
             "outlinewidth": 0,
             "ticks": ""
            },
            "colorscale": [
             [
              0,
              "#0d0887"
             ],
             [
              0.1111111111111111,
              "#46039f"
             ],
             [
              0.2222222222222222,
              "#7201a8"
             ],
             [
              0.3333333333333333,
              "#9c179e"
             ],
             [
              0.4444444444444444,
              "#bd3786"
             ],
             [
              0.5555555555555556,
              "#d8576b"
             ],
             [
              0.6666666666666666,
              "#ed7953"
             ],
             [
              0.7777777777777778,
              "#fb9f3a"
             ],
             [
              0.8888888888888888,
              "#fdca26"
             ],
             [
              1,
              "#f0f921"
             ]
            ],
            "type": "heatmapgl"
           }
          ],
          "histogram": [
           {
            "marker": {
             "pattern": {
              "fillmode": "overlay",
              "size": 10,
              "solidity": 0.2
             }
            },
            "type": "histogram"
           }
          ],
          "histogram2d": [
           {
            "colorbar": {
             "outlinewidth": 0,
             "ticks": ""
            },
            "colorscale": [
             [
              0,
              "#0d0887"
             ],
             [
              0.1111111111111111,
              "#46039f"
             ],
             [
              0.2222222222222222,
              "#7201a8"
             ],
             [
              0.3333333333333333,
              "#9c179e"
             ],
             [
              0.4444444444444444,
              "#bd3786"
             ],
             [
              0.5555555555555556,
              "#d8576b"
             ],
             [
              0.6666666666666666,
              "#ed7953"
             ],
             [
              0.7777777777777778,
              "#fb9f3a"
             ],
             [
              0.8888888888888888,
              "#fdca26"
             ],
             [
              1,
              "#f0f921"
             ]
            ],
            "type": "histogram2d"
           }
          ],
          "histogram2dcontour": [
           {
            "colorbar": {
             "outlinewidth": 0,
             "ticks": ""
            },
            "colorscale": [
             [
              0,
              "#0d0887"
             ],
             [
              0.1111111111111111,
              "#46039f"
             ],
             [
              0.2222222222222222,
              "#7201a8"
             ],
             [
              0.3333333333333333,
              "#9c179e"
             ],
             [
              0.4444444444444444,
              "#bd3786"
             ],
             [
              0.5555555555555556,
              "#d8576b"
             ],
             [
              0.6666666666666666,
              "#ed7953"
             ],
             [
              0.7777777777777778,
              "#fb9f3a"
             ],
             [
              0.8888888888888888,
              "#fdca26"
             ],
             [
              1,
              "#f0f921"
             ]
            ],
            "type": "histogram2dcontour"
           }
          ],
          "mesh3d": [
           {
            "colorbar": {
             "outlinewidth": 0,
             "ticks": ""
            },
            "type": "mesh3d"
           }
          ],
          "parcoords": [
           {
            "line": {
             "colorbar": {
              "outlinewidth": 0,
              "ticks": ""
             }
            },
            "type": "parcoords"
           }
          ],
          "pie": [
           {
            "automargin": true,
            "type": "pie"
           }
          ],
          "scatter": [
           {
            "fillpattern": {
             "fillmode": "overlay",
             "size": 10,
             "solidity": 0.2
            },
            "type": "scatter"
           }
          ],
          "scatter3d": [
           {
            "line": {
             "colorbar": {
              "outlinewidth": 0,
              "ticks": ""
             }
            },
            "marker": {
             "colorbar": {
              "outlinewidth": 0,
              "ticks": ""
             }
            },
            "type": "scatter3d"
           }
          ],
          "scattercarpet": [
           {
            "marker": {
             "colorbar": {
              "outlinewidth": 0,
              "ticks": ""
             }
            },
            "type": "scattercarpet"
           }
          ],
          "scattergeo": [
           {
            "marker": {
             "colorbar": {
              "outlinewidth": 0,
              "ticks": ""
             }
            },
            "type": "scattergeo"
           }
          ],
          "scattergl": [
           {
            "marker": {
             "colorbar": {
              "outlinewidth": 0,
              "ticks": ""
             }
            },
            "type": "scattergl"
           }
          ],
          "scattermapbox": [
           {
            "marker": {
             "colorbar": {
              "outlinewidth": 0,
              "ticks": ""
             }
            },
            "type": "scattermapbox"
           }
          ],
          "scatterpolar": [
           {
            "marker": {
             "colorbar": {
              "outlinewidth": 0,
              "ticks": ""
             }
            },
            "type": "scatterpolar"
           }
          ],
          "scatterpolargl": [
           {
            "marker": {
             "colorbar": {
              "outlinewidth": 0,
              "ticks": ""
             }
            },
            "type": "scatterpolargl"
           }
          ],
          "scatterternary": [
           {
            "marker": {
             "colorbar": {
              "outlinewidth": 0,
              "ticks": ""
             }
            },
            "type": "scatterternary"
           }
          ],
          "surface": [
           {
            "colorbar": {
             "outlinewidth": 0,
             "ticks": ""
            },
            "colorscale": [
             [
              0,
              "#0d0887"
             ],
             [
              0.1111111111111111,
              "#46039f"
             ],
             [
              0.2222222222222222,
              "#7201a8"
             ],
             [
              0.3333333333333333,
              "#9c179e"
             ],
             [
              0.4444444444444444,
              "#bd3786"
             ],
             [
              0.5555555555555556,
              "#d8576b"
             ],
             [
              0.6666666666666666,
              "#ed7953"
             ],
             [
              0.7777777777777778,
              "#fb9f3a"
             ],
             [
              0.8888888888888888,
              "#fdca26"
             ],
             [
              1,
              "#f0f921"
             ]
            ],
            "type": "surface"
           }
          ],
          "table": [
           {
            "cells": {
             "fill": {
              "color": "#EBF0F8"
             },
             "line": {
              "color": "white"
             }
            },
            "header": {
             "fill": {
              "color": "#C8D4E3"
             },
             "line": {
              "color": "white"
             }
            },
            "type": "table"
           }
          ]
         },
         "layout": {
          "annotationdefaults": {
           "arrowcolor": "#2a3f5f",
           "arrowhead": 0,
           "arrowwidth": 1
          },
          "autotypenumbers": "strict",
          "coloraxis": {
           "colorbar": {
            "outlinewidth": 0,
            "ticks": ""
           }
          },
          "colorscale": {
           "diverging": [
            [
             0,
             "#8e0152"
            ],
            [
             0.1,
             "#c51b7d"
            ],
            [
             0.2,
             "#de77ae"
            ],
            [
             0.3,
             "#f1b6da"
            ],
            [
             0.4,
             "#fde0ef"
            ],
            [
             0.5,
             "#f7f7f7"
            ],
            [
             0.6,
             "#e6f5d0"
            ],
            [
             0.7,
             "#b8e186"
            ],
            [
             0.8,
             "#7fbc41"
            ],
            [
             0.9,
             "#4d9221"
            ],
            [
             1,
             "#276419"
            ]
           ],
           "sequential": [
            [
             0,
             "#0d0887"
            ],
            [
             0.1111111111111111,
             "#46039f"
            ],
            [
             0.2222222222222222,
             "#7201a8"
            ],
            [
             0.3333333333333333,
             "#9c179e"
            ],
            [
             0.4444444444444444,
             "#bd3786"
            ],
            [
             0.5555555555555556,
             "#d8576b"
            ],
            [
             0.6666666666666666,
             "#ed7953"
            ],
            [
             0.7777777777777778,
             "#fb9f3a"
            ],
            [
             0.8888888888888888,
             "#fdca26"
            ],
            [
             1,
             "#f0f921"
            ]
           ],
           "sequentialminus": [
            [
             0,
             "#0d0887"
            ],
            [
             0.1111111111111111,
             "#46039f"
            ],
            [
             0.2222222222222222,
             "#7201a8"
            ],
            [
             0.3333333333333333,
             "#9c179e"
            ],
            [
             0.4444444444444444,
             "#bd3786"
            ],
            [
             0.5555555555555556,
             "#d8576b"
            ],
            [
             0.6666666666666666,
             "#ed7953"
            ],
            [
             0.7777777777777778,
             "#fb9f3a"
            ],
            [
             0.8888888888888888,
             "#fdca26"
            ],
            [
             1,
             "#f0f921"
            ]
           ]
          },
          "colorway": [
           "#636efa",
           "#EF553B",
           "#00cc96",
           "#ab63fa",
           "#FFA15A",
           "#19d3f3",
           "#FF6692",
           "#B6E880",
           "#FF97FF",
           "#FECB52"
          ],
          "font": {
           "color": "#2a3f5f"
          },
          "geo": {
           "bgcolor": "white",
           "lakecolor": "white",
           "landcolor": "#E5ECF6",
           "showlakes": true,
           "showland": true,
           "subunitcolor": "white"
          },
          "hoverlabel": {
           "align": "left"
          },
          "hovermode": "closest",
          "mapbox": {
           "style": "light"
          },
          "paper_bgcolor": "white",
          "plot_bgcolor": "#E5ECF6",
          "polar": {
           "angularaxis": {
            "gridcolor": "white",
            "linecolor": "white",
            "ticks": ""
           },
           "bgcolor": "#E5ECF6",
           "radialaxis": {
            "gridcolor": "white",
            "linecolor": "white",
            "ticks": ""
           }
          },
          "scene": {
           "xaxis": {
            "backgroundcolor": "#E5ECF6",
            "gridcolor": "white",
            "gridwidth": 2,
            "linecolor": "white",
            "showbackground": true,
            "ticks": "",
            "zerolinecolor": "white"
           },
           "yaxis": {
            "backgroundcolor": "#E5ECF6",
            "gridcolor": "white",
            "gridwidth": 2,
            "linecolor": "white",
            "showbackground": true,
            "ticks": "",
            "zerolinecolor": "white"
           },
           "zaxis": {
            "backgroundcolor": "#E5ECF6",
            "gridcolor": "white",
            "gridwidth": 2,
            "linecolor": "white",
            "showbackground": true,
            "ticks": "",
            "zerolinecolor": "white"
           }
          },
          "shapedefaults": {
           "line": {
            "color": "#2a3f5f"
           }
          },
          "ternary": {
           "aaxis": {
            "gridcolor": "white",
            "linecolor": "white",
            "ticks": ""
           },
           "baxis": {
            "gridcolor": "white",
            "linecolor": "white",
            "ticks": ""
           },
           "bgcolor": "#E5ECF6",
           "caxis": {
            "gridcolor": "white",
            "linecolor": "white",
            "ticks": ""
           }
          },
          "title": {
           "x": 0.05
          },
          "xaxis": {
           "automargin": true,
           "gridcolor": "white",
           "linecolor": "white",
           "ticks": "",
           "title": {
            "standoff": 15
           },
           "zerolinecolor": "white",
           "zerolinewidth": 2
          },
          "yaxis": {
           "automargin": true,
           "gridcolor": "white",
           "linecolor": "white",
           "ticks": "",
           "title": {
            "standoff": 15
           },
           "zerolinecolor": "white",
           "zerolinewidth": 2
          }
         }
        },
        "title": {
         "text": "Average age of Norwegian Olympic athletes"
        },
        "xaxis": {
         "anchor": "y",
         "domain": [
          0,
          1
         ],
         "title": {
          "text": "Age"
         }
        },
        "yaxis": {
         "anchor": "x",
         "domain": [
          0,
          1
         ],
         "title": {
          "text": "count"
         }
        }
       }
      }
     },
     "metadata": {},
     "output_type": "display_data"
    }
   ],
   "source": [
    "fig = px.histogram(nor, x=\"Age\", color=\"Sex\", barmode=\"overlay\", title=\"Average age of Norwegian Olympic athletes\", labels={\"Age\": \"Age\", \"Sex\": \"Gender\"})\n",
    "fig.update_traces(marker_line_width=1.5)\n",
    "fig.show()"
   ]
  },
  {
   "cell_type": "code",
   "execution_count": 222,
   "metadata": {},
   "outputs": [
    {
     "data": {
      "application/vnd.plotly.v1+json": {
       "config": {
        "plotlyServerURL": "https://plot.ly"
       },
       "data": [
        {
         "hovertemplate": "Games=%{x}<br>Overall=%{y}<extra></extra>",
         "legendgroup": "",
         "line": {
          "color": "crimson",
          "dash": "solid"
         },
         "marker": {
          "symbol": "circle"
         },
         "mode": "lines",
         "name": "",
         "orientation": "v",
         "showlegend": false,
         "type": "scatter",
         "x": [
          "1900 Summer",
          "1904 Summer",
          "1906 Summer",
          "1908 Summer",
          "1912 Summer",
          "1920 Summer",
          "1924 Summer",
          "1924 Winter",
          "1928 Summer",
          "1928 Winter",
          "1932 Summer",
          "1932 Winter",
          "1936 Summer",
          "1936 Winter",
          "1948 Summer",
          "1948 Winter",
          "1952 Summer",
          "1952 Winter",
          "1956 Summer",
          "1956 Winter",
          "1960 Summer",
          "1960 Winter",
          "1964 Summer",
          "1964 Winter",
          "1968 Summer",
          "1968 Winter",
          "1972 Summer",
          "1972 Winter",
          "1976 Summer",
          "1976 Winter",
          "1980 Winter",
          "1984 Summer",
          "1984 Winter",
          "1988 Summer",
          "1988 Winter",
          "1992 Summer",
          "1992 Winter",
          "1994 Winter",
          "1996 Summer",
          "1998 Winter",
          "2000 Summer",
          "2002 Winter",
          "2004 Summer",
          "2006 Winter",
          "2008 Summer",
          "2010 Winter",
          "2012 Summer",
          "2014 Winter",
          "2016 Summer"
         ],
         "xaxis": "x",
         "y": [
          5,
          2,
          2,
          8,
          10,
          32,
          10,
          17,
          4,
          15,
          0,
          10,
          6,
          15,
          7,
          10,
          5,
          16,
          3,
          4,
          1,
          6,
          0,
          15,
          2,
          14,
          4,
          12,
          2,
          7,
          10,
          3,
          9,
          5,
          5,
          7,
          17,
          23,
          7,
          22,
          10,
          24,
          6,
          19,
          9,
          23,
          4,
          26,
          4
         ],
         "yaxis": "y"
        },
        {
         "line": {
          "color": "forestgreen"
         },
         "mode": "lines",
         "name": "Men",
         "type": "scatter",
         "x": [
          "1900 Summer",
          "1904 Summer",
          "1906 Summer",
          "1908 Summer",
          "1912 Summer",
          "1920 Summer",
          "1924 Summer",
          "1924 Winter",
          "1928 Summer",
          "1928 Winter",
          "1932 Summer",
          "1932 Winter",
          "1936 Summer",
          "1936 Winter",
          "1948 Summer",
          "1948 Winter",
          "1952 Summer",
          "1952 Winter",
          "1956 Summer",
          "1956 Winter",
          "1960 Summer",
          "1960 Winter",
          "1964 Summer",
          "1964 Winter",
          "1968 Summer",
          "1968 Winter",
          "1972 Summer",
          "1972 Winter",
          "1976 Summer",
          "1976 Winter",
          "1980 Winter",
          "1984 Summer",
          "1984 Winter",
          "1988 Summer",
          "1988 Winter",
          "1992 Summer",
          "1992 Winter",
          "1994 Winter",
          "1996 Summer",
          "1998 Winter",
          "2000 Summer",
          "2002 Winter",
          "2004 Summer",
          "2006 Winter",
          "2008 Summer",
          "2010 Winter",
          "2012 Summer",
          "2014 Winter",
          "2016 Summer"
         ],
         "y": [
          5,
          2,
          2,
          8,
          9,
          32,
          10,
          17,
          4,
          14,
          0,
          9,
          6,
          13,
          7,
          10,
          5,
          16,
          3,
          4,
          1,
          6,
          0,
          15,
          2,
          11,
          4,
          11,
          2,
          6,
          8,
          2,
          5,
          4,
          4,
          5,
          15,
          19,
          5,
          16,
          5,
          17,
          4,
          15,
          5,
          16,
          3,
          14,
          3
         ]
        },
        {
         "line": {
          "color": "orange"
         },
         "mode": "lines",
         "name": "Women",
         "type": "scatter",
         "x": [
          "1912 Summer",
          "1920 Summer",
          "1924 Summer",
          "1924 Winter",
          "1928 Winter",
          "1932 Summer",
          "1932 Winter",
          "1936 Summer",
          "1936 Winter",
          "1948 Summer",
          "1948 Winter",
          "1952 Summer",
          "1952 Winter",
          "1956 Summer",
          "1956 Winter",
          "1960 Summer",
          "1960 Winter",
          "1964 Summer",
          "1964 Winter",
          "1968 Summer",
          "1968 Winter",
          "1972 Summer",
          "1972 Winter",
          "1976 Summer",
          "1976 Winter",
          "1980 Winter",
          "1984 Summer",
          "1984 Winter",
          "1988 Summer",
          "1988 Winter",
          "1992 Summer",
          "1992 Winter",
          "1994 Winter",
          "1996 Summer",
          "1998 Winter",
          "2000 Summer",
          "2002 Winter",
          "2004 Summer",
          "2006 Winter",
          "2008 Summer",
          "2010 Winter",
          "2012 Summer",
          "2014 Winter",
          "2016 Summer"
         ],
         "y": [
          1,
          1,
          0,
          0,
          1,
          0,
          1,
          0,
          2,
          0,
          0,
          1,
          0,
          0,
          0,
          0,
          0,
          0,
          0,
          0,
          3,
          0,
          1,
          0,
          1,
          2,
          1,
          4,
          1,
          1,
          2,
          2,
          4,
          2,
          6,
          5,
          7,
          2,
          4,
          4,
          7,
          1,
          13,
          1
         ]
        }
       ],
       "layout": {
        "legend": {
         "title": {
          "text": "Category"
         },
         "tracegroupgap": 0
        },
        "template": {
         "data": {
          "bar": [
           {
            "error_x": {
             "color": "#2a3f5f"
            },
            "error_y": {
             "color": "#2a3f5f"
            },
            "marker": {
             "line": {
              "color": "#E5ECF6",
              "width": 0.5
             },
             "pattern": {
              "fillmode": "overlay",
              "size": 10,
              "solidity": 0.2
             }
            },
            "type": "bar"
           }
          ],
          "barpolar": [
           {
            "marker": {
             "line": {
              "color": "#E5ECF6",
              "width": 0.5
             },
             "pattern": {
              "fillmode": "overlay",
              "size": 10,
              "solidity": 0.2
             }
            },
            "type": "barpolar"
           }
          ],
          "carpet": [
           {
            "aaxis": {
             "endlinecolor": "#2a3f5f",
             "gridcolor": "white",
             "linecolor": "white",
             "minorgridcolor": "white",
             "startlinecolor": "#2a3f5f"
            },
            "baxis": {
             "endlinecolor": "#2a3f5f",
             "gridcolor": "white",
             "linecolor": "white",
             "minorgridcolor": "white",
             "startlinecolor": "#2a3f5f"
            },
            "type": "carpet"
           }
          ],
          "choropleth": [
           {
            "colorbar": {
             "outlinewidth": 0,
             "ticks": ""
            },
            "type": "choropleth"
           }
          ],
          "contour": [
           {
            "colorbar": {
             "outlinewidth": 0,
             "ticks": ""
            },
            "colorscale": [
             [
              0,
              "#0d0887"
             ],
             [
              0.1111111111111111,
              "#46039f"
             ],
             [
              0.2222222222222222,
              "#7201a8"
             ],
             [
              0.3333333333333333,
              "#9c179e"
             ],
             [
              0.4444444444444444,
              "#bd3786"
             ],
             [
              0.5555555555555556,
              "#d8576b"
             ],
             [
              0.6666666666666666,
              "#ed7953"
             ],
             [
              0.7777777777777778,
              "#fb9f3a"
             ],
             [
              0.8888888888888888,
              "#fdca26"
             ],
             [
              1,
              "#f0f921"
             ]
            ],
            "type": "contour"
           }
          ],
          "contourcarpet": [
           {
            "colorbar": {
             "outlinewidth": 0,
             "ticks": ""
            },
            "type": "contourcarpet"
           }
          ],
          "heatmap": [
           {
            "colorbar": {
             "outlinewidth": 0,
             "ticks": ""
            },
            "colorscale": [
             [
              0,
              "#0d0887"
             ],
             [
              0.1111111111111111,
              "#46039f"
             ],
             [
              0.2222222222222222,
              "#7201a8"
             ],
             [
              0.3333333333333333,
              "#9c179e"
             ],
             [
              0.4444444444444444,
              "#bd3786"
             ],
             [
              0.5555555555555556,
              "#d8576b"
             ],
             [
              0.6666666666666666,
              "#ed7953"
             ],
             [
              0.7777777777777778,
              "#fb9f3a"
             ],
             [
              0.8888888888888888,
              "#fdca26"
             ],
             [
              1,
              "#f0f921"
             ]
            ],
            "type": "heatmap"
           }
          ],
          "heatmapgl": [
           {
            "colorbar": {
             "outlinewidth": 0,
             "ticks": ""
            },
            "colorscale": [
             [
              0,
              "#0d0887"
             ],
             [
              0.1111111111111111,
              "#46039f"
             ],
             [
              0.2222222222222222,
              "#7201a8"
             ],
             [
              0.3333333333333333,
              "#9c179e"
             ],
             [
              0.4444444444444444,
              "#bd3786"
             ],
             [
              0.5555555555555556,
              "#d8576b"
             ],
             [
              0.6666666666666666,
              "#ed7953"
             ],
             [
              0.7777777777777778,
              "#fb9f3a"
             ],
             [
              0.8888888888888888,
              "#fdca26"
             ],
             [
              1,
              "#f0f921"
             ]
            ],
            "type": "heatmapgl"
           }
          ],
          "histogram": [
           {
            "marker": {
             "pattern": {
              "fillmode": "overlay",
              "size": 10,
              "solidity": 0.2
             }
            },
            "type": "histogram"
           }
          ],
          "histogram2d": [
           {
            "colorbar": {
             "outlinewidth": 0,
             "ticks": ""
            },
            "colorscale": [
             [
              0,
              "#0d0887"
             ],
             [
              0.1111111111111111,
              "#46039f"
             ],
             [
              0.2222222222222222,
              "#7201a8"
             ],
             [
              0.3333333333333333,
              "#9c179e"
             ],
             [
              0.4444444444444444,
              "#bd3786"
             ],
             [
              0.5555555555555556,
              "#d8576b"
             ],
             [
              0.6666666666666666,
              "#ed7953"
             ],
             [
              0.7777777777777778,
              "#fb9f3a"
             ],
             [
              0.8888888888888888,
              "#fdca26"
             ],
             [
              1,
              "#f0f921"
             ]
            ],
            "type": "histogram2d"
           }
          ],
          "histogram2dcontour": [
           {
            "colorbar": {
             "outlinewidth": 0,
             "ticks": ""
            },
            "colorscale": [
             [
              0,
              "#0d0887"
             ],
             [
              0.1111111111111111,
              "#46039f"
             ],
             [
              0.2222222222222222,
              "#7201a8"
             ],
             [
              0.3333333333333333,
              "#9c179e"
             ],
             [
              0.4444444444444444,
              "#bd3786"
             ],
             [
              0.5555555555555556,
              "#d8576b"
             ],
             [
              0.6666666666666666,
              "#ed7953"
             ],
             [
              0.7777777777777778,
              "#fb9f3a"
             ],
             [
              0.8888888888888888,
              "#fdca26"
             ],
             [
              1,
              "#f0f921"
             ]
            ],
            "type": "histogram2dcontour"
           }
          ],
          "mesh3d": [
           {
            "colorbar": {
             "outlinewidth": 0,
             "ticks": ""
            },
            "type": "mesh3d"
           }
          ],
          "parcoords": [
           {
            "line": {
             "colorbar": {
              "outlinewidth": 0,
              "ticks": ""
             }
            },
            "type": "parcoords"
           }
          ],
          "pie": [
           {
            "automargin": true,
            "type": "pie"
           }
          ],
          "scatter": [
           {
            "fillpattern": {
             "fillmode": "overlay",
             "size": 10,
             "solidity": 0.2
            },
            "type": "scatter"
           }
          ],
          "scatter3d": [
           {
            "line": {
             "colorbar": {
              "outlinewidth": 0,
              "ticks": ""
             }
            },
            "marker": {
             "colorbar": {
              "outlinewidth": 0,
              "ticks": ""
             }
            },
            "type": "scatter3d"
           }
          ],
          "scattercarpet": [
           {
            "marker": {
             "colorbar": {
              "outlinewidth": 0,
              "ticks": ""
             }
            },
            "type": "scattercarpet"
           }
          ],
          "scattergeo": [
           {
            "marker": {
             "colorbar": {
              "outlinewidth": 0,
              "ticks": ""
             }
            },
            "type": "scattergeo"
           }
          ],
          "scattergl": [
           {
            "marker": {
             "colorbar": {
              "outlinewidth": 0,
              "ticks": ""
             }
            },
            "type": "scattergl"
           }
          ],
          "scattermapbox": [
           {
            "marker": {
             "colorbar": {
              "outlinewidth": 0,
              "ticks": ""
             }
            },
            "type": "scattermapbox"
           }
          ],
          "scatterpolar": [
           {
            "marker": {
             "colorbar": {
              "outlinewidth": 0,
              "ticks": ""
             }
            },
            "type": "scatterpolar"
           }
          ],
          "scatterpolargl": [
           {
            "marker": {
             "colorbar": {
              "outlinewidth": 0,
              "ticks": ""
             }
            },
            "type": "scatterpolargl"
           }
          ],
          "scatterternary": [
           {
            "marker": {
             "colorbar": {
              "outlinewidth": 0,
              "ticks": ""
             }
            },
            "type": "scatterternary"
           }
          ],
          "surface": [
           {
            "colorbar": {
             "outlinewidth": 0,
             "ticks": ""
            },
            "colorscale": [
             [
              0,
              "#0d0887"
             ],
             [
              0.1111111111111111,
              "#46039f"
             ],
             [
              0.2222222222222222,
              "#7201a8"
             ],
             [
              0.3333333333333333,
              "#9c179e"
             ],
             [
              0.4444444444444444,
              "#bd3786"
             ],
             [
              0.5555555555555556,
              "#d8576b"
             ],
             [
              0.6666666666666666,
              "#ed7953"
             ],
             [
              0.7777777777777778,
              "#fb9f3a"
             ],
             [
              0.8888888888888888,
              "#fdca26"
             ],
             [
              1,
              "#f0f921"
             ]
            ],
            "type": "surface"
           }
          ],
          "table": [
           {
            "cells": {
             "fill": {
              "color": "#EBF0F8"
             },
             "line": {
              "color": "white"
             }
            },
            "header": {
             "fill": {
              "color": "#C8D4E3"
             },
             "line": {
              "color": "white"
             }
            },
            "type": "table"
           }
          ]
         },
         "layout": {
          "annotationdefaults": {
           "arrowcolor": "#2a3f5f",
           "arrowhead": 0,
           "arrowwidth": 1
          },
          "autotypenumbers": "strict",
          "coloraxis": {
           "colorbar": {
            "outlinewidth": 0,
            "ticks": ""
           }
          },
          "colorscale": {
           "diverging": [
            [
             0,
             "#8e0152"
            ],
            [
             0.1,
             "#c51b7d"
            ],
            [
             0.2,
             "#de77ae"
            ],
            [
             0.3,
             "#f1b6da"
            ],
            [
             0.4,
             "#fde0ef"
            ],
            [
             0.5,
             "#f7f7f7"
            ],
            [
             0.6,
             "#e6f5d0"
            ],
            [
             0.7,
             "#b8e186"
            ],
            [
             0.8,
             "#7fbc41"
            ],
            [
             0.9,
             "#4d9221"
            ],
            [
             1,
             "#276419"
            ]
           ],
           "sequential": [
            [
             0,
             "#0d0887"
            ],
            [
             0.1111111111111111,
             "#46039f"
            ],
            [
             0.2222222222222222,
             "#7201a8"
            ],
            [
             0.3333333333333333,
             "#9c179e"
            ],
            [
             0.4444444444444444,
             "#bd3786"
            ],
            [
             0.5555555555555556,
             "#d8576b"
            ],
            [
             0.6666666666666666,
             "#ed7953"
            ],
            [
             0.7777777777777778,
             "#fb9f3a"
            ],
            [
             0.8888888888888888,
             "#fdca26"
            ],
            [
             1,
             "#f0f921"
            ]
           ],
           "sequentialminus": [
            [
             0,
             "#0d0887"
            ],
            [
             0.1111111111111111,
             "#46039f"
            ],
            [
             0.2222222222222222,
             "#7201a8"
            ],
            [
             0.3333333333333333,
             "#9c179e"
            ],
            [
             0.4444444444444444,
             "#bd3786"
            ],
            [
             0.5555555555555556,
             "#d8576b"
            ],
            [
             0.6666666666666666,
             "#ed7953"
            ],
            [
             0.7777777777777778,
             "#fb9f3a"
            ],
            [
             0.8888888888888888,
             "#fdca26"
            ],
            [
             1,
             "#f0f921"
            ]
           ]
          },
          "colorway": [
           "#636efa",
           "#EF553B",
           "#00cc96",
           "#ab63fa",
           "#FFA15A",
           "#19d3f3",
           "#FF6692",
           "#B6E880",
           "#FF97FF",
           "#FECB52"
          ],
          "font": {
           "color": "#2a3f5f"
          },
          "geo": {
           "bgcolor": "white",
           "lakecolor": "white",
           "landcolor": "#E5ECF6",
           "showlakes": true,
           "showland": true,
           "subunitcolor": "white"
          },
          "hoverlabel": {
           "align": "left"
          },
          "hovermode": "closest",
          "mapbox": {
           "style": "light"
          },
          "paper_bgcolor": "white",
          "plot_bgcolor": "#E5ECF6",
          "polar": {
           "angularaxis": {
            "gridcolor": "white",
            "linecolor": "white",
            "ticks": ""
           },
           "bgcolor": "#E5ECF6",
           "radialaxis": {
            "gridcolor": "white",
            "linecolor": "white",
            "ticks": ""
           }
          },
          "scene": {
           "xaxis": {
            "backgroundcolor": "#E5ECF6",
            "gridcolor": "white",
            "gridwidth": 2,
            "linecolor": "white",
            "showbackground": true,
            "ticks": "",
            "zerolinecolor": "white"
           },
           "yaxis": {
            "backgroundcolor": "#E5ECF6",
            "gridcolor": "white",
            "gridwidth": 2,
            "linecolor": "white",
            "showbackground": true,
            "ticks": "",
            "zerolinecolor": "white"
           },
           "zaxis": {
            "backgroundcolor": "#E5ECF6",
            "gridcolor": "white",
            "gridwidth": 2,
            "linecolor": "white",
            "showbackground": true,
            "ticks": "",
            "zerolinecolor": "white"
           }
          },
          "shapedefaults": {
           "line": {
            "color": "#2a3f5f"
           }
          },
          "ternary": {
           "aaxis": {
            "gridcolor": "white",
            "linecolor": "white",
            "ticks": ""
           },
           "baxis": {
            "gridcolor": "white",
            "linecolor": "white",
            "ticks": ""
           },
           "bgcolor": "#E5ECF6",
           "caxis": {
            "gridcolor": "white",
            "linecolor": "white",
            "ticks": ""
           }
          },
          "title": {
           "x": 0.05
          },
          "xaxis": {
           "automargin": true,
           "gridcolor": "white",
           "linecolor": "white",
           "ticks": "",
           "title": {
            "standoff": 15
           },
           "zerolinecolor": "white",
           "zerolinewidth": 2
          },
          "yaxis": {
           "automargin": true,
           "gridcolor": "white",
           "linecolor": "white",
           "ticks": "",
           "title": {
            "standoff": 15
           },
           "zerolinecolor": "white",
           "zerolinewidth": 2
          }
         }
        },
        "title": {
         "text": "Norwegian Olympic medals"
        },
        "xaxis": {
         "anchor": "y",
         "domain": [
          0,
          1
         ],
         "tickangle": -90,
         "title": {
          "text": "Year"
         }
        },
        "yaxis": {
         "anchor": "x",
         "domain": [
          0,
          1
         ],
         "title": {
          "text": "Number of medals"
         }
        }
       }
      }
     },
     "metadata": {},
     "output_type": "display_data"
    }
   ],
   "source": [
    "nor_wom = nor[nor[\"Sex\"] == \"F\"]\n",
    "nor_men = nor[nor[\"Sex\"] == \"M\"]\n",
    "nor_medals_wom = medal_counter(nor_wom, \"Games\").sort_values(by=\"Games\")\n",
    "nor_medals_men = medal_counter(nor_men, \"Games\").sort_values(by=\"Games\")\n",
    "\n",
    "fig = px.line(nor_medals.reset_index(), x=\"Games\", y=\"Total\", color_discrete_sequence=[\"crimson\"], labels={\"Total\": \"Overall\"}, title=\"Norwegian Olympic medals\")\n",
    "fig.add_scatter(x=nor_medals_men.reset_index()[\"Games\"], y=nor_medals_men[\"Total\"], mode=\"lines\", name=\"Men\", line=dict(color=\"forestgreen\"))\n",
    "fig.add_scatter(x=nor_medals_wom.reset_index()[\"Games\"], y=nor_medals_wom[\"Total\"], mode=\"lines\", name=\"Women\", line=dict(color=\"orange\"))\n",
    "fig.update_layout(xaxis_title=\"Year\", yaxis_title=\"Number of medals\", legend_title_text=\"Category\")\n",
    "fig.update_xaxes(tickangle=-90)\n",
    "fig.show()\n",
    "\n",
    "# FIXME: t ex, 1920 har overall 32, men 32 och women 1. 2014 har overall 26, men 14 och women 13. "
   ]
  },
  {
   "cell_type": "code",
   "execution_count": 223,
   "metadata": {},
   "outputs": [
    {
     "data": {
      "text/html": [
       "<div>\n",
       "<style scoped>\n",
       "    .dataframe tbody tr th:only-of-type {\n",
       "        vertical-align: middle;\n",
       "    }\n",
       "\n",
       "    .dataframe tbody tr th {\n",
       "        vertical-align: top;\n",
       "    }\n",
       "\n",
       "    .dataframe thead th {\n",
       "        text-align: right;\n",
       "    }\n",
       "</style>\n",
       "<table border=\"1\" class=\"dataframe\">\n",
       "  <thead>\n",
       "    <tr style=\"text-align: right;\">\n",
       "      <th></th>\n",
       "      <th>Games</th>\n",
       "      <th>All</th>\n",
       "      <th>Women</th>\n",
       "      <th>Men</th>\n",
       "    </tr>\n",
       "  </thead>\n",
       "  <tbody>\n",
       "    <tr>\n",
       "      <th>0</th>\n",
       "      <td>1900 Summer</td>\n",
       "      <td>7</td>\n",
       "      <td>0</td>\n",
       "      <td>7</td>\n",
       "    </tr>\n",
       "    <tr>\n",
       "      <th>1</th>\n",
       "      <td>1904 Summer</td>\n",
       "      <td>3</td>\n",
       "      <td>0</td>\n",
       "      <td>3</td>\n",
       "    </tr>\n",
       "    <tr>\n",
       "      <th>2</th>\n",
       "      <td>1906 Summer</td>\n",
       "      <td>32</td>\n",
       "      <td>0</td>\n",
       "      <td>32</td>\n",
       "    </tr>\n",
       "    <tr>\n",
       "      <th>3</th>\n",
       "      <td>1908 Summer</td>\n",
       "      <td>69</td>\n",
       "      <td>0</td>\n",
       "      <td>69</td>\n",
       "    </tr>\n",
       "    <tr>\n",
       "      <th>4</th>\n",
       "      <td>1912 Summer</td>\n",
       "      <td>190</td>\n",
       "      <td>2</td>\n",
       "      <td>188</td>\n",
       "    </tr>\n",
       "  </tbody>\n",
       "</table>\n",
       "</div>"
      ],
      "text/plain": [
       "         Games  All  Women  Men\n",
       "0  1900 Summer    7      0    7\n",
       "1  1904 Summer    3      0    3\n",
       "2  1906 Summer   32      0   32\n",
       "3  1908 Summer   69      0   69\n",
       "4  1912 Summer  190      2  188"
      ]
     },
     "execution_count": 223,
     "metadata": {},
     "output_type": "execute_result"
    }
   ],
   "source": [
    "nor_athletes = nor.groupby(\"Games\")[\"ID\"].nunique().reset_index(name=\"All\")\n",
    "nor_athletes_wom = nor_wom.groupby(\"Games\")[\"ID\"].nunique().reset_index(name=\"Women\")\n",
    "nor_athletes_men = nor_men.groupby(\"Games\")[\"ID\"].nunique().reset_index(name=\"Men\")\n",
    "nor_athletes = nor_athletes.merge(nor_athletes_wom, on=\"Games\", how=\"left\").fillna(0)\n",
    "nor_athletes = nor_athletes.merge(nor_athletes_men, on=\"Games\", how=\"left\").fillna(0)\n",
    "nor_athletes[[\"Women\", \"Men\"]] = nor_athletes[[\"Women\", \"Men\"]].astype(int)\n",
    "nor_athletes.head()"
   ]
  },
  {
   "cell_type": "code",
   "execution_count": 224,
   "metadata": {},
   "outputs": [
    {
     "data": {
      "application/vnd.plotly.v1+json": {
       "config": {
        "plotlyServerURL": "https://plot.ly"
       },
       "data": [
        {
         "alignmentgroup": "True",
         "hovertemplate": "Gender=Women<br>=%{x}<br>Pizza=%{y}<extra></extra>",
         "legendgroup": "Women",
         "marker": {
          "color": "orange",
          "pattern": {
           "shape": ""
          }
         },
         "name": "Women",
         "offsetgroup": "Women",
         "orientation": "v",
         "showlegend": true,
         "textposition": "auto",
         "type": "bar",
         "x": [
          "1900 Summer",
          "1904 Summer",
          "1906 Summer",
          "1908 Summer",
          "1912 Summer",
          "1920 Summer",
          "1924 Summer",
          "1924 Winter",
          "1928 Summer",
          "1928 Winter",
          "1932 Summer",
          "1932 Winter",
          "1936 Summer",
          "1936 Winter",
          "1948 Summer",
          "1948 Winter",
          "1952 Summer",
          "1952 Winter",
          "1956 Summer",
          "1956 Winter",
          "1960 Summer",
          "1960 Winter",
          "1964 Summer",
          "1964 Winter",
          "1968 Summer",
          "1968 Winter",
          "1972 Summer",
          "1972 Winter",
          "1976 Summer",
          "1976 Winter",
          "1980 Winter",
          "1984 Summer",
          "1984 Winter",
          "1988 Summer",
          "1988 Winter",
          "1992 Summer",
          "1992 Winter",
          "1994 Winter",
          "1996 Summer",
          "1998 Winter",
          "2000 Summer",
          "2002 Winter",
          "2004 Summer",
          "2006 Winter",
          "2008 Summer",
          "2010 Winter",
          "2012 Summer",
          "2014 Winter",
          "2016 Summer"
         ],
         "xaxis": "x",
         "y": [
          0,
          0,
          0,
          0,
          2,
          6,
          2,
          1,
          0,
          3,
          1,
          1,
          2,
          6,
          4,
          4,
          6,
          12,
          3,
          8,
          1,
          4,
          2,
          7,
          8,
          11,
          11,
          11,
          6,
          7,
          9,
          19,
          8,
          25,
          10,
          32,
          19,
          21,
          55,
          27,
          49,
          27,
          17,
          21,
          54,
          25,
          28,
          32,
          33
         ],
         "yaxis": "y"
        },
        {
         "alignmentgroup": "True",
         "hovertemplate": "Gender=Men<br>=%{x}<br>Pizza=%{y}<extra></extra>",
         "legendgroup": "Men",
         "marker": {
          "color": "forestgreen",
          "pattern": {
           "shape": ""
          }
         },
         "name": "Men",
         "offsetgroup": "Men",
         "orientation": "v",
         "showlegend": true,
         "textposition": "auto",
         "type": "bar",
         "x": [
          "1900 Summer",
          "1904 Summer",
          "1906 Summer",
          "1908 Summer",
          "1912 Summer",
          "1920 Summer",
          "1924 Summer",
          "1924 Winter",
          "1928 Summer",
          "1928 Winter",
          "1932 Summer",
          "1932 Winter",
          "1936 Summer",
          "1936 Winter",
          "1948 Summer",
          "1948 Winter",
          "1952 Summer",
          "1952 Winter",
          "1956 Summer",
          "1956 Winter",
          "1960 Summer",
          "1960 Winter",
          "1964 Summer",
          "1964 Winter",
          "1968 Summer",
          "1968 Winter",
          "1972 Summer",
          "1972 Winter",
          "1976 Summer",
          "1976 Winter",
          "1980 Winter",
          "1984 Summer",
          "1984 Winter",
          "1988 Summer",
          "1988 Winter",
          "1992 Summer",
          "1992 Winter",
          "1994 Winter",
          "1996 Summer",
          "1998 Winter",
          "2000 Summer",
          "2002 Winter",
          "2004 Summer",
          "2006 Winter",
          "2008 Summer",
          "2010 Winter",
          "2012 Summer",
          "2014 Winter",
          "2016 Summer"
         ],
         "xaxis": "x",
         "y": [
          7,
          3,
          32,
          69,
          188,
          187,
          60,
          13,
          52,
          22,
          6,
          18,
          68,
          25,
          77,
          45,
          96,
          61,
          19,
          37,
          39,
          25,
          24,
          51,
          38,
          54,
          101,
          56,
          60,
          34,
          54,
          84,
          50,
          44,
          53,
          51,
          60,
          66,
          42,
          48,
          44,
          50,
          35,
          46,
          30,
          70,
          33,
          78,
          29
         ],
         "yaxis": "y"
        }
       ],
       "layout": {
        "barmode": "relative",
        "legend": {
         "title": {
          "text": "Gender"
         },
         "tracegroupgap": 0
        },
        "template": {
         "data": {
          "bar": [
           {
            "error_x": {
             "color": "#2a3f5f"
            },
            "error_y": {
             "color": "#2a3f5f"
            },
            "marker": {
             "line": {
              "color": "#E5ECF6",
              "width": 0.5
             },
             "pattern": {
              "fillmode": "overlay",
              "size": 10,
              "solidity": 0.2
             }
            },
            "type": "bar"
           }
          ],
          "barpolar": [
           {
            "marker": {
             "line": {
              "color": "#E5ECF6",
              "width": 0.5
             },
             "pattern": {
              "fillmode": "overlay",
              "size": 10,
              "solidity": 0.2
             }
            },
            "type": "barpolar"
           }
          ],
          "carpet": [
           {
            "aaxis": {
             "endlinecolor": "#2a3f5f",
             "gridcolor": "white",
             "linecolor": "white",
             "minorgridcolor": "white",
             "startlinecolor": "#2a3f5f"
            },
            "baxis": {
             "endlinecolor": "#2a3f5f",
             "gridcolor": "white",
             "linecolor": "white",
             "minorgridcolor": "white",
             "startlinecolor": "#2a3f5f"
            },
            "type": "carpet"
           }
          ],
          "choropleth": [
           {
            "colorbar": {
             "outlinewidth": 0,
             "ticks": ""
            },
            "type": "choropleth"
           }
          ],
          "contour": [
           {
            "colorbar": {
             "outlinewidth": 0,
             "ticks": ""
            },
            "colorscale": [
             [
              0,
              "#0d0887"
             ],
             [
              0.1111111111111111,
              "#46039f"
             ],
             [
              0.2222222222222222,
              "#7201a8"
             ],
             [
              0.3333333333333333,
              "#9c179e"
             ],
             [
              0.4444444444444444,
              "#bd3786"
             ],
             [
              0.5555555555555556,
              "#d8576b"
             ],
             [
              0.6666666666666666,
              "#ed7953"
             ],
             [
              0.7777777777777778,
              "#fb9f3a"
             ],
             [
              0.8888888888888888,
              "#fdca26"
             ],
             [
              1,
              "#f0f921"
             ]
            ],
            "type": "contour"
           }
          ],
          "contourcarpet": [
           {
            "colorbar": {
             "outlinewidth": 0,
             "ticks": ""
            },
            "type": "contourcarpet"
           }
          ],
          "heatmap": [
           {
            "colorbar": {
             "outlinewidth": 0,
             "ticks": ""
            },
            "colorscale": [
             [
              0,
              "#0d0887"
             ],
             [
              0.1111111111111111,
              "#46039f"
             ],
             [
              0.2222222222222222,
              "#7201a8"
             ],
             [
              0.3333333333333333,
              "#9c179e"
             ],
             [
              0.4444444444444444,
              "#bd3786"
             ],
             [
              0.5555555555555556,
              "#d8576b"
             ],
             [
              0.6666666666666666,
              "#ed7953"
             ],
             [
              0.7777777777777778,
              "#fb9f3a"
             ],
             [
              0.8888888888888888,
              "#fdca26"
             ],
             [
              1,
              "#f0f921"
             ]
            ],
            "type": "heatmap"
           }
          ],
          "heatmapgl": [
           {
            "colorbar": {
             "outlinewidth": 0,
             "ticks": ""
            },
            "colorscale": [
             [
              0,
              "#0d0887"
             ],
             [
              0.1111111111111111,
              "#46039f"
             ],
             [
              0.2222222222222222,
              "#7201a8"
             ],
             [
              0.3333333333333333,
              "#9c179e"
             ],
             [
              0.4444444444444444,
              "#bd3786"
             ],
             [
              0.5555555555555556,
              "#d8576b"
             ],
             [
              0.6666666666666666,
              "#ed7953"
             ],
             [
              0.7777777777777778,
              "#fb9f3a"
             ],
             [
              0.8888888888888888,
              "#fdca26"
             ],
             [
              1,
              "#f0f921"
             ]
            ],
            "type": "heatmapgl"
           }
          ],
          "histogram": [
           {
            "marker": {
             "pattern": {
              "fillmode": "overlay",
              "size": 10,
              "solidity": 0.2
             }
            },
            "type": "histogram"
           }
          ],
          "histogram2d": [
           {
            "colorbar": {
             "outlinewidth": 0,
             "ticks": ""
            },
            "colorscale": [
             [
              0,
              "#0d0887"
             ],
             [
              0.1111111111111111,
              "#46039f"
             ],
             [
              0.2222222222222222,
              "#7201a8"
             ],
             [
              0.3333333333333333,
              "#9c179e"
             ],
             [
              0.4444444444444444,
              "#bd3786"
             ],
             [
              0.5555555555555556,
              "#d8576b"
             ],
             [
              0.6666666666666666,
              "#ed7953"
             ],
             [
              0.7777777777777778,
              "#fb9f3a"
             ],
             [
              0.8888888888888888,
              "#fdca26"
             ],
             [
              1,
              "#f0f921"
             ]
            ],
            "type": "histogram2d"
           }
          ],
          "histogram2dcontour": [
           {
            "colorbar": {
             "outlinewidth": 0,
             "ticks": ""
            },
            "colorscale": [
             [
              0,
              "#0d0887"
             ],
             [
              0.1111111111111111,
              "#46039f"
             ],
             [
              0.2222222222222222,
              "#7201a8"
             ],
             [
              0.3333333333333333,
              "#9c179e"
             ],
             [
              0.4444444444444444,
              "#bd3786"
             ],
             [
              0.5555555555555556,
              "#d8576b"
             ],
             [
              0.6666666666666666,
              "#ed7953"
             ],
             [
              0.7777777777777778,
              "#fb9f3a"
             ],
             [
              0.8888888888888888,
              "#fdca26"
             ],
             [
              1,
              "#f0f921"
             ]
            ],
            "type": "histogram2dcontour"
           }
          ],
          "mesh3d": [
           {
            "colorbar": {
             "outlinewidth": 0,
             "ticks": ""
            },
            "type": "mesh3d"
           }
          ],
          "parcoords": [
           {
            "line": {
             "colorbar": {
              "outlinewidth": 0,
              "ticks": ""
             }
            },
            "type": "parcoords"
           }
          ],
          "pie": [
           {
            "automargin": true,
            "type": "pie"
           }
          ],
          "scatter": [
           {
            "fillpattern": {
             "fillmode": "overlay",
             "size": 10,
             "solidity": 0.2
            },
            "type": "scatter"
           }
          ],
          "scatter3d": [
           {
            "line": {
             "colorbar": {
              "outlinewidth": 0,
              "ticks": ""
             }
            },
            "marker": {
             "colorbar": {
              "outlinewidth": 0,
              "ticks": ""
             }
            },
            "type": "scatter3d"
           }
          ],
          "scattercarpet": [
           {
            "marker": {
             "colorbar": {
              "outlinewidth": 0,
              "ticks": ""
             }
            },
            "type": "scattercarpet"
           }
          ],
          "scattergeo": [
           {
            "marker": {
             "colorbar": {
              "outlinewidth": 0,
              "ticks": ""
             }
            },
            "type": "scattergeo"
           }
          ],
          "scattergl": [
           {
            "marker": {
             "colorbar": {
              "outlinewidth": 0,
              "ticks": ""
             }
            },
            "type": "scattergl"
           }
          ],
          "scattermapbox": [
           {
            "marker": {
             "colorbar": {
              "outlinewidth": 0,
              "ticks": ""
             }
            },
            "type": "scattermapbox"
           }
          ],
          "scatterpolar": [
           {
            "marker": {
             "colorbar": {
              "outlinewidth": 0,
              "ticks": ""
             }
            },
            "type": "scatterpolar"
           }
          ],
          "scatterpolargl": [
           {
            "marker": {
             "colorbar": {
              "outlinewidth": 0,
              "ticks": ""
             }
            },
            "type": "scatterpolargl"
           }
          ],
          "scatterternary": [
           {
            "marker": {
             "colorbar": {
              "outlinewidth": 0,
              "ticks": ""
             }
            },
            "type": "scatterternary"
           }
          ],
          "surface": [
           {
            "colorbar": {
             "outlinewidth": 0,
             "ticks": ""
            },
            "colorscale": [
             [
              0,
              "#0d0887"
             ],
             [
              0.1111111111111111,
              "#46039f"
             ],
             [
              0.2222222222222222,
              "#7201a8"
             ],
             [
              0.3333333333333333,
              "#9c179e"
             ],
             [
              0.4444444444444444,
              "#bd3786"
             ],
             [
              0.5555555555555556,
              "#d8576b"
             ],
             [
              0.6666666666666666,
              "#ed7953"
             ],
             [
              0.7777777777777778,
              "#fb9f3a"
             ],
             [
              0.8888888888888888,
              "#fdca26"
             ],
             [
              1,
              "#f0f921"
             ]
            ],
            "type": "surface"
           }
          ],
          "table": [
           {
            "cells": {
             "fill": {
              "color": "#EBF0F8"
             },
             "line": {
              "color": "white"
             }
            },
            "header": {
             "fill": {
              "color": "#C8D4E3"
             },
             "line": {
              "color": "white"
             }
            },
            "type": "table"
           }
          ]
         },
         "layout": {
          "annotationdefaults": {
           "arrowcolor": "#2a3f5f",
           "arrowhead": 0,
           "arrowwidth": 1
          },
          "autotypenumbers": "strict",
          "coloraxis": {
           "colorbar": {
            "outlinewidth": 0,
            "ticks": ""
           }
          },
          "colorscale": {
           "diverging": [
            [
             0,
             "#8e0152"
            ],
            [
             0.1,
             "#c51b7d"
            ],
            [
             0.2,
             "#de77ae"
            ],
            [
             0.3,
             "#f1b6da"
            ],
            [
             0.4,
             "#fde0ef"
            ],
            [
             0.5,
             "#f7f7f7"
            ],
            [
             0.6,
             "#e6f5d0"
            ],
            [
             0.7,
             "#b8e186"
            ],
            [
             0.8,
             "#7fbc41"
            ],
            [
             0.9,
             "#4d9221"
            ],
            [
             1,
             "#276419"
            ]
           ],
           "sequential": [
            [
             0,
             "#0d0887"
            ],
            [
             0.1111111111111111,
             "#46039f"
            ],
            [
             0.2222222222222222,
             "#7201a8"
            ],
            [
             0.3333333333333333,
             "#9c179e"
            ],
            [
             0.4444444444444444,
             "#bd3786"
            ],
            [
             0.5555555555555556,
             "#d8576b"
            ],
            [
             0.6666666666666666,
             "#ed7953"
            ],
            [
             0.7777777777777778,
             "#fb9f3a"
            ],
            [
             0.8888888888888888,
             "#fdca26"
            ],
            [
             1,
             "#f0f921"
            ]
           ],
           "sequentialminus": [
            [
             0,
             "#0d0887"
            ],
            [
             0.1111111111111111,
             "#46039f"
            ],
            [
             0.2222222222222222,
             "#7201a8"
            ],
            [
             0.3333333333333333,
             "#9c179e"
            ],
            [
             0.4444444444444444,
             "#bd3786"
            ],
            [
             0.5555555555555556,
             "#d8576b"
            ],
            [
             0.6666666666666666,
             "#ed7953"
            ],
            [
             0.7777777777777778,
             "#fb9f3a"
            ],
            [
             0.8888888888888888,
             "#fdca26"
            ],
            [
             1,
             "#f0f921"
            ]
           ]
          },
          "colorway": [
           "#636efa",
           "#EF553B",
           "#00cc96",
           "#ab63fa",
           "#FFA15A",
           "#19d3f3",
           "#FF6692",
           "#B6E880",
           "#FF97FF",
           "#FECB52"
          ],
          "font": {
           "color": "#2a3f5f"
          },
          "geo": {
           "bgcolor": "white",
           "lakecolor": "white",
           "landcolor": "#E5ECF6",
           "showlakes": true,
           "showland": true,
           "subunitcolor": "white"
          },
          "hoverlabel": {
           "align": "left"
          },
          "hovermode": "closest",
          "mapbox": {
           "style": "light"
          },
          "paper_bgcolor": "white",
          "plot_bgcolor": "#E5ECF6",
          "polar": {
           "angularaxis": {
            "gridcolor": "white",
            "linecolor": "white",
            "ticks": ""
           },
           "bgcolor": "#E5ECF6",
           "radialaxis": {
            "gridcolor": "white",
            "linecolor": "white",
            "ticks": ""
           }
          },
          "scene": {
           "xaxis": {
            "backgroundcolor": "#E5ECF6",
            "gridcolor": "white",
            "gridwidth": 2,
            "linecolor": "white",
            "showbackground": true,
            "ticks": "",
            "zerolinecolor": "white"
           },
           "yaxis": {
            "backgroundcolor": "#E5ECF6",
            "gridcolor": "white",
            "gridwidth": 2,
            "linecolor": "white",
            "showbackground": true,
            "ticks": "",
            "zerolinecolor": "white"
           },
           "zaxis": {
            "backgroundcolor": "#E5ECF6",
            "gridcolor": "white",
            "gridwidth": 2,
            "linecolor": "white",
            "showbackground": true,
            "ticks": "",
            "zerolinecolor": "white"
           }
          },
          "shapedefaults": {
           "line": {
            "color": "#2a3f5f"
           }
          },
          "ternary": {
           "aaxis": {
            "gridcolor": "white",
            "linecolor": "white",
            "ticks": ""
           },
           "baxis": {
            "gridcolor": "white",
            "linecolor": "white",
            "ticks": ""
           },
           "bgcolor": "#E5ECF6",
           "caxis": {
            "gridcolor": "white",
            "linecolor": "white",
            "ticks": ""
           }
          },
          "title": {
           "x": 0.05
          },
          "xaxis": {
           "automargin": true,
           "gridcolor": "white",
           "linecolor": "white",
           "ticks": "",
           "title": {
            "standoff": 15
           },
           "zerolinecolor": "white",
           "zerolinewidth": 2
          },
          "yaxis": {
           "automargin": true,
           "gridcolor": "white",
           "linecolor": "white",
           "ticks": "",
           "title": {
            "standoff": 15
           },
           "zerolinecolor": "white",
           "zerolinewidth": 2
          }
         }
        },
        "title": {
         "text": "Norwegian athletes in the Olympics"
        },
        "xaxis": {
         "anchor": "y",
         "domain": [
          0,
          1
         ],
         "tickangle": -90,
         "title": {
          "text": ""
         }
        },
        "yaxis": {
         "anchor": "x",
         "domain": [
          0,
          1
         ],
         "title": {
          "text": "Pizza"
         }
        }
       }
      }
     },
     "metadata": {},
     "output_type": "display_data"
    }
   ],
   "source": [
    "fig = px.bar(nor_athletes, x=\"Games\", y=[\"Women\", \"Men\"], \n",
    "             color_discrete_sequence=[\"orange\", \"forestgreen\"], \n",
    "             title=\"Norwegian athletes in the Olympics\", \n",
    "             labels={\"value\": \"Pizza\", \"variable\": \"Gender\", \"Games\": \"\"})\n",
    "fig.update_xaxes(tickangle=-90)\n",
    "fig.show()"
   ]
  },
  {
   "cell_type": "code",
   "execution_count": 225,
   "metadata": {},
   "outputs": [
    {
     "data": {
      "text/html": [
       "<div>\n",
       "<style scoped>\n",
       "    .dataframe tbody tr th:only-of-type {\n",
       "        vertical-align: middle;\n",
       "    }\n",
       "\n",
       "    .dataframe tbody tr th {\n",
       "        vertical-align: top;\n",
       "    }\n",
       "\n",
       "    .dataframe thead th {\n",
       "        text-align: right;\n",
       "    }\n",
       "</style>\n",
       "<table border=\"1\" class=\"dataframe\">\n",
       "  <thead>\n",
       "    <tr style=\"text-align: right;\">\n",
       "      <th></th>\n",
       "      <th>Games</th>\n",
       "      <th>All</th>\n",
       "      <th>Women</th>\n",
       "      <th>Women%</th>\n",
       "      <th>Men</th>\n",
       "      <th>Men%</th>\n",
       "    </tr>\n",
       "  </thead>\n",
       "  <tbody>\n",
       "    <tr>\n",
       "      <th>44</th>\n",
       "      <td>2008 Summer</td>\n",
       "      <td>84</td>\n",
       "      <td>54</td>\n",
       "      <td>64</td>\n",
       "      <td>30</td>\n",
       "      <td>36</td>\n",
       "    </tr>\n",
       "    <tr>\n",
       "      <th>45</th>\n",
       "      <td>2010 Winter</td>\n",
       "      <td>95</td>\n",
       "      <td>25</td>\n",
       "      <td>26</td>\n",
       "      <td>70</td>\n",
       "      <td>74</td>\n",
       "    </tr>\n",
       "    <tr>\n",
       "      <th>46</th>\n",
       "      <td>2012 Summer</td>\n",
       "      <td>61</td>\n",
       "      <td>28</td>\n",
       "      <td>46</td>\n",
       "      <td>33</td>\n",
       "      <td>54</td>\n",
       "    </tr>\n",
       "    <tr>\n",
       "      <th>47</th>\n",
       "      <td>2014 Winter</td>\n",
       "      <td>110</td>\n",
       "      <td>32</td>\n",
       "      <td>29</td>\n",
       "      <td>78</td>\n",
       "      <td>71</td>\n",
       "    </tr>\n",
       "    <tr>\n",
       "      <th>48</th>\n",
       "      <td>2016 Summer</td>\n",
       "      <td>62</td>\n",
       "      <td>33</td>\n",
       "      <td>53</td>\n",
       "      <td>29</td>\n",
       "      <td>47</td>\n",
       "    </tr>\n",
       "  </tbody>\n",
       "</table>\n",
       "</div>"
      ],
      "text/plain": [
       "          Games  All  Women  Women%  Men  Men%\n",
       "44  2008 Summer   84     54      64   30    36\n",
       "45  2010 Winter   95     25      26   70    74\n",
       "46  2012 Summer   61     28      46   33    54\n",
       "47  2014 Winter  110     32      29   78    71\n",
       "48  2016 Summer   62     33      53   29    47"
      ]
     },
     "metadata": {},
     "output_type": "display_data"
    },
    {
     "data": {
      "application/vnd.plotly.v1+json": {
       "config": {
        "plotlyServerURL": "https://plot.ly"
       },
       "data": [
        {
         "hovertemplate": "Gender=Women%<br> =%{x}<br>Percentage=%{y}<extra></extra>",
         "legendgroup": "Women%",
         "line": {
          "color": "orange",
          "dash": "solid"
         },
         "marker": {
          "symbol": "circle"
         },
         "mode": "lines",
         "name": "Women%",
         "orientation": "v",
         "showlegend": true,
         "type": "scatter",
         "x": [
          "1900 Summer",
          "1904 Summer",
          "1906 Summer",
          "1908 Summer",
          "1912 Summer",
          "1920 Summer",
          "1924 Summer",
          "1924 Winter",
          "1928 Summer",
          "1928 Winter",
          "1932 Summer",
          "1932 Winter",
          "1936 Summer",
          "1936 Winter",
          "1948 Summer",
          "1948 Winter",
          "1952 Summer",
          "1952 Winter",
          "1956 Summer",
          "1956 Winter",
          "1960 Summer",
          "1960 Winter",
          "1964 Summer",
          "1964 Winter",
          "1968 Summer",
          "1968 Winter",
          "1972 Summer",
          "1972 Winter",
          "1976 Summer",
          "1976 Winter",
          "1980 Winter",
          "1984 Summer",
          "1984 Winter",
          "1988 Summer",
          "1988 Winter",
          "1992 Summer",
          "1992 Winter",
          "1994 Winter",
          "1996 Summer",
          "1998 Winter",
          "2000 Summer",
          "2002 Winter",
          "2004 Summer",
          "2006 Winter",
          "2008 Summer",
          "2010 Winter",
          "2012 Summer",
          "2014 Winter",
          "2016 Summer"
         ],
         "xaxis": "x",
         "y": [
          0,
          0,
          0,
          0,
          1,
          3,
          3,
          7,
          0,
          12,
          14,
          5,
          3,
          19,
          5,
          8,
          6,
          16,
          14,
          18,
          2,
          14,
          8,
          12,
          17,
          17,
          10,
          16,
          9,
          17,
          14,
          18,
          14,
          36,
          16,
          39,
          24,
          24,
          57,
          36,
          53,
          35,
          33,
          31,
          64,
          26,
          46,
          29,
          53
         ],
         "yaxis": "y"
        },
        {
         "hovertemplate": "Gender=Men%<br> =%{x}<br>Percentage=%{y}<extra></extra>",
         "legendgroup": "Men%",
         "line": {
          "color": "forestgreen",
          "dash": "solid"
         },
         "marker": {
          "symbol": "circle"
         },
         "mode": "lines",
         "name": "Men%",
         "orientation": "v",
         "showlegend": true,
         "type": "scatter",
         "x": [
          "1900 Summer",
          "1904 Summer",
          "1906 Summer",
          "1908 Summer",
          "1912 Summer",
          "1920 Summer",
          "1924 Summer",
          "1924 Winter",
          "1928 Summer",
          "1928 Winter",
          "1932 Summer",
          "1932 Winter",
          "1936 Summer",
          "1936 Winter",
          "1948 Summer",
          "1948 Winter",
          "1952 Summer",
          "1952 Winter",
          "1956 Summer",
          "1956 Winter",
          "1960 Summer",
          "1960 Winter",
          "1964 Summer",
          "1964 Winter",
          "1968 Summer",
          "1968 Winter",
          "1972 Summer",
          "1972 Winter",
          "1976 Summer",
          "1976 Winter",
          "1980 Winter",
          "1984 Summer",
          "1984 Winter",
          "1988 Summer",
          "1988 Winter",
          "1992 Summer",
          "1992 Winter",
          "1994 Winter",
          "1996 Summer",
          "1998 Winter",
          "2000 Summer",
          "2002 Winter",
          "2004 Summer",
          "2006 Winter",
          "2008 Summer",
          "2010 Winter",
          "2012 Summer",
          "2014 Winter",
          "2016 Summer"
         ],
         "xaxis": "x",
         "y": [
          100,
          100,
          100,
          100,
          99,
          97,
          97,
          93,
          100,
          88,
          86,
          95,
          97,
          81,
          95,
          92,
          94,
          84,
          86,
          82,
          98,
          86,
          92,
          88,
          83,
          83,
          90,
          84,
          91,
          83,
          86,
          82,
          86,
          64,
          84,
          61,
          76,
          76,
          43,
          64,
          47,
          65,
          67,
          69,
          36,
          74,
          54,
          71,
          47
         ],
         "yaxis": "y"
        }
       ],
       "layout": {
        "legend": {
         "title": {
          "text": "Gender"
         },
         "tracegroupgap": 0
        },
        "template": {
         "data": {
          "bar": [
           {
            "error_x": {
             "color": "#2a3f5f"
            },
            "error_y": {
             "color": "#2a3f5f"
            },
            "marker": {
             "line": {
              "color": "#E5ECF6",
              "width": 0.5
             },
             "pattern": {
              "fillmode": "overlay",
              "size": 10,
              "solidity": 0.2
             }
            },
            "type": "bar"
           }
          ],
          "barpolar": [
           {
            "marker": {
             "line": {
              "color": "#E5ECF6",
              "width": 0.5
             },
             "pattern": {
              "fillmode": "overlay",
              "size": 10,
              "solidity": 0.2
             }
            },
            "type": "barpolar"
           }
          ],
          "carpet": [
           {
            "aaxis": {
             "endlinecolor": "#2a3f5f",
             "gridcolor": "white",
             "linecolor": "white",
             "minorgridcolor": "white",
             "startlinecolor": "#2a3f5f"
            },
            "baxis": {
             "endlinecolor": "#2a3f5f",
             "gridcolor": "white",
             "linecolor": "white",
             "minorgridcolor": "white",
             "startlinecolor": "#2a3f5f"
            },
            "type": "carpet"
           }
          ],
          "choropleth": [
           {
            "colorbar": {
             "outlinewidth": 0,
             "ticks": ""
            },
            "type": "choropleth"
           }
          ],
          "contour": [
           {
            "colorbar": {
             "outlinewidth": 0,
             "ticks": ""
            },
            "colorscale": [
             [
              0,
              "#0d0887"
             ],
             [
              0.1111111111111111,
              "#46039f"
             ],
             [
              0.2222222222222222,
              "#7201a8"
             ],
             [
              0.3333333333333333,
              "#9c179e"
             ],
             [
              0.4444444444444444,
              "#bd3786"
             ],
             [
              0.5555555555555556,
              "#d8576b"
             ],
             [
              0.6666666666666666,
              "#ed7953"
             ],
             [
              0.7777777777777778,
              "#fb9f3a"
             ],
             [
              0.8888888888888888,
              "#fdca26"
             ],
             [
              1,
              "#f0f921"
             ]
            ],
            "type": "contour"
           }
          ],
          "contourcarpet": [
           {
            "colorbar": {
             "outlinewidth": 0,
             "ticks": ""
            },
            "type": "contourcarpet"
           }
          ],
          "heatmap": [
           {
            "colorbar": {
             "outlinewidth": 0,
             "ticks": ""
            },
            "colorscale": [
             [
              0,
              "#0d0887"
             ],
             [
              0.1111111111111111,
              "#46039f"
             ],
             [
              0.2222222222222222,
              "#7201a8"
             ],
             [
              0.3333333333333333,
              "#9c179e"
             ],
             [
              0.4444444444444444,
              "#bd3786"
             ],
             [
              0.5555555555555556,
              "#d8576b"
             ],
             [
              0.6666666666666666,
              "#ed7953"
             ],
             [
              0.7777777777777778,
              "#fb9f3a"
             ],
             [
              0.8888888888888888,
              "#fdca26"
             ],
             [
              1,
              "#f0f921"
             ]
            ],
            "type": "heatmap"
           }
          ],
          "heatmapgl": [
           {
            "colorbar": {
             "outlinewidth": 0,
             "ticks": ""
            },
            "colorscale": [
             [
              0,
              "#0d0887"
             ],
             [
              0.1111111111111111,
              "#46039f"
             ],
             [
              0.2222222222222222,
              "#7201a8"
             ],
             [
              0.3333333333333333,
              "#9c179e"
             ],
             [
              0.4444444444444444,
              "#bd3786"
             ],
             [
              0.5555555555555556,
              "#d8576b"
             ],
             [
              0.6666666666666666,
              "#ed7953"
             ],
             [
              0.7777777777777778,
              "#fb9f3a"
             ],
             [
              0.8888888888888888,
              "#fdca26"
             ],
             [
              1,
              "#f0f921"
             ]
            ],
            "type": "heatmapgl"
           }
          ],
          "histogram": [
           {
            "marker": {
             "pattern": {
              "fillmode": "overlay",
              "size": 10,
              "solidity": 0.2
             }
            },
            "type": "histogram"
           }
          ],
          "histogram2d": [
           {
            "colorbar": {
             "outlinewidth": 0,
             "ticks": ""
            },
            "colorscale": [
             [
              0,
              "#0d0887"
             ],
             [
              0.1111111111111111,
              "#46039f"
             ],
             [
              0.2222222222222222,
              "#7201a8"
             ],
             [
              0.3333333333333333,
              "#9c179e"
             ],
             [
              0.4444444444444444,
              "#bd3786"
             ],
             [
              0.5555555555555556,
              "#d8576b"
             ],
             [
              0.6666666666666666,
              "#ed7953"
             ],
             [
              0.7777777777777778,
              "#fb9f3a"
             ],
             [
              0.8888888888888888,
              "#fdca26"
             ],
             [
              1,
              "#f0f921"
             ]
            ],
            "type": "histogram2d"
           }
          ],
          "histogram2dcontour": [
           {
            "colorbar": {
             "outlinewidth": 0,
             "ticks": ""
            },
            "colorscale": [
             [
              0,
              "#0d0887"
             ],
             [
              0.1111111111111111,
              "#46039f"
             ],
             [
              0.2222222222222222,
              "#7201a8"
             ],
             [
              0.3333333333333333,
              "#9c179e"
             ],
             [
              0.4444444444444444,
              "#bd3786"
             ],
             [
              0.5555555555555556,
              "#d8576b"
             ],
             [
              0.6666666666666666,
              "#ed7953"
             ],
             [
              0.7777777777777778,
              "#fb9f3a"
             ],
             [
              0.8888888888888888,
              "#fdca26"
             ],
             [
              1,
              "#f0f921"
             ]
            ],
            "type": "histogram2dcontour"
           }
          ],
          "mesh3d": [
           {
            "colorbar": {
             "outlinewidth": 0,
             "ticks": ""
            },
            "type": "mesh3d"
           }
          ],
          "parcoords": [
           {
            "line": {
             "colorbar": {
              "outlinewidth": 0,
              "ticks": ""
             }
            },
            "type": "parcoords"
           }
          ],
          "pie": [
           {
            "automargin": true,
            "type": "pie"
           }
          ],
          "scatter": [
           {
            "fillpattern": {
             "fillmode": "overlay",
             "size": 10,
             "solidity": 0.2
            },
            "type": "scatter"
           }
          ],
          "scatter3d": [
           {
            "line": {
             "colorbar": {
              "outlinewidth": 0,
              "ticks": ""
             }
            },
            "marker": {
             "colorbar": {
              "outlinewidth": 0,
              "ticks": ""
             }
            },
            "type": "scatter3d"
           }
          ],
          "scattercarpet": [
           {
            "marker": {
             "colorbar": {
              "outlinewidth": 0,
              "ticks": ""
             }
            },
            "type": "scattercarpet"
           }
          ],
          "scattergeo": [
           {
            "marker": {
             "colorbar": {
              "outlinewidth": 0,
              "ticks": ""
             }
            },
            "type": "scattergeo"
           }
          ],
          "scattergl": [
           {
            "marker": {
             "colorbar": {
              "outlinewidth": 0,
              "ticks": ""
             }
            },
            "type": "scattergl"
           }
          ],
          "scattermapbox": [
           {
            "marker": {
             "colorbar": {
              "outlinewidth": 0,
              "ticks": ""
             }
            },
            "type": "scattermapbox"
           }
          ],
          "scatterpolar": [
           {
            "marker": {
             "colorbar": {
              "outlinewidth": 0,
              "ticks": ""
             }
            },
            "type": "scatterpolar"
           }
          ],
          "scatterpolargl": [
           {
            "marker": {
             "colorbar": {
              "outlinewidth": 0,
              "ticks": ""
             }
            },
            "type": "scatterpolargl"
           }
          ],
          "scatterternary": [
           {
            "marker": {
             "colorbar": {
              "outlinewidth": 0,
              "ticks": ""
             }
            },
            "type": "scatterternary"
           }
          ],
          "surface": [
           {
            "colorbar": {
             "outlinewidth": 0,
             "ticks": ""
            },
            "colorscale": [
             [
              0,
              "#0d0887"
             ],
             [
              0.1111111111111111,
              "#46039f"
             ],
             [
              0.2222222222222222,
              "#7201a8"
             ],
             [
              0.3333333333333333,
              "#9c179e"
             ],
             [
              0.4444444444444444,
              "#bd3786"
             ],
             [
              0.5555555555555556,
              "#d8576b"
             ],
             [
              0.6666666666666666,
              "#ed7953"
             ],
             [
              0.7777777777777778,
              "#fb9f3a"
             ],
             [
              0.8888888888888888,
              "#fdca26"
             ],
             [
              1,
              "#f0f921"
             ]
            ],
            "type": "surface"
           }
          ],
          "table": [
           {
            "cells": {
             "fill": {
              "color": "#EBF0F8"
             },
             "line": {
              "color": "white"
             }
            },
            "header": {
             "fill": {
              "color": "#C8D4E3"
             },
             "line": {
              "color": "white"
             }
            },
            "type": "table"
           }
          ]
         },
         "layout": {
          "annotationdefaults": {
           "arrowcolor": "#2a3f5f",
           "arrowhead": 0,
           "arrowwidth": 1
          },
          "autotypenumbers": "strict",
          "coloraxis": {
           "colorbar": {
            "outlinewidth": 0,
            "ticks": ""
           }
          },
          "colorscale": {
           "diverging": [
            [
             0,
             "#8e0152"
            ],
            [
             0.1,
             "#c51b7d"
            ],
            [
             0.2,
             "#de77ae"
            ],
            [
             0.3,
             "#f1b6da"
            ],
            [
             0.4,
             "#fde0ef"
            ],
            [
             0.5,
             "#f7f7f7"
            ],
            [
             0.6,
             "#e6f5d0"
            ],
            [
             0.7,
             "#b8e186"
            ],
            [
             0.8,
             "#7fbc41"
            ],
            [
             0.9,
             "#4d9221"
            ],
            [
             1,
             "#276419"
            ]
           ],
           "sequential": [
            [
             0,
             "#0d0887"
            ],
            [
             0.1111111111111111,
             "#46039f"
            ],
            [
             0.2222222222222222,
             "#7201a8"
            ],
            [
             0.3333333333333333,
             "#9c179e"
            ],
            [
             0.4444444444444444,
             "#bd3786"
            ],
            [
             0.5555555555555556,
             "#d8576b"
            ],
            [
             0.6666666666666666,
             "#ed7953"
            ],
            [
             0.7777777777777778,
             "#fb9f3a"
            ],
            [
             0.8888888888888888,
             "#fdca26"
            ],
            [
             1,
             "#f0f921"
            ]
           ],
           "sequentialminus": [
            [
             0,
             "#0d0887"
            ],
            [
             0.1111111111111111,
             "#46039f"
            ],
            [
             0.2222222222222222,
             "#7201a8"
            ],
            [
             0.3333333333333333,
             "#9c179e"
            ],
            [
             0.4444444444444444,
             "#bd3786"
            ],
            [
             0.5555555555555556,
             "#d8576b"
            ],
            [
             0.6666666666666666,
             "#ed7953"
            ],
            [
             0.7777777777777778,
             "#fb9f3a"
            ],
            [
             0.8888888888888888,
             "#fdca26"
            ],
            [
             1,
             "#f0f921"
            ]
           ]
          },
          "colorway": [
           "#636efa",
           "#EF553B",
           "#00cc96",
           "#ab63fa",
           "#FFA15A",
           "#19d3f3",
           "#FF6692",
           "#B6E880",
           "#FF97FF",
           "#FECB52"
          ],
          "font": {
           "color": "#2a3f5f"
          },
          "geo": {
           "bgcolor": "white",
           "lakecolor": "white",
           "landcolor": "#E5ECF6",
           "showlakes": true,
           "showland": true,
           "subunitcolor": "white"
          },
          "hoverlabel": {
           "align": "left"
          },
          "hovermode": "closest",
          "mapbox": {
           "style": "light"
          },
          "paper_bgcolor": "white",
          "plot_bgcolor": "#E5ECF6",
          "polar": {
           "angularaxis": {
            "gridcolor": "white",
            "linecolor": "white",
            "ticks": ""
           },
           "bgcolor": "#E5ECF6",
           "radialaxis": {
            "gridcolor": "white",
            "linecolor": "white",
            "ticks": ""
           }
          },
          "scene": {
           "xaxis": {
            "backgroundcolor": "#E5ECF6",
            "gridcolor": "white",
            "gridwidth": 2,
            "linecolor": "white",
            "showbackground": true,
            "ticks": "",
            "zerolinecolor": "white"
           },
           "yaxis": {
            "backgroundcolor": "#E5ECF6",
            "gridcolor": "white",
            "gridwidth": 2,
            "linecolor": "white",
            "showbackground": true,
            "ticks": "",
            "zerolinecolor": "white"
           },
           "zaxis": {
            "backgroundcolor": "#E5ECF6",
            "gridcolor": "white",
            "gridwidth": 2,
            "linecolor": "white",
            "showbackground": true,
            "ticks": "",
            "zerolinecolor": "white"
           }
          },
          "shapedefaults": {
           "line": {
            "color": "#2a3f5f"
           }
          },
          "ternary": {
           "aaxis": {
            "gridcolor": "white",
            "linecolor": "white",
            "ticks": ""
           },
           "baxis": {
            "gridcolor": "white",
            "linecolor": "white",
            "ticks": ""
           },
           "bgcolor": "#E5ECF6",
           "caxis": {
            "gridcolor": "white",
            "linecolor": "white",
            "ticks": ""
           }
          },
          "title": {
           "x": 0.05
          },
          "xaxis": {
           "automargin": true,
           "gridcolor": "white",
           "linecolor": "white",
           "ticks": "",
           "title": {
            "standoff": 15
           },
           "zerolinecolor": "white",
           "zerolinewidth": 2
          },
          "yaxis": {
           "automargin": true,
           "gridcolor": "white",
           "linecolor": "white",
           "ticks": "",
           "title": {
            "standoff": 15
           },
           "zerolinecolor": "white",
           "zerolinewidth": 2
          }
         }
        },
        "title": {
         "text": "Women vs men in the Norwegian Olympics teams"
        },
        "xaxis": {
         "anchor": "y",
         "domain": [
          0,
          1
         ],
         "tickangle": -90,
         "title": {
          "text": " "
         }
        },
        "yaxis": {
         "anchor": "x",
         "domain": [
          0,
          1
         ],
         "title": {
          "text": "Percentage"
         }
        }
       }
      }
     },
     "metadata": {},
     "output_type": "display_data"
    }
   ],
   "source": [
    "nor_athletes[\"Women%\"] = ((nor_athletes[\"Women\"] / nor_athletes[\"All\"]) * 100).round(0).astype(int)\n",
    "nor_athletes[\"Men%\"] = ((nor_athletes[\"Men\"] / nor_athletes[\"All\"]) * 100).round(0).astype(int)\n",
    "nor_athletes = nor_athletes.reindex(columns=[\"Games\", \"All\", \"Women\", \"Women%\", \"Men\", \"Men%\"])\n",
    "display(nor_athletes.tail())\n",
    "fig = px.line(nor_athletes, x=\"Games\", y=[\"Women%\", \"Men%\"], color_discrete_sequence=[\"orange\", \"forestgreen\"], labels={\"value\": \"Percentage\", \"variable\": \"Gender\", \"Games\": \" \"}, title=\"Women vs men in the Norwegian Olympics teams\")\n",
    "fig.update_xaxes(tickangle=-90)\n",
    "fig.show()"
   ]
  },
  {
   "cell_type": "code",
   "execution_count": 238,
   "metadata": {},
   "outputs": [
    {
     "data": {
      "text/html": [
       "<div>\n",
       "<style scoped>\n",
       "    .dataframe tbody tr th:only-of-type {\n",
       "        vertical-align: middle;\n",
       "    }\n",
       "\n",
       "    .dataframe tbody tr th {\n",
       "        vertical-align: top;\n",
       "    }\n",
       "\n",
       "    .dataframe thead th {\n",
       "        text-align: right;\n",
       "    }\n",
       "</style>\n",
       "<table border=\"1\" class=\"dataframe\">\n",
       "  <thead>\n",
       "    <tr style=\"text-align: right;\">\n",
       "      <th>Sport</th>\n",
       "      <th>Games</th>\n",
       "      <th>Alpine Skiing</th>\n",
       "      <th>Archery</th>\n",
       "      <th>Art Competitions</th>\n",
       "      <th>Athletics</th>\n",
       "      <th>Badminton</th>\n",
       "      <th>Beach Volleyball</th>\n",
       "      <th>Biathlon</th>\n",
       "      <th>Bobsleigh</th>\n",
       "      <th>Boxing</th>\n",
       "      <th>...</th>\n",
       "      <th>Skeleton</th>\n",
       "      <th>Ski Jumping</th>\n",
       "      <th>Snowboarding</th>\n",
       "      <th>Speed Skating</th>\n",
       "      <th>Swimming</th>\n",
       "      <th>Taekwondo</th>\n",
       "      <th>Tennis</th>\n",
       "      <th>Triathlon</th>\n",
       "      <th>Weightlifting</th>\n",
       "      <th>Wrestling</th>\n",
       "    </tr>\n",
       "  </thead>\n",
       "  <tbody>\n",
       "    <tr>\n",
       "      <th>0</th>\n",
       "      <td>1900 Summer</td>\n",
       "      <td>0</td>\n",
       "      <td>0</td>\n",
       "      <td>0</td>\n",
       "      <td>1</td>\n",
       "      <td>0</td>\n",
       "      <td>0</td>\n",
       "      <td>0</td>\n",
       "      <td>0</td>\n",
       "      <td>0</td>\n",
       "      <td>...</td>\n",
       "      <td>0</td>\n",
       "      <td>0</td>\n",
       "      <td>0</td>\n",
       "      <td>0</td>\n",
       "      <td>0</td>\n",
       "      <td>0</td>\n",
       "      <td>0</td>\n",
       "      <td>0</td>\n",
       "      <td>0</td>\n",
       "      <td>0</td>\n",
       "    </tr>\n",
       "    <tr>\n",
       "      <th>1</th>\n",
       "      <td>1904 Summer</td>\n",
       "      <td>0</td>\n",
       "      <td>0</td>\n",
       "      <td>0</td>\n",
       "      <td>0</td>\n",
       "      <td>0</td>\n",
       "      <td>0</td>\n",
       "      <td>0</td>\n",
       "      <td>0</td>\n",
       "      <td>0</td>\n",
       "      <td>...</td>\n",
       "      <td>0</td>\n",
       "      <td>0</td>\n",
       "      <td>0</td>\n",
       "      <td>0</td>\n",
       "      <td>0</td>\n",
       "      <td>0</td>\n",
       "      <td>0</td>\n",
       "      <td>0</td>\n",
       "      <td>0</td>\n",
       "      <td>2</td>\n",
       "    </tr>\n",
       "    <tr>\n",
       "      <th>2</th>\n",
       "      <td>1906 Summer</td>\n",
       "      <td>0</td>\n",
       "      <td>0</td>\n",
       "      <td>0</td>\n",
       "      <td>0</td>\n",
       "      <td>0</td>\n",
       "      <td>0</td>\n",
       "      <td>0</td>\n",
       "      <td>0</td>\n",
       "      <td>0</td>\n",
       "      <td>...</td>\n",
       "      <td>0</td>\n",
       "      <td>0</td>\n",
       "      <td>0</td>\n",
       "      <td>0</td>\n",
       "      <td>0</td>\n",
       "      <td>0</td>\n",
       "      <td>0</td>\n",
       "      <td>0</td>\n",
       "      <td>0</td>\n",
       "      <td>0</td>\n",
       "    </tr>\n",
       "    <tr>\n",
       "      <th>3</th>\n",
       "      <td>1908 Summer</td>\n",
       "      <td>0</td>\n",
       "      <td>0</td>\n",
       "      <td>0</td>\n",
       "      <td>3</td>\n",
       "      <td>0</td>\n",
       "      <td>0</td>\n",
       "      <td>0</td>\n",
       "      <td>0</td>\n",
       "      <td>0</td>\n",
       "      <td>...</td>\n",
       "      <td>0</td>\n",
       "      <td>0</td>\n",
       "      <td>0</td>\n",
       "      <td>0</td>\n",
       "      <td>0</td>\n",
       "      <td>0</td>\n",
       "      <td>0</td>\n",
       "      <td>0</td>\n",
       "      <td>0</td>\n",
       "      <td>1</td>\n",
       "    </tr>\n",
       "    <tr>\n",
       "      <th>4</th>\n",
       "      <td>1912 Summer</td>\n",
       "      <td>0</td>\n",
       "      <td>0</td>\n",
       "      <td>0</td>\n",
       "      <td>1</td>\n",
       "      <td>0</td>\n",
       "      <td>0</td>\n",
       "      <td>0</td>\n",
       "      <td>0</td>\n",
       "      <td>0</td>\n",
       "      <td>...</td>\n",
       "      <td>0</td>\n",
       "      <td>0</td>\n",
       "      <td>0</td>\n",
       "      <td>0</td>\n",
       "      <td>0</td>\n",
       "      <td>0</td>\n",
       "      <td>1</td>\n",
       "      <td>0</td>\n",
       "      <td>0</td>\n",
       "      <td>0</td>\n",
       "    </tr>\n",
       "  </tbody>\n",
       "</table>\n",
       "<p>5 rows × 43 columns</p>\n",
       "</div>"
      ],
      "text/plain": [
       "Sport        Games  Alpine Skiing  Archery  Art Competitions  Athletics  \\\n",
       "0      1900 Summer              0        0                 0          1   \n",
       "1      1904 Summer              0        0                 0          0   \n",
       "2      1906 Summer              0        0                 0          0   \n",
       "3      1908 Summer              0        0                 0          3   \n",
       "4      1912 Summer              0        0                 0          1   \n",
       "\n",
       "Sport  Badminton  Beach Volleyball  Biathlon  Bobsleigh  Boxing  ...  \\\n",
       "0              0                 0         0          0       0  ...   \n",
       "1              0                 0         0          0       0  ...   \n",
       "2              0                 0         0          0       0  ...   \n",
       "3              0                 0         0          0       0  ...   \n",
       "4              0                 0         0          0       0  ...   \n",
       "\n",
       "Sport  Skeleton  Ski Jumping  Snowboarding  Speed Skating  Swimming  \\\n",
       "0             0            0             0              0         0   \n",
       "1             0            0             0              0         0   \n",
       "2             0            0             0              0         0   \n",
       "3             0            0             0              0         0   \n",
       "4             0            0             0              0         0   \n",
       "\n",
       "Sport  Taekwondo  Tennis  Triathlon  Weightlifting  Wrestling  \n",
       "0              0       0          0              0          0  \n",
       "1              0       0          0              0          2  \n",
       "2              0       0          0              0          0  \n",
       "3              0       0          0              0          1  \n",
       "4              0       1          0              0          0  \n",
       "\n",
       "[5 rows x 43 columns]"
      ]
     },
     "execution_count": 238,
     "metadata": {},
     "output_type": "execute_result"
    }
   ],
   "source": [
    "nor_medals_sport = nor.copy()\n",
    "nor_medals_sport = nor_medals_sport.drop_duplicates(subset=[\"Event\", \"Games\", \"Team\", \"Medal\"])\n",
    "nor_medals_sport = nor_medals_sport.groupby([\"Games\", \"Sport\"])[\"Medal\"].count().unstack(fill_value=0)\n",
    "# nor_medals_sport[\"Total\"] = nor_medals_sport.sum(axis=1)      # bara för slippa räkna manuellt för att verifiera\n",
    "nor_medals_sport = nor_medals_sport.reset_index()\n",
    "nor_medals_sport.head()"
   ]
  },
  {
   "cell_type": "code",
   "execution_count": 288,
   "metadata": {},
   "outputs": [
    {
     "data": {
      "application/vnd.plotly.v1+json": {
       "config": {
        "plotlyServerURL": "https://plot.ly"
       },
       "data": [
        {
         "alignmentgroup": "True",
         "hovertemplate": "variable=Alpine Skiing<br>=%{x}<br>Medals=%{y}<extra></extra>",
         "legendgroup": "Alpine Skiing",
         "marker": {
          "color": "#FD3216",
          "pattern": {
           "shape": ""
          }
         },
         "name": "Alpine Skiing",
         "offsetgroup": "Alpine Skiing",
         "orientation": "v",
         "showlegend": true,
         "textposition": "auto",
         "type": "bar",
         "x": [
          "1900 Summer",
          "1904 Summer",
          "1906 Summer",
          "1908 Summer",
          "1912 Summer",
          "1920 Summer",
          "1924 Summer",
          "1924 Winter",
          "1928 Summer",
          "1928 Winter",
          "1932 Summer",
          "1932 Winter",
          "1936 Summer",
          "1936 Winter",
          "1948 Summer",
          "1948 Winter",
          "1952 Summer",
          "1952 Winter",
          "1956 Summer",
          "1956 Winter",
          "1960 Summer",
          "1960 Winter",
          "1964 Summer",
          "1964 Winter",
          "1968 Summer",
          "1968 Winter",
          "1972 Summer",
          "1972 Winter",
          "1976 Summer",
          "1976 Winter",
          "1980 Winter",
          "1984 Summer",
          "1984 Winter",
          "1988 Summer",
          "1988 Winter",
          "1992 Summer",
          "1992 Winter",
          "1994 Winter",
          "1996 Summer",
          "1998 Winter",
          "2000 Summer",
          "2002 Winter",
          "2004 Summer",
          "2006 Winter",
          "2008 Summer",
          "2010 Winter",
          "2012 Summer",
          "2014 Winter",
          "2016 Summer"
         ],
         "xaxis": "x",
         "y": [
          0,
          0,
          0,
          0,
          0,
          0,
          0,
          0,
          0,
          0,
          0,
          0,
          0,
          1,
          0,
          0,
          0,
          3,
          0,
          0,
          0,
          0,
          0,
          0,
          0,
          0,
          0,
          0,
          0,
          0,
          0,
          0,
          0,
          0,
          0,
          0,
          4,
          5,
          0,
          4,
          0,
          4,
          0,
          1,
          0,
          4,
          0,
          3,
          0
         ],
         "yaxis": "y"
        },
        {
         "alignmentgroup": "True",
         "hovertemplate": "variable=Archery<br>=%{x}<br>Medals=%{y}<extra></extra>",
         "legendgroup": "Archery",
         "marker": {
          "color": "#00FE35",
          "pattern": {
           "shape": ""
          }
         },
         "name": "Archery",
         "offsetgroup": "Archery",
         "orientation": "v",
         "showlegend": true,
         "textposition": "auto",
         "type": "bar",
         "x": [
          "1900 Summer",
          "1904 Summer",
          "1906 Summer",
          "1908 Summer",
          "1912 Summer",
          "1920 Summer",
          "1924 Summer",
          "1924 Winter",
          "1928 Summer",
          "1928 Winter",
          "1932 Summer",
          "1932 Winter",
          "1936 Summer",
          "1936 Winter",
          "1948 Summer",
          "1948 Winter",
          "1952 Summer",
          "1952 Winter",
          "1956 Summer",
          "1956 Winter",
          "1960 Summer",
          "1960 Winter",
          "1964 Summer",
          "1964 Winter",
          "1968 Summer",
          "1968 Winter",
          "1972 Summer",
          "1972 Winter",
          "1976 Summer",
          "1976 Winter",
          "1980 Winter",
          "1984 Summer",
          "1984 Winter",
          "1988 Summer",
          "1988 Winter",
          "1992 Summer",
          "1992 Winter",
          "1994 Winter",
          "1996 Summer",
          "1998 Winter",
          "2000 Summer",
          "2002 Winter",
          "2004 Summer",
          "2006 Winter",
          "2008 Summer",
          "2010 Winter",
          "2012 Summer",
          "2014 Winter",
          "2016 Summer"
         ],
         "xaxis": "x",
         "y": [
          0,
          0,
          0,
          0,
          0,
          0,
          0,
          0,
          0,
          0,
          0,
          0,
          0,
          0,
          0,
          0,
          0,
          0,
          0,
          0,
          0,
          0,
          0,
          0,
          0,
          0,
          0,
          0,
          0,
          0,
          0,
          0,
          0,
          0,
          0,
          0,
          0,
          0,
          0,
          0,
          0,
          0,
          0,
          0,
          0,
          0,
          0,
          0,
          0
         ],
         "yaxis": "y"
        },
        {
         "alignmentgroup": "True",
         "hovertemplate": "variable=Art Competitions<br>=%{x}<br>Medals=%{y}<extra></extra>",
         "legendgroup": "Art Competitions",
         "marker": {
          "color": "#6A76FC",
          "pattern": {
           "shape": ""
          }
         },
         "name": "Art Competitions",
         "offsetgroup": "Art Competitions",
         "orientation": "v",
         "showlegend": true,
         "textposition": "auto",
         "type": "bar",
         "x": [
          "1900 Summer",
          "1904 Summer",
          "1906 Summer",
          "1908 Summer",
          "1912 Summer",
          "1920 Summer",
          "1924 Summer",
          "1924 Winter",
          "1928 Summer",
          "1928 Winter",
          "1932 Summer",
          "1932 Winter",
          "1936 Summer",
          "1936 Winter",
          "1948 Summer",
          "1948 Winter",
          "1952 Summer",
          "1952 Winter",
          "1956 Summer",
          "1956 Winter",
          "1960 Summer",
          "1960 Winter",
          "1964 Summer",
          "1964 Winter",
          "1968 Summer",
          "1968 Winter",
          "1972 Summer",
          "1972 Winter",
          "1976 Summer",
          "1976 Winter",
          "1980 Winter",
          "1984 Summer",
          "1984 Winter",
          "1988 Summer",
          "1988 Winter",
          "1992 Summer",
          "1992 Winter",
          "1994 Winter",
          "1996 Summer",
          "1998 Winter",
          "2000 Summer",
          "2002 Winter",
          "2004 Summer",
          "2006 Winter",
          "2008 Summer",
          "2010 Winter",
          "2012 Summer",
          "2014 Winter",
          "2016 Summer"
         ],
         "xaxis": "x",
         "y": [
          0,
          0,
          0,
          0,
          0,
          1,
          0,
          0,
          0,
          0,
          0,
          0,
          0,
          0,
          0,
          0,
          0,
          0,
          0,
          0,
          0,
          0,
          0,
          0,
          0,
          0,
          0,
          0,
          0,
          0,
          0,
          0,
          0,
          0,
          0,
          0,
          0,
          0,
          0,
          0,
          0,
          0,
          0,
          0,
          0,
          0,
          0,
          0,
          0
         ],
         "yaxis": "y"
        },
        {
         "alignmentgroup": "True",
         "hovertemplate": "variable=Athletics<br>=%{x}<br>Medals=%{y}<extra></extra>",
         "legendgroup": "Athletics",
         "marker": {
          "color": "#FED4C4",
          "pattern": {
           "shape": ""
          }
         },
         "name": "Athletics",
         "offsetgroup": "Athletics",
         "orientation": "v",
         "showlegend": true,
         "textposition": "auto",
         "type": "bar",
         "x": [
          "1900 Summer",
          "1904 Summer",
          "1906 Summer",
          "1908 Summer",
          "1912 Summer",
          "1920 Summer",
          "1924 Summer",
          "1924 Winter",
          "1928 Summer",
          "1928 Winter",
          "1932 Summer",
          "1932 Winter",
          "1936 Summer",
          "1936 Winter",
          "1948 Summer",
          "1948 Winter",
          "1952 Summer",
          "1952 Winter",
          "1956 Summer",
          "1956 Winter",
          "1960 Summer",
          "1960 Winter",
          "1964 Summer",
          "1964 Winter",
          "1968 Summer",
          "1968 Winter",
          "1972 Summer",
          "1972 Winter",
          "1976 Summer",
          "1976 Winter",
          "1980 Winter",
          "1984 Summer",
          "1984 Winter",
          "1988 Summer",
          "1988 Winter",
          "1992 Summer",
          "1992 Winter",
          "1994 Winter",
          "1996 Summer",
          "1998 Winter",
          "2000 Summer",
          "2002 Winter",
          "2004 Summer",
          "2006 Winter",
          "2008 Summer",
          "2010 Winter",
          "2012 Summer",
          "2014 Winter",
          "2016 Summer"
         ],
         "xaxis": "x",
         "y": [
          1,
          0,
          0,
          3,
          1,
          1,
          1,
          0,
          1,
          0,
          0,
          0,
          0,
          0,
          1,
          0,
          0,
          0,
          3,
          0,
          0,
          0,
          0,
          0,
          0,
          0,
          0,
          0,
          0,
          0,
          0,
          1,
          0,
          0,
          0,
          0,
          0,
          0,
          2,
          0,
          2,
          0,
          1,
          0,
          2,
          0,
          0,
          0,
          0
         ],
         "yaxis": "y"
        },
        {
         "alignmentgroup": "True",
         "hovertemplate": "variable=Badminton<br>=%{x}<br>Medals=%{y}<extra></extra>",
         "legendgroup": "Badminton",
         "marker": {
          "color": "#FE00CE",
          "pattern": {
           "shape": ""
          }
         },
         "name": "Badminton",
         "offsetgroup": "Badminton",
         "orientation": "v",
         "showlegend": true,
         "textposition": "auto",
         "type": "bar",
         "x": [
          "1900 Summer",
          "1904 Summer",
          "1906 Summer",
          "1908 Summer",
          "1912 Summer",
          "1920 Summer",
          "1924 Summer",
          "1924 Winter",
          "1928 Summer",
          "1928 Winter",
          "1932 Summer",
          "1932 Winter",
          "1936 Summer",
          "1936 Winter",
          "1948 Summer",
          "1948 Winter",
          "1952 Summer",
          "1952 Winter",
          "1956 Summer",
          "1956 Winter",
          "1960 Summer",
          "1960 Winter",
          "1964 Summer",
          "1964 Winter",
          "1968 Summer",
          "1968 Winter",
          "1972 Summer",
          "1972 Winter",
          "1976 Summer",
          "1976 Winter",
          "1980 Winter",
          "1984 Summer",
          "1984 Winter",
          "1988 Summer",
          "1988 Winter",
          "1992 Summer",
          "1992 Winter",
          "1994 Winter",
          "1996 Summer",
          "1998 Winter",
          "2000 Summer",
          "2002 Winter",
          "2004 Summer",
          "2006 Winter",
          "2008 Summer",
          "2010 Winter",
          "2012 Summer",
          "2014 Winter",
          "2016 Summer"
         ],
         "xaxis": "x",
         "y": [
          0,
          0,
          0,
          0,
          0,
          0,
          0,
          0,
          0,
          0,
          0,
          0,
          0,
          0,
          0,
          0,
          0,
          0,
          0,
          0,
          0,
          0,
          0,
          0,
          0,
          0,
          0,
          0,
          0,
          0,
          0,
          0,
          0,
          0,
          0,
          0,
          0,
          0,
          0,
          0,
          0,
          0,
          0,
          0,
          0,
          0,
          0,
          0,
          0
         ],
         "yaxis": "y"
        },
        {
         "alignmentgroup": "True",
         "hovertemplate": "variable=Beach Volleyball<br>=%{x}<br>Medals=%{y}<extra></extra>",
         "legendgroup": "Beach Volleyball",
         "marker": {
          "color": "#0DF9FF",
          "pattern": {
           "shape": ""
          }
         },
         "name": "Beach Volleyball",
         "offsetgroup": "Beach Volleyball",
         "orientation": "v",
         "showlegend": true,
         "textposition": "auto",
         "type": "bar",
         "x": [
          "1900 Summer",
          "1904 Summer",
          "1906 Summer",
          "1908 Summer",
          "1912 Summer",
          "1920 Summer",
          "1924 Summer",
          "1924 Winter",
          "1928 Summer",
          "1928 Winter",
          "1932 Summer",
          "1932 Winter",
          "1936 Summer",
          "1936 Winter",
          "1948 Summer",
          "1948 Winter",
          "1952 Summer",
          "1952 Winter",
          "1956 Summer",
          "1956 Winter",
          "1960 Summer",
          "1960 Winter",
          "1964 Summer",
          "1964 Winter",
          "1968 Summer",
          "1968 Winter",
          "1972 Summer",
          "1972 Winter",
          "1976 Summer",
          "1976 Winter",
          "1980 Winter",
          "1984 Summer",
          "1984 Winter",
          "1988 Summer",
          "1988 Winter",
          "1992 Summer",
          "1992 Winter",
          "1994 Winter",
          "1996 Summer",
          "1998 Winter",
          "2000 Summer",
          "2002 Winter",
          "2004 Summer",
          "2006 Winter",
          "2008 Summer",
          "2010 Winter",
          "2012 Summer",
          "2014 Winter",
          "2016 Summer"
         ],
         "xaxis": "x",
         "y": [
          0,
          0,
          0,
          0,
          0,
          0,
          0,
          0,
          0,
          0,
          0,
          0,
          0,
          0,
          0,
          0,
          0,
          0,
          0,
          0,
          0,
          0,
          0,
          0,
          0,
          0,
          0,
          0,
          0,
          0,
          0,
          0,
          0,
          0,
          0,
          0,
          0,
          0,
          0,
          0,
          0,
          0,
          0,
          0,
          0,
          0,
          0,
          0,
          0
         ],
         "yaxis": "y"
        },
        {
         "alignmentgroup": "True",
         "hovertemplate": "variable=Biathlon<br>=%{x}<br>Medals=%{y}<extra></extra>",
         "legendgroup": "Biathlon",
         "marker": {
          "color": "#F6F926",
          "pattern": {
           "shape": ""
          }
         },
         "name": "Biathlon",
         "offsetgroup": "Biathlon",
         "orientation": "v",
         "showlegend": true,
         "textposition": "auto",
         "type": "bar",
         "x": [
          "1900 Summer",
          "1904 Summer",
          "1906 Summer",
          "1908 Summer",
          "1912 Summer",
          "1920 Summer",
          "1924 Summer",
          "1924 Winter",
          "1928 Summer",
          "1928 Winter",
          "1932 Summer",
          "1932 Winter",
          "1936 Summer",
          "1936 Winter",
          "1948 Summer",
          "1948 Winter",
          "1952 Summer",
          "1952 Winter",
          "1956 Summer",
          "1956 Winter",
          "1960 Summer",
          "1960 Winter",
          "1964 Summer",
          "1964 Winter",
          "1968 Summer",
          "1968 Winter",
          "1972 Summer",
          "1972 Winter",
          "1976 Summer",
          "1976 Winter",
          "1980 Winter",
          "1984 Summer",
          "1984 Winter",
          "1988 Summer",
          "1988 Winter",
          "1992 Summer",
          "1992 Winter",
          "1994 Winter",
          "1996 Summer",
          "1998 Winter",
          "2000 Summer",
          "2002 Winter",
          "2004 Summer",
          "2006 Winter",
          "2008 Summer",
          "2010 Winter",
          "2012 Summer",
          "2014 Winter",
          "2016 Summer"
         ],
         "xaxis": "x",
         "y": [
          0,
          0,
          0,
          0,
          0,
          0,
          0,
          0,
          0,
          0,
          0,
          0,
          0,
          0,
          0,
          0,
          0,
          0,
          0,
          0,
          0,
          0,
          0,
          1,
          0,
          2,
          0,
          1,
          0,
          0,
          0,
          0,
          3,
          0,
          0,
          0,
          0,
          0,
          0,
          5,
          0,
          6,
          0,
          6,
          0,
          5,
          0,
          6,
          0
         ],
         "yaxis": "y"
        },
        {
         "alignmentgroup": "True",
         "hovertemplate": "variable=Bobsleigh<br>=%{x}<br>Medals=%{y}<extra></extra>",
         "legendgroup": "Bobsleigh",
         "marker": {
          "color": "#FF9616",
          "pattern": {
           "shape": ""
          }
         },
         "name": "Bobsleigh",
         "offsetgroup": "Bobsleigh",
         "orientation": "v",
         "showlegend": true,
         "textposition": "auto",
         "type": "bar",
         "x": [
          "1900 Summer",
          "1904 Summer",
          "1906 Summer",
          "1908 Summer",
          "1912 Summer",
          "1920 Summer",
          "1924 Summer",
          "1924 Winter",
          "1928 Summer",
          "1928 Winter",
          "1932 Summer",
          "1932 Winter",
          "1936 Summer",
          "1936 Winter",
          "1948 Summer",
          "1948 Winter",
          "1952 Summer",
          "1952 Winter",
          "1956 Summer",
          "1956 Winter",
          "1960 Summer",
          "1960 Winter",
          "1964 Summer",
          "1964 Winter",
          "1968 Summer",
          "1968 Winter",
          "1972 Summer",
          "1972 Winter",
          "1976 Summer",
          "1976 Winter",
          "1980 Winter",
          "1984 Summer",
          "1984 Winter",
          "1988 Summer",
          "1988 Winter",
          "1992 Summer",
          "1992 Winter",
          "1994 Winter",
          "1996 Summer",
          "1998 Winter",
          "2000 Summer",
          "2002 Winter",
          "2004 Summer",
          "2006 Winter",
          "2008 Summer",
          "2010 Winter",
          "2012 Summer",
          "2014 Winter",
          "2016 Summer"
         ],
         "xaxis": "x",
         "y": [
          0,
          0,
          0,
          0,
          0,
          0,
          0,
          0,
          0,
          0,
          0,
          0,
          0,
          0,
          0,
          0,
          0,
          0,
          0,
          0,
          0,
          0,
          0,
          0,
          0,
          0,
          0,
          0,
          0,
          0,
          0,
          0,
          0,
          0,
          0,
          0,
          0,
          0,
          0,
          0,
          0,
          0,
          0,
          0,
          0,
          0,
          0,
          0,
          0
         ],
         "yaxis": "y"
        },
        {
         "alignmentgroup": "True",
         "hovertemplate": "variable=Boxing<br>=%{x}<br>Medals=%{y}<extra></extra>",
         "legendgroup": "Boxing",
         "marker": {
          "color": "#479B55",
          "pattern": {
           "shape": ""
          }
         },
         "name": "Boxing",
         "offsetgroup": "Boxing",
         "orientation": "v",
         "showlegend": true,
         "textposition": "auto",
         "type": "bar",
         "x": [
          "1900 Summer",
          "1904 Summer",
          "1906 Summer",
          "1908 Summer",
          "1912 Summer",
          "1920 Summer",
          "1924 Summer",
          "1924 Winter",
          "1928 Summer",
          "1928 Winter",
          "1932 Summer",
          "1932 Winter",
          "1936 Summer",
          "1936 Winter",
          "1948 Summer",
          "1948 Winter",
          "1952 Summer",
          "1952 Winter",
          "1956 Summer",
          "1956 Winter",
          "1960 Summer",
          "1960 Winter",
          "1964 Summer",
          "1964 Winter",
          "1968 Summer",
          "1968 Winter",
          "1972 Summer",
          "1972 Winter",
          "1976 Summer",
          "1976 Winter",
          "1980 Winter",
          "1984 Summer",
          "1984 Winter",
          "1988 Summer",
          "1988 Winter",
          "1992 Summer",
          "1992 Winter",
          "1994 Winter",
          "1996 Summer",
          "1998 Winter",
          "2000 Summer",
          "2002 Winter",
          "2004 Summer",
          "2006 Winter",
          "2008 Summer",
          "2010 Winter",
          "2012 Summer",
          "2014 Winter",
          "2016 Summer"
         ],
         "xaxis": "x",
         "y": [
          0,
          0,
          0,
          0,
          0,
          1,
          2,
          0,
          0,
          0,
          0,
          0,
          2,
          0,
          0,
          0,
          0,
          0,
          0,
          0,
          0,
          0,
          0,
          0,
          0,
          0,
          0,
          0,
          0,
          0,
          0,
          0,
          0,
          0,
          0,
          0,
          0,
          0,
          0,
          0,
          0,
          0,
          0,
          0,
          0,
          0,
          0,
          0,
          0
         ],
         "yaxis": "y"
        },
        {
         "alignmentgroup": "True",
         "hovertemplate": "variable=Canoeing<br>=%{x}<br>Medals=%{y}<extra></extra>",
         "legendgroup": "Canoeing",
         "marker": {
          "color": "#EEA6FB",
          "pattern": {
           "shape": ""
          }
         },
         "name": "Canoeing",
         "offsetgroup": "Canoeing",
         "orientation": "v",
         "showlegend": true,
         "textposition": "auto",
         "type": "bar",
         "x": [
          "1900 Summer",
          "1904 Summer",
          "1906 Summer",
          "1908 Summer",
          "1912 Summer",
          "1920 Summer",
          "1924 Summer",
          "1924 Winter",
          "1928 Summer",
          "1928 Winter",
          "1932 Summer",
          "1932 Winter",
          "1936 Summer",
          "1936 Winter",
          "1948 Summer",
          "1948 Winter",
          "1952 Summer",
          "1952 Winter",
          "1956 Summer",
          "1956 Winter",
          "1960 Summer",
          "1960 Winter",
          "1964 Summer",
          "1964 Winter",
          "1968 Summer",
          "1968 Winter",
          "1972 Summer",
          "1972 Winter",
          "1976 Summer",
          "1976 Winter",
          "1980 Winter",
          "1984 Summer",
          "1984 Winter",
          "1988 Summer",
          "1988 Winter",
          "1992 Summer",
          "1992 Winter",
          "1994 Winter",
          "1996 Summer",
          "1998 Winter",
          "2000 Summer",
          "2002 Winter",
          "2004 Summer",
          "2006 Winter",
          "2008 Summer",
          "2010 Winter",
          "2012 Summer",
          "2014 Winter",
          "2016 Summer"
         ],
         "xaxis": "x",
         "y": [
          0,
          0,
          0,
          0,
          0,
          0,
          0,
          0,
          0,
          0,
          0,
          0,
          0,
          0,
          2,
          0,
          0,
          0,
          0,
          0,
          0,
          0,
          0,
          0,
          1,
          0,
          1,
          0,
          0,
          0,
          0,
          0,
          0,
          0,
          0,
          2,
          0,
          0,
          2,
          0,
          2,
          0,
          2,
          0,
          1,
          0,
          1,
          0,
          0
         ],
         "yaxis": "y"
        },
        {
         "alignmentgroup": "True",
         "hovertemplate": "variable=Cross Country Skiing<br>=%{x}<br>Medals=%{y}<extra></extra>",
         "legendgroup": "Cross Country Skiing",
         "marker": {
          "color": "#DC587D",
          "pattern": {
           "shape": ""
          }
         },
         "name": "Cross Country Skiing",
         "offsetgroup": "Cross Country Skiing",
         "orientation": "v",
         "showlegend": true,
         "textposition": "auto",
         "type": "bar",
         "x": [
          "1900 Summer",
          "1904 Summer",
          "1906 Summer",
          "1908 Summer",
          "1912 Summer",
          "1920 Summer",
          "1924 Summer",
          "1924 Winter",
          "1928 Summer",
          "1928 Winter",
          "1932 Summer",
          "1932 Winter",
          "1936 Summer",
          "1936 Winter",
          "1948 Summer",
          "1948 Winter",
          "1952 Summer",
          "1952 Winter",
          "1956 Summer",
          "1956 Winter",
          "1960 Summer",
          "1960 Winter",
          "1964 Summer",
          "1964 Winter",
          "1968 Summer",
          "1968 Winter",
          "1972 Summer",
          "1972 Winter",
          "1976 Summer",
          "1976 Winter",
          "1980 Winter",
          "1984 Summer",
          "1984 Winter",
          "1988 Summer",
          "1988 Winter",
          "1992 Summer",
          "1992 Winter",
          "1994 Winter",
          "1996 Summer",
          "1998 Winter",
          "2000 Summer",
          "2002 Winter",
          "2004 Summer",
          "2006 Winter",
          "2008 Summer",
          "2010 Winter",
          "2012 Summer",
          "2014 Winter",
          "2016 Summer"
         ],
         "xaxis": "x",
         "y": [
          0,
          0,
          0,
          0,
          0,
          0,
          0,
          5,
          0,
          3,
          0,
          1,
          0,
          2,
          0,
          1,
          0,
          3,
          0,
          1,
          0,
          2,
          0,
          2,
          0,
          7,
          0,
          7,
          0,
          2,
          3,
          0,
          4,
          0,
          3,
          0,
          6,
          5,
          0,
          6,
          0,
          10,
          0,
          4,
          0,
          9,
          0,
          11,
          0
         ],
         "yaxis": "y"
        },
        {
         "alignmentgroup": "True",
         "hovertemplate": "variable=Curling<br>=%{x}<br>Medals=%{y}<extra></extra>",
         "legendgroup": "Curling",
         "marker": {
          "color": "#D626FF",
          "pattern": {
           "shape": ""
          }
         },
         "name": "Curling",
         "offsetgroup": "Curling",
         "orientation": "v",
         "showlegend": true,
         "textposition": "auto",
         "type": "bar",
         "x": [
          "1900 Summer",
          "1904 Summer",
          "1906 Summer",
          "1908 Summer",
          "1912 Summer",
          "1920 Summer",
          "1924 Summer",
          "1924 Winter",
          "1928 Summer",
          "1928 Winter",
          "1932 Summer",
          "1932 Winter",
          "1936 Summer",
          "1936 Winter",
          "1948 Summer",
          "1948 Winter",
          "1952 Summer",
          "1952 Winter",
          "1956 Summer",
          "1956 Winter",
          "1960 Summer",
          "1960 Winter",
          "1964 Summer",
          "1964 Winter",
          "1968 Summer",
          "1968 Winter",
          "1972 Summer",
          "1972 Winter",
          "1976 Summer",
          "1976 Winter",
          "1980 Winter",
          "1984 Summer",
          "1984 Winter",
          "1988 Summer",
          "1988 Winter",
          "1992 Summer",
          "1992 Winter",
          "1994 Winter",
          "1996 Summer",
          "1998 Winter",
          "2000 Summer",
          "2002 Winter",
          "2004 Summer",
          "2006 Winter",
          "2008 Summer",
          "2010 Winter",
          "2012 Summer",
          "2014 Winter",
          "2016 Summer"
         ],
         "xaxis": "x",
         "y": [
          0,
          0,
          0,
          0,
          0,
          0,
          0,
          0,
          0,
          0,
          0,
          0,
          0,
          0,
          0,
          0,
          0,
          0,
          0,
          0,
          0,
          0,
          0,
          0,
          0,
          0,
          0,
          0,
          0,
          0,
          0,
          0,
          0,
          0,
          0,
          0,
          0,
          0,
          0,
          1,
          0,
          1,
          0,
          0,
          0,
          1,
          0,
          0,
          0
         ],
         "yaxis": "y"
        },
        {
         "alignmentgroup": "True",
         "hovertemplate": "variable=Cycling<br>=%{x}<br>Medals=%{y}<extra></extra>",
         "legendgroup": "Cycling",
         "marker": {
          "color": "#6E899C",
          "pattern": {
           "shape": ""
          }
         },
         "name": "Cycling",
         "offsetgroup": "Cycling",
         "orientation": "v",
         "showlegend": true,
         "textposition": "auto",
         "type": "bar",
         "x": [
          "1900 Summer",
          "1904 Summer",
          "1906 Summer",
          "1908 Summer",
          "1912 Summer",
          "1920 Summer",
          "1924 Summer",
          "1924 Winter",
          "1928 Summer",
          "1928 Winter",
          "1932 Summer",
          "1932 Winter",
          "1936 Summer",
          "1936 Winter",
          "1948 Summer",
          "1948 Winter",
          "1952 Summer",
          "1952 Winter",
          "1956 Summer",
          "1956 Winter",
          "1960 Summer",
          "1960 Winter",
          "1964 Summer",
          "1964 Winter",
          "1968 Summer",
          "1968 Winter",
          "1972 Summer",
          "1972 Winter",
          "1976 Summer",
          "1976 Winter",
          "1980 Winter",
          "1984 Summer",
          "1984 Winter",
          "1988 Summer",
          "1988 Winter",
          "1992 Summer",
          "1992 Winter",
          "1994 Winter",
          "1996 Summer",
          "1998 Winter",
          "2000 Summer",
          "2002 Winter",
          "2004 Summer",
          "2006 Winter",
          "2008 Summer",
          "2010 Winter",
          "2012 Summer",
          "2014 Winter",
          "2016 Summer"
         ],
         "xaxis": "x",
         "y": [
          0,
          0,
          0,
          0,
          0,
          0,
          0,
          0,
          0,
          0,
          0,
          0,
          0,
          0,
          0,
          0,
          0,
          0,
          0,
          0,
          0,
          0,
          0,
          0,
          0,
          0,
          1,
          0,
          0,
          0,
          0,
          1,
          0,
          0,
          0,
          0,
          0,
          0,
          0,
          0,
          0,
          0,
          1,
          0,
          0,
          0,
          1,
          0,
          0
         ],
         "yaxis": "y"
        },
        {
         "alignmentgroup": "True",
         "hovertemplate": "variable=Diving<br>=%{x}<br>Medals=%{y}<extra></extra>",
         "legendgroup": "Diving",
         "marker": {
          "color": "#00B5F7",
          "pattern": {
           "shape": ""
          }
         },
         "name": "Diving",
         "offsetgroup": "Diving",
         "orientation": "v",
         "showlegend": true,
         "textposition": "auto",
         "type": "bar",
         "x": [
          "1900 Summer",
          "1904 Summer",
          "1906 Summer",
          "1908 Summer",
          "1912 Summer",
          "1920 Summer",
          "1924 Summer",
          "1924 Winter",
          "1928 Summer",
          "1928 Winter",
          "1932 Summer",
          "1932 Winter",
          "1936 Summer",
          "1936 Winter",
          "1948 Summer",
          "1948 Winter",
          "1952 Summer",
          "1952 Winter",
          "1956 Summer",
          "1956 Winter",
          "1960 Summer",
          "1960 Winter",
          "1964 Summer",
          "1964 Winter",
          "1968 Summer",
          "1968 Winter",
          "1972 Summer",
          "1972 Winter",
          "1976 Summer",
          "1976 Winter",
          "1980 Winter",
          "1984 Summer",
          "1984 Winter",
          "1988 Summer",
          "1988 Winter",
          "1992 Summer",
          "1992 Winter",
          "1994 Winter",
          "1996 Summer",
          "1998 Winter",
          "2000 Summer",
          "2002 Winter",
          "2004 Summer",
          "2006 Winter",
          "2008 Summer",
          "2010 Winter",
          "2012 Summer",
          "2014 Winter",
          "2016 Summer"
         ],
         "xaxis": "x",
         "y": [
          0,
          0,
          0,
          0,
          0,
          0,
          0,
          0,
          0,
          0,
          0,
          0,
          0,
          0,
          0,
          0,
          0,
          0,
          0,
          0,
          0,
          0,
          0,
          0,
          0,
          0,
          0,
          0,
          0,
          0,
          0,
          0,
          0,
          0,
          0,
          0,
          0,
          0,
          0,
          0,
          0,
          0,
          0,
          0,
          0,
          0,
          0,
          0,
          0
         ],
         "yaxis": "y"
        },
        {
         "alignmentgroup": "True",
         "hovertemplate": "variable=Equestrianism<br>=%{x}<br>Medals=%{y}<extra></extra>",
         "legendgroup": "Equestrianism",
         "marker": {
          "color": "#B68E00",
          "pattern": {
           "shape": ""
          }
         },
         "name": "Equestrianism",
         "offsetgroup": "Equestrianism",
         "orientation": "v",
         "showlegend": true,
         "textposition": "auto",
         "type": "bar",
         "x": [
          "1900 Summer",
          "1904 Summer",
          "1906 Summer",
          "1908 Summer",
          "1912 Summer",
          "1920 Summer",
          "1924 Summer",
          "1924 Winter",
          "1928 Summer",
          "1928 Winter",
          "1932 Summer",
          "1932 Winter",
          "1936 Summer",
          "1936 Winter",
          "1948 Summer",
          "1948 Winter",
          "1952 Summer",
          "1952 Winter",
          "1956 Summer",
          "1956 Winter",
          "1960 Summer",
          "1960 Winter",
          "1964 Summer",
          "1964 Winter",
          "1968 Summer",
          "1968 Winter",
          "1972 Summer",
          "1972 Winter",
          "1976 Summer",
          "1976 Winter",
          "1980 Winter",
          "1984 Summer",
          "1984 Winter",
          "1988 Summer",
          "1988 Winter",
          "1992 Summer",
          "1992 Winter",
          "1994 Winter",
          "1996 Summer",
          "1998 Winter",
          "2000 Summer",
          "2002 Winter",
          "2004 Summer",
          "2006 Winter",
          "2008 Summer",
          "2010 Winter",
          "2012 Summer",
          "2014 Winter",
          "2016 Summer"
         ],
         "xaxis": "x",
         "y": [
          0,
          0,
          0,
          0,
          0,
          0,
          0,
          0,
          1,
          0,
          0,
          0,
          0,
          0,
          0,
          0,
          0,
          0,
          0,
          0,
          0,
          0,
          0,
          0,
          0,
          0,
          0,
          0,
          0,
          0,
          0,
          0,
          0,
          0,
          0,
          0,
          0,
          0,
          0,
          0,
          0,
          0,
          0,
          0,
          0,
          0,
          0,
          0,
          0
         ],
         "yaxis": "y"
        },
        {
         "alignmentgroup": "True",
         "hovertemplate": "variable=Fencing<br>=%{x}<br>Medals=%{y}<extra></extra>",
         "legendgroup": "Fencing",
         "marker": {
          "color": "#C9FBE5",
          "pattern": {
           "shape": ""
          }
         },
         "name": "Fencing",
         "offsetgroup": "Fencing",
         "orientation": "v",
         "showlegend": true,
         "textposition": "auto",
         "type": "bar",
         "x": [
          "1900 Summer",
          "1904 Summer",
          "1906 Summer",
          "1908 Summer",
          "1912 Summer",
          "1920 Summer",
          "1924 Summer",
          "1924 Winter",
          "1928 Summer",
          "1928 Winter",
          "1932 Summer",
          "1932 Winter",
          "1936 Summer",
          "1936 Winter",
          "1948 Summer",
          "1948 Winter",
          "1952 Summer",
          "1952 Winter",
          "1956 Summer",
          "1956 Winter",
          "1960 Summer",
          "1960 Winter",
          "1964 Summer",
          "1964 Winter",
          "1968 Summer",
          "1968 Winter",
          "1972 Summer",
          "1972 Winter",
          "1976 Summer",
          "1976 Winter",
          "1980 Winter",
          "1984 Summer",
          "1984 Winter",
          "1988 Summer",
          "1988 Winter",
          "1992 Summer",
          "1992 Winter",
          "1994 Winter",
          "1996 Summer",
          "1998 Winter",
          "2000 Summer",
          "2002 Winter",
          "2004 Summer",
          "2006 Winter",
          "2008 Summer",
          "2010 Winter",
          "2012 Summer",
          "2014 Winter",
          "2016 Summer"
         ],
         "xaxis": "x",
         "y": [
          0,
          0,
          0,
          0,
          0,
          0,
          0,
          0,
          0,
          0,
          0,
          0,
          0,
          0,
          0,
          0,
          0,
          0,
          0,
          0,
          0,
          0,
          0,
          0,
          0,
          0,
          0,
          0,
          0,
          0,
          0,
          0,
          0,
          0,
          0,
          0,
          0,
          0,
          0,
          0,
          0,
          0,
          0,
          0,
          0,
          0,
          1,
          0,
          0
         ],
         "yaxis": "y"
        },
        {
         "alignmentgroup": "True",
         "hovertemplate": "variable=Figure Skating<br>=%{x}<br>Medals=%{y}<extra></extra>",
         "legendgroup": "Figure Skating",
         "marker": {
          "color": "#FF0092",
          "pattern": {
           "shape": ""
          }
         },
         "name": "Figure Skating",
         "offsetgroup": "Figure Skating",
         "orientation": "v",
         "showlegend": true,
         "textposition": "auto",
         "type": "bar",
         "x": [
          "1900 Summer",
          "1904 Summer",
          "1906 Summer",
          "1908 Summer",
          "1912 Summer",
          "1920 Summer",
          "1924 Summer",
          "1924 Winter",
          "1928 Summer",
          "1928 Winter",
          "1932 Summer",
          "1932 Winter",
          "1936 Summer",
          "1936 Winter",
          "1948 Summer",
          "1948 Winter",
          "1952 Summer",
          "1952 Winter",
          "1956 Summer",
          "1956 Winter",
          "1960 Summer",
          "1960 Winter",
          "1964 Summer",
          "1964 Winter",
          "1968 Summer",
          "1968 Winter",
          "1972 Summer",
          "1972 Winter",
          "1976 Summer",
          "1976 Winter",
          "1980 Winter",
          "1984 Summer",
          "1984 Winter",
          "1988 Summer",
          "1988 Winter",
          "1992 Summer",
          "1992 Winter",
          "1994 Winter",
          "1996 Summer",
          "1998 Winter",
          "2000 Summer",
          "2002 Winter",
          "2004 Summer",
          "2006 Winter",
          "2008 Summer",
          "2010 Winter",
          "2012 Summer",
          "2014 Winter",
          "2016 Summer"
         ],
         "xaxis": "x",
         "y": [
          0,
          0,
          0,
          0,
          0,
          3,
          0,
          0,
          0,
          1,
          0,
          1,
          0,
          1,
          0,
          0,
          0,
          0,
          0,
          0,
          0,
          0,
          0,
          0,
          0,
          0,
          0,
          0,
          0,
          0,
          0,
          0,
          0,
          0,
          0,
          0,
          0,
          0,
          0,
          0,
          0,
          0,
          0,
          0,
          0,
          0,
          0,
          0,
          0
         ],
         "yaxis": "y"
        },
        {
         "alignmentgroup": "True",
         "hovertemplate": "variable=Football<br>=%{x}<br>Medals=%{y}<extra></extra>",
         "legendgroup": "Football",
         "marker": {
          "color": "#22FFA7",
          "pattern": {
           "shape": ""
          }
         },
         "name": "Football",
         "offsetgroup": "Football",
         "orientation": "v",
         "showlegend": true,
         "textposition": "auto",
         "type": "bar",
         "x": [
          "1900 Summer",
          "1904 Summer",
          "1906 Summer",
          "1908 Summer",
          "1912 Summer",
          "1920 Summer",
          "1924 Summer",
          "1924 Winter",
          "1928 Summer",
          "1928 Winter",
          "1932 Summer",
          "1932 Winter",
          "1936 Summer",
          "1936 Winter",
          "1948 Summer",
          "1948 Winter",
          "1952 Summer",
          "1952 Winter",
          "1956 Summer",
          "1956 Winter",
          "1960 Summer",
          "1960 Winter",
          "1964 Summer",
          "1964 Winter",
          "1968 Summer",
          "1968 Winter",
          "1972 Summer",
          "1972 Winter",
          "1976 Summer",
          "1976 Winter",
          "1980 Winter",
          "1984 Summer",
          "1984 Winter",
          "1988 Summer",
          "1988 Winter",
          "1992 Summer",
          "1992 Winter",
          "1994 Winter",
          "1996 Summer",
          "1998 Winter",
          "2000 Summer",
          "2002 Winter",
          "2004 Summer",
          "2006 Winter",
          "2008 Summer",
          "2010 Winter",
          "2012 Summer",
          "2014 Winter",
          "2016 Summer"
         ],
         "xaxis": "x",
         "y": [
          0,
          0,
          0,
          0,
          0,
          0,
          0,
          0,
          0,
          0,
          0,
          0,
          1,
          0,
          0,
          0,
          0,
          0,
          0,
          0,
          0,
          0,
          0,
          0,
          0,
          0,
          0,
          0,
          0,
          0,
          0,
          0,
          0,
          0,
          0,
          0,
          0,
          0,
          1,
          0,
          1,
          0,
          0,
          0,
          0,
          0,
          0,
          0,
          0
         ],
         "yaxis": "y"
        },
        {
         "alignmentgroup": "True",
         "hovertemplate": "variable=Freestyle Skiing<br>=%{x}<br>Medals=%{y}<extra></extra>",
         "legendgroup": "Freestyle Skiing",
         "marker": {
          "color": "#E3EE9E",
          "pattern": {
           "shape": ""
          }
         },
         "name": "Freestyle Skiing",
         "offsetgroup": "Freestyle Skiing",
         "orientation": "v",
         "showlegend": true,
         "textposition": "auto",
         "type": "bar",
         "x": [
          "1900 Summer",
          "1904 Summer",
          "1906 Summer",
          "1908 Summer",
          "1912 Summer",
          "1920 Summer",
          "1924 Summer",
          "1924 Winter",
          "1928 Summer",
          "1928 Winter",
          "1932 Summer",
          "1932 Winter",
          "1936 Summer",
          "1936 Winter",
          "1948 Summer",
          "1948 Winter",
          "1952 Summer",
          "1952 Winter",
          "1956 Summer",
          "1956 Winter",
          "1960 Summer",
          "1960 Winter",
          "1964 Summer",
          "1964 Winter",
          "1968 Summer",
          "1968 Winter",
          "1972 Summer",
          "1972 Winter",
          "1976 Summer",
          "1976 Winter",
          "1980 Winter",
          "1984 Summer",
          "1984 Winter",
          "1988 Summer",
          "1988 Winter",
          "1992 Summer",
          "1992 Winter",
          "1994 Winter",
          "1996 Summer",
          "1998 Winter",
          "2000 Summer",
          "2002 Winter",
          "2004 Summer",
          "2006 Winter",
          "2008 Summer",
          "2010 Winter",
          "2012 Summer",
          "2014 Winter",
          "2016 Summer"
         ],
         "xaxis": "x",
         "y": [
          0,
          0,
          0,
          0,
          0,
          0,
          0,
          0,
          0,
          0,
          0,
          0,
          0,
          0,
          0,
          0,
          0,
          0,
          0,
          0,
          0,
          0,
          0,
          0,
          0,
          0,
          0,
          0,
          0,
          0,
          0,
          0,
          0,
          0,
          0,
          0,
          1,
          2,
          0,
          1,
          0,
          1,
          0,
          1,
          0,
          2,
          0,
          0,
          0
         ],
         "yaxis": "y"
        },
        {
         "alignmentgroup": "True",
         "hovertemplate": "variable=Golf<br>=%{x}<br>Medals=%{y}<extra></extra>",
         "legendgroup": "Golf",
         "marker": {
          "color": "#86CE00",
          "pattern": {
           "shape": ""
          }
         },
         "name": "Golf",
         "offsetgroup": "Golf",
         "orientation": "v",
         "showlegend": true,
         "textposition": "auto",
         "type": "bar",
         "x": [
          "1900 Summer",
          "1904 Summer",
          "1906 Summer",
          "1908 Summer",
          "1912 Summer",
          "1920 Summer",
          "1924 Summer",
          "1924 Winter",
          "1928 Summer",
          "1928 Winter",
          "1932 Summer",
          "1932 Winter",
          "1936 Summer",
          "1936 Winter",
          "1948 Summer",
          "1948 Winter",
          "1952 Summer",
          "1952 Winter",
          "1956 Summer",
          "1956 Winter",
          "1960 Summer",
          "1960 Winter",
          "1964 Summer",
          "1964 Winter",
          "1968 Summer",
          "1968 Winter",
          "1972 Summer",
          "1972 Winter",
          "1976 Summer",
          "1976 Winter",
          "1980 Winter",
          "1984 Summer",
          "1984 Winter",
          "1988 Summer",
          "1988 Winter",
          "1992 Summer",
          "1992 Winter",
          "1994 Winter",
          "1996 Summer",
          "1998 Winter",
          "2000 Summer",
          "2002 Winter",
          "2004 Summer",
          "2006 Winter",
          "2008 Summer",
          "2010 Winter",
          "2012 Summer",
          "2014 Winter",
          "2016 Summer"
         ],
         "xaxis": "x",
         "y": [
          0,
          0,
          0,
          0,
          0,
          0,
          0,
          0,
          0,
          0,
          0,
          0,
          0,
          0,
          0,
          0,
          0,
          0,
          0,
          0,
          0,
          0,
          0,
          0,
          0,
          0,
          0,
          0,
          0,
          0,
          0,
          0,
          0,
          0,
          0,
          0,
          0,
          0,
          0,
          0,
          0,
          0,
          0,
          0,
          0,
          0,
          0,
          0,
          0
         ],
         "yaxis": "y"
        },
        {
         "alignmentgroup": "True",
         "hovertemplate": "variable=Gymnastics<br>=%{x}<br>Medals=%{y}<extra></extra>",
         "legendgroup": "Gymnastics",
         "marker": {
          "color": "#BC7196",
          "pattern": {
           "shape": ""
          }
         },
         "name": "Gymnastics",
         "offsetgroup": "Gymnastics",
         "orientation": "v",
         "showlegend": true,
         "textposition": "auto",
         "type": "bar",
         "x": [
          "1900 Summer",
          "1904 Summer",
          "1906 Summer",
          "1908 Summer",
          "1912 Summer",
          "1920 Summer",
          "1924 Summer",
          "1924 Winter",
          "1928 Summer",
          "1928 Winter",
          "1932 Summer",
          "1932 Winter",
          "1936 Summer",
          "1936 Winter",
          "1948 Summer",
          "1948 Winter",
          "1952 Summer",
          "1952 Winter",
          "1956 Summer",
          "1956 Winter",
          "1960 Summer",
          "1960 Winter",
          "1964 Summer",
          "1964 Winter",
          "1968 Summer",
          "1968 Winter",
          "1972 Summer",
          "1972 Winter",
          "1976 Summer",
          "1976 Winter",
          "1980 Winter",
          "1984 Summer",
          "1984 Winter",
          "1988 Summer",
          "1988 Winter",
          "1992 Summer",
          "1992 Winter",
          "1994 Winter",
          "1996 Summer",
          "1998 Winter",
          "2000 Summer",
          "2002 Winter",
          "2004 Summer",
          "2006 Winter",
          "2008 Summer",
          "2010 Winter",
          "2012 Summer",
          "2014 Winter",
          "2016 Summer"
         ],
         "xaxis": "x",
         "y": [
          0,
          0,
          1,
          1,
          2,
          1,
          0,
          0,
          0,
          0,
          0,
          0,
          0,
          0,
          0,
          0,
          0,
          0,
          0,
          0,
          0,
          0,
          0,
          0,
          0,
          0,
          0,
          0,
          0,
          0,
          0,
          0,
          0,
          0,
          0,
          0,
          0,
          0,
          0,
          0,
          0,
          0,
          0,
          0,
          0,
          0,
          0,
          0,
          0
         ],
         "yaxis": "y"
        },
        {
         "alignmentgroup": "True",
         "hovertemplate": "variable=Handball<br>=%{x}<br>Medals=%{y}<extra></extra>",
         "legendgroup": "Handball",
         "marker": {
          "color": "#7E7DCD",
          "pattern": {
           "shape": ""
          }
         },
         "name": "Handball",
         "offsetgroup": "Handball",
         "orientation": "v",
         "showlegend": true,
         "textposition": "auto",
         "type": "bar",
         "x": [
          "1900 Summer",
          "1904 Summer",
          "1906 Summer",
          "1908 Summer",
          "1912 Summer",
          "1920 Summer",
          "1924 Summer",
          "1924 Winter",
          "1928 Summer",
          "1928 Winter",
          "1932 Summer",
          "1932 Winter",
          "1936 Summer",
          "1936 Winter",
          "1948 Summer",
          "1948 Winter",
          "1952 Summer",
          "1952 Winter",
          "1956 Summer",
          "1956 Winter",
          "1960 Summer",
          "1960 Winter",
          "1964 Summer",
          "1964 Winter",
          "1968 Summer",
          "1968 Winter",
          "1972 Summer",
          "1972 Winter",
          "1976 Summer",
          "1976 Winter",
          "1980 Winter",
          "1984 Summer",
          "1984 Winter",
          "1988 Summer",
          "1988 Winter",
          "1992 Summer",
          "1992 Winter",
          "1994 Winter",
          "1996 Summer",
          "1998 Winter",
          "2000 Summer",
          "2002 Winter",
          "2004 Summer",
          "2006 Winter",
          "2008 Summer",
          "2010 Winter",
          "2012 Summer",
          "2014 Winter",
          "2016 Summer"
         ],
         "xaxis": "x",
         "y": [
          0,
          0,
          0,
          0,
          0,
          0,
          0,
          0,
          0,
          0,
          0,
          0,
          0,
          0,
          0,
          0,
          0,
          0,
          0,
          0,
          0,
          0,
          0,
          0,
          0,
          0,
          0,
          0,
          0,
          0,
          0,
          0,
          0,
          1,
          0,
          1,
          0,
          0,
          0,
          0,
          1,
          0,
          0,
          0,
          1,
          0,
          1,
          0,
          1
         ],
         "yaxis": "y"
        },
        {
         "alignmentgroup": "True",
         "hovertemplate": "variable=Ice Hockey<br>=%{x}<br>Medals=%{y}<extra></extra>",
         "legendgroup": "Ice Hockey",
         "marker": {
          "color": "#FC6955",
          "pattern": {
           "shape": ""
          }
         },
         "name": "Ice Hockey",
         "offsetgroup": "Ice Hockey",
         "orientation": "v",
         "showlegend": true,
         "textposition": "auto",
         "type": "bar",
         "x": [
          "1900 Summer",
          "1904 Summer",
          "1906 Summer",
          "1908 Summer",
          "1912 Summer",
          "1920 Summer",
          "1924 Summer",
          "1924 Winter",
          "1928 Summer",
          "1928 Winter",
          "1932 Summer",
          "1932 Winter",
          "1936 Summer",
          "1936 Winter",
          "1948 Summer",
          "1948 Winter",
          "1952 Summer",
          "1952 Winter",
          "1956 Summer",
          "1956 Winter",
          "1960 Summer",
          "1960 Winter",
          "1964 Summer",
          "1964 Winter",
          "1968 Summer",
          "1968 Winter",
          "1972 Summer",
          "1972 Winter",
          "1976 Summer",
          "1976 Winter",
          "1980 Winter",
          "1984 Summer",
          "1984 Winter",
          "1988 Summer",
          "1988 Winter",
          "1992 Summer",
          "1992 Winter",
          "1994 Winter",
          "1996 Summer",
          "1998 Winter",
          "2000 Summer",
          "2002 Winter",
          "2004 Summer",
          "2006 Winter",
          "2008 Summer",
          "2010 Winter",
          "2012 Summer",
          "2014 Winter",
          "2016 Summer"
         ],
         "xaxis": "x",
         "y": [
          0,
          0,
          0,
          0,
          0,
          0,
          0,
          0,
          0,
          0,
          0,
          0,
          0,
          0,
          0,
          0,
          0,
          0,
          0,
          0,
          0,
          0,
          0,
          0,
          0,
          0,
          0,
          0,
          0,
          0,
          0,
          0,
          0,
          0,
          0,
          0,
          0,
          0,
          0,
          0,
          0,
          0,
          0,
          0,
          0,
          0,
          0,
          0,
          0
         ],
         "yaxis": "y"
        },
        {
         "alignmentgroup": "True",
         "hovertemplate": "variable=Judo<br>=%{x}<br>Medals=%{y}<extra></extra>",
         "legendgroup": "Judo",
         "marker": {
          "color": "#E48F72",
          "pattern": {
           "shape": ""
          }
         },
         "name": "Judo",
         "offsetgroup": "Judo",
         "orientation": "v",
         "showlegend": true,
         "textposition": "auto",
         "type": "bar",
         "x": [
          "1900 Summer",
          "1904 Summer",
          "1906 Summer",
          "1908 Summer",
          "1912 Summer",
          "1920 Summer",
          "1924 Summer",
          "1924 Winter",
          "1928 Summer",
          "1928 Winter",
          "1932 Summer",
          "1932 Winter",
          "1936 Summer",
          "1936 Winter",
          "1948 Summer",
          "1948 Winter",
          "1952 Summer",
          "1952 Winter",
          "1956 Summer",
          "1956 Winter",
          "1960 Summer",
          "1960 Winter",
          "1964 Summer",
          "1964 Winter",
          "1968 Summer",
          "1968 Winter",
          "1972 Summer",
          "1972 Winter",
          "1976 Summer",
          "1976 Winter",
          "1980 Winter",
          "1984 Summer",
          "1984 Winter",
          "1988 Summer",
          "1988 Winter",
          "1992 Summer",
          "1992 Winter",
          "1994 Winter",
          "1996 Summer",
          "1998 Winter",
          "2000 Summer",
          "2002 Winter",
          "2004 Summer",
          "2006 Winter",
          "2008 Summer",
          "2010 Winter",
          "2012 Summer",
          "2014 Winter",
          "2016 Summer"
         ],
         "xaxis": "x",
         "y": [
          0,
          0,
          0,
          0,
          0,
          0,
          0,
          0,
          0,
          0,
          0,
          0,
          0,
          0,
          0,
          0,
          0,
          0,
          0,
          0,
          0,
          0,
          0,
          0,
          0,
          0,
          0,
          0,
          0,
          0,
          0,
          0,
          0,
          0,
          0,
          0,
          0,
          0,
          0,
          0,
          0,
          0,
          0,
          0,
          0,
          0,
          0,
          0,
          0
         ],
         "yaxis": "y"
        },
        {
         "alignmentgroup": "True",
         "hovertemplate": "variable=Luge<br>=%{x}<br>Medals=%{y}<extra></extra>",
         "legendgroup": "Luge",
         "marker": {
          "color": "#FD3216",
          "pattern": {
           "shape": ""
          }
         },
         "name": "Luge",
         "offsetgroup": "Luge",
         "orientation": "v",
         "showlegend": true,
         "textposition": "auto",
         "type": "bar",
         "x": [
          "1900 Summer",
          "1904 Summer",
          "1906 Summer",
          "1908 Summer",
          "1912 Summer",
          "1920 Summer",
          "1924 Summer",
          "1924 Winter",
          "1928 Summer",
          "1928 Winter",
          "1932 Summer",
          "1932 Winter",
          "1936 Summer",
          "1936 Winter",
          "1948 Summer",
          "1948 Winter",
          "1952 Summer",
          "1952 Winter",
          "1956 Summer",
          "1956 Winter",
          "1960 Summer",
          "1960 Winter",
          "1964 Summer",
          "1964 Winter",
          "1968 Summer",
          "1968 Winter",
          "1972 Summer",
          "1972 Winter",
          "1976 Summer",
          "1976 Winter",
          "1980 Winter",
          "1984 Summer",
          "1984 Winter",
          "1988 Summer",
          "1988 Winter",
          "1992 Summer",
          "1992 Winter",
          "1994 Winter",
          "1996 Summer",
          "1998 Winter",
          "2000 Summer",
          "2002 Winter",
          "2004 Summer",
          "2006 Winter",
          "2008 Summer",
          "2010 Winter",
          "2012 Summer",
          "2014 Winter",
          "2016 Summer"
         ],
         "xaxis": "x",
         "y": [
          0,
          0,
          0,
          0,
          0,
          0,
          0,
          0,
          0,
          0,
          0,
          0,
          0,
          0,
          0,
          0,
          0,
          0,
          0,
          0,
          0,
          0,
          0,
          0,
          0,
          0,
          0,
          0,
          0,
          0,
          0,
          0,
          0,
          0,
          0,
          0,
          0,
          0,
          0,
          0,
          0,
          0,
          0,
          0,
          0,
          0,
          0,
          0,
          0
         ],
         "yaxis": "y"
        },
        {
         "alignmentgroup": "True",
         "hovertemplate": "variable=Modern Pentathlon<br>=%{x}<br>Medals=%{y}<extra></extra>",
         "legendgroup": "Modern Pentathlon",
         "marker": {
          "color": "#00FE35",
          "pattern": {
           "shape": ""
          }
         },
         "name": "Modern Pentathlon",
         "offsetgroup": "Modern Pentathlon",
         "orientation": "v",
         "showlegend": true,
         "textposition": "auto",
         "type": "bar",
         "x": [
          "1900 Summer",
          "1904 Summer",
          "1906 Summer",
          "1908 Summer",
          "1912 Summer",
          "1920 Summer",
          "1924 Summer",
          "1924 Winter",
          "1928 Summer",
          "1928 Winter",
          "1932 Summer",
          "1932 Winter",
          "1936 Summer",
          "1936 Winter",
          "1948 Summer",
          "1948 Winter",
          "1952 Summer",
          "1952 Winter",
          "1956 Summer",
          "1956 Winter",
          "1960 Summer",
          "1960 Winter",
          "1964 Summer",
          "1964 Winter",
          "1968 Summer",
          "1968 Winter",
          "1972 Summer",
          "1972 Winter",
          "1976 Summer",
          "1976 Winter",
          "1980 Winter",
          "1984 Summer",
          "1984 Winter",
          "1988 Summer",
          "1988 Winter",
          "1992 Summer",
          "1992 Winter",
          "1994 Winter",
          "1996 Summer",
          "1998 Winter",
          "2000 Summer",
          "2002 Winter",
          "2004 Summer",
          "2006 Winter",
          "2008 Summer",
          "2010 Winter",
          "2012 Summer",
          "2014 Winter",
          "2016 Summer"
         ],
         "xaxis": "x",
         "y": [
          0,
          0,
          0,
          0,
          0,
          0,
          0,
          0,
          0,
          0,
          0,
          0,
          0,
          0,
          0,
          0,
          0,
          0,
          0,
          0,
          0,
          0,
          0,
          0,
          0,
          0,
          0,
          0,
          0,
          0,
          0,
          0,
          0,
          0,
          0,
          0,
          0,
          0,
          0,
          0,
          0,
          0,
          0,
          0,
          0,
          0,
          0,
          0,
          0
         ],
         "yaxis": "y"
        },
        {
         "alignmentgroup": "True",
         "hovertemplate": "variable=Nordic Combined<br>=%{x}<br>Medals=%{y}<extra></extra>",
         "legendgroup": "Nordic Combined",
         "marker": {
          "color": "#6A76FC",
          "pattern": {
           "shape": ""
          }
         },
         "name": "Nordic Combined",
         "offsetgroup": "Nordic Combined",
         "orientation": "v",
         "showlegend": true,
         "textposition": "auto",
         "type": "bar",
         "x": [
          "1900 Summer",
          "1904 Summer",
          "1906 Summer",
          "1908 Summer",
          "1912 Summer",
          "1920 Summer",
          "1924 Summer",
          "1924 Winter",
          "1928 Summer",
          "1928 Winter",
          "1932 Summer",
          "1932 Winter",
          "1936 Summer",
          "1936 Winter",
          "1948 Summer",
          "1948 Winter",
          "1952 Summer",
          "1952 Winter",
          "1956 Summer",
          "1956 Winter",
          "1960 Summer",
          "1960 Winter",
          "1964 Summer",
          "1964 Winter",
          "1968 Summer",
          "1968 Winter",
          "1972 Summer",
          "1972 Winter",
          "1976 Summer",
          "1976 Winter",
          "1980 Winter",
          "1984 Summer",
          "1984 Winter",
          "1988 Summer",
          "1988 Winter",
          "1992 Summer",
          "1992 Winter",
          "1994 Winter",
          "1996 Summer",
          "1998 Winter",
          "2000 Summer",
          "2002 Winter",
          "2004 Summer",
          "2006 Winter",
          "2008 Summer",
          "2010 Winter",
          "2012 Summer",
          "2014 Winter",
          "2016 Summer"
         ],
         "xaxis": "x",
         "y": [
          0,
          0,
          0,
          0,
          0,
          0,
          0,
          3,
          0,
          3,
          0,
          3,
          0,
          3,
          0,
          0,
          0,
          2,
          0,
          1,
          0,
          1,
          0,
          1,
          0,
          0,
          0,
          0,
          0,
          0,
          0,
          0,
          1,
          0,
          0,
          0,
          1,
          3,
          0,
          2,
          0,
          0,
          0,
          2,
          0,
          0,
          0,
          4,
          0
         ],
         "yaxis": "y"
        },
        {
         "alignmentgroup": "True",
         "hovertemplate": "variable=Rhythmic Gymnastics<br>=%{x}<br>Medals=%{y}<extra></extra>",
         "legendgroup": "Rhythmic Gymnastics",
         "marker": {
          "color": "#FED4C4",
          "pattern": {
           "shape": ""
          }
         },
         "name": "Rhythmic Gymnastics",
         "offsetgroup": "Rhythmic Gymnastics",
         "orientation": "v",
         "showlegend": true,
         "textposition": "auto",
         "type": "bar",
         "x": [
          "1900 Summer",
          "1904 Summer",
          "1906 Summer",
          "1908 Summer",
          "1912 Summer",
          "1920 Summer",
          "1924 Summer",
          "1924 Winter",
          "1928 Summer",
          "1928 Winter",
          "1932 Summer",
          "1932 Winter",
          "1936 Summer",
          "1936 Winter",
          "1948 Summer",
          "1948 Winter",
          "1952 Summer",
          "1952 Winter",
          "1956 Summer",
          "1956 Winter",
          "1960 Summer",
          "1960 Winter",
          "1964 Summer",
          "1964 Winter",
          "1968 Summer",
          "1968 Winter",
          "1972 Summer",
          "1972 Winter",
          "1976 Summer",
          "1976 Winter",
          "1980 Winter",
          "1984 Summer",
          "1984 Winter",
          "1988 Summer",
          "1988 Winter",
          "1992 Summer",
          "1992 Winter",
          "1994 Winter",
          "1996 Summer",
          "1998 Winter",
          "2000 Summer",
          "2002 Winter",
          "2004 Summer",
          "2006 Winter",
          "2008 Summer",
          "2010 Winter",
          "2012 Summer",
          "2014 Winter",
          "2016 Summer"
         ],
         "xaxis": "x",
         "y": [
          0,
          0,
          0,
          0,
          0,
          0,
          0,
          0,
          0,
          0,
          0,
          0,
          0,
          0,
          0,
          0,
          0,
          0,
          0,
          0,
          0,
          0,
          0,
          0,
          0,
          0,
          0,
          0,
          0,
          0,
          0,
          0,
          0,
          0,
          0,
          0,
          0,
          0,
          0,
          0,
          0,
          0,
          0,
          0,
          0,
          0,
          0,
          0,
          0
         ],
         "yaxis": "y"
        },
        {
         "alignmentgroup": "True",
         "hovertemplate": "variable=Rowing<br>=%{x}<br>Medals=%{y}<extra></extra>",
         "legendgroup": "Rowing",
         "marker": {
          "color": "#FE00CE",
          "pattern": {
           "shape": ""
          }
         },
         "name": "Rowing",
         "offsetgroup": "Rowing",
         "orientation": "v",
         "showlegend": true,
         "textposition": "auto",
         "type": "bar",
         "x": [
          "1900 Summer",
          "1904 Summer",
          "1906 Summer",
          "1908 Summer",
          "1912 Summer",
          "1920 Summer",
          "1924 Summer",
          "1924 Winter",
          "1928 Summer",
          "1928 Winter",
          "1932 Summer",
          "1932 Winter",
          "1936 Summer",
          "1936 Winter",
          "1948 Summer",
          "1948 Winter",
          "1952 Summer",
          "1952 Winter",
          "1956 Summer",
          "1956 Winter",
          "1960 Summer",
          "1960 Winter",
          "1964 Summer",
          "1964 Winter",
          "1968 Summer",
          "1968 Winter",
          "1972 Summer",
          "1972 Winter",
          "1976 Summer",
          "1976 Winter",
          "1980 Winter",
          "1984 Summer",
          "1984 Winter",
          "1988 Summer",
          "1988 Winter",
          "1992 Summer",
          "1992 Winter",
          "1994 Winter",
          "1996 Summer",
          "1998 Winter",
          "2000 Summer",
          "2002 Winter",
          "2004 Summer",
          "2006 Winter",
          "2008 Summer",
          "2010 Winter",
          "2012 Summer",
          "2014 Winter",
          "2016 Summer"
         ],
         "xaxis": "x",
         "y": [
          0,
          0,
          0,
          0,
          2,
          2,
          0,
          0,
          0,
          0,
          0,
          0,
          0,
          0,
          1,
          0,
          0,
          0,
          0,
          0,
          0,
          0,
          0,
          0,
          0,
          0,
          1,
          0,
          2,
          0,
          0,
          1,
          0,
          1,
          0,
          1,
          0,
          0,
          1,
          0,
          1,
          0,
          1,
          0,
          1,
          0,
          0,
          0,
          2
         ],
         "yaxis": "y"
        },
        {
         "alignmentgroup": "True",
         "hovertemplate": "variable=Sailing<br>=%{x}<br>Medals=%{y}<extra></extra>",
         "legendgroup": "Sailing",
         "marker": {
          "color": "#0DF9FF",
          "pattern": {
           "shape": ""
          }
         },
         "name": "Sailing",
         "offsetgroup": "Sailing",
         "orientation": "v",
         "showlegend": true,
         "textposition": "auto",
         "type": "bar",
         "x": [
          "1900 Summer",
          "1904 Summer",
          "1906 Summer",
          "1908 Summer",
          "1912 Summer",
          "1920 Summer",
          "1924 Summer",
          "1924 Winter",
          "1928 Summer",
          "1928 Winter",
          "1932 Summer",
          "1932 Winter",
          "1936 Summer",
          "1936 Winter",
          "1948 Summer",
          "1948 Winter",
          "1952 Summer",
          "1952 Winter",
          "1956 Summer",
          "1956 Winter",
          "1960 Summer",
          "1960 Winter",
          "1964 Summer",
          "1964 Winter",
          "1968 Summer",
          "1968 Winter",
          "1972 Summer",
          "1972 Winter",
          "1976 Summer",
          "1976 Winter",
          "1980 Winter",
          "1984 Summer",
          "1984 Winter",
          "1988 Summer",
          "1988 Winter",
          "1992 Summer",
          "1992 Winter",
          "1994 Winter",
          "1996 Summer",
          "1998 Winter",
          "2000 Summer",
          "2002 Winter",
          "2004 Summer",
          "2006 Winter",
          "2008 Summer",
          "2010 Winter",
          "2012 Summer",
          "2014 Winter",
          "2016 Summer"
         ],
         "xaxis": "x",
         "y": [
          0,
          0,
          0,
          0,
          2,
          11,
          3,
          0,
          2,
          0,
          0,
          0,
          2,
          0,
          1,
          0,
          3,
          0,
          0,
          0,
          1,
          0,
          0,
          0,
          1,
          0,
          0,
          0,
          0,
          0,
          0,
          0,
          0,
          1,
          0,
          1,
          0,
          0,
          1,
          0,
          1,
          0,
          1,
          0,
          0,
          0,
          0,
          0,
          0
         ],
         "yaxis": "y"
        },
        {
         "alignmentgroup": "True",
         "hovertemplate": "variable=Shooting<br>=%{x}<br>Medals=%{y}<extra></extra>",
         "legendgroup": "Shooting",
         "marker": {
          "color": "#F6F926",
          "pattern": {
           "shape": ""
          }
         },
         "name": "Shooting",
         "offsetgroup": "Shooting",
         "orientation": "v",
         "showlegend": true,
         "textposition": "auto",
         "type": "bar",
         "x": [
          "1900 Summer",
          "1904 Summer",
          "1906 Summer",
          "1908 Summer",
          "1912 Summer",
          "1920 Summer",
          "1924 Summer",
          "1924 Winter",
          "1928 Summer",
          "1928 Winter",
          "1932 Summer",
          "1932 Winter",
          "1936 Summer",
          "1936 Winter",
          "1948 Summer",
          "1948 Winter",
          "1952 Summer",
          "1952 Winter",
          "1956 Summer",
          "1956 Winter",
          "1960 Summer",
          "1960 Winter",
          "1964 Summer",
          "1964 Winter",
          "1968 Summer",
          "1968 Winter",
          "1972 Summer",
          "1972 Winter",
          "1976 Summer",
          "1976 Winter",
          "1980 Winter",
          "1984 Summer",
          "1984 Winter",
          "1988 Summer",
          "1988 Winter",
          "1992 Summer",
          "1992 Winter",
          "1994 Winter",
          "1996 Summer",
          "1998 Winter",
          "2000 Summer",
          "2002 Winter",
          "2004 Summer",
          "2006 Winter",
          "2008 Summer",
          "2010 Winter",
          "2012 Summer",
          "2014 Winter",
          "2016 Summer"
         ],
         "xaxis": "x",
         "y": [
          4,
          0,
          1,
          3,
          2,
          11,
          4,
          0,
          0,
          0,
          0,
          0,
          1,
          0,
          1,
          0,
          2,
          0,
          0,
          0,
          0,
          0,
          0,
          0,
          0,
          0,
          0,
          0,
          0,
          0,
          0,
          0,
          0,
          1,
          0,
          1,
          0,
          0,
          0,
          0,
          1,
          0,
          0,
          0,
          1,
          0,
          0,
          0,
          0
         ],
         "yaxis": "y"
        },
        {
         "alignmentgroup": "True",
         "hovertemplate": "variable=Short Track Speed Skating<br>=%{x}<br>Medals=%{y}<extra></extra>",
         "legendgroup": "Short Track Speed Skating",
         "marker": {
          "color": "#FF9616",
          "pattern": {
           "shape": ""
          }
         },
         "name": "Short Track Speed Skating",
         "offsetgroup": "Short Track Speed Skating",
         "orientation": "v",
         "showlegend": true,
         "textposition": "auto",
         "type": "bar",
         "x": [
          "1900 Summer",
          "1904 Summer",
          "1906 Summer",
          "1908 Summer",
          "1912 Summer",
          "1920 Summer",
          "1924 Summer",
          "1924 Winter",
          "1928 Summer",
          "1928 Winter",
          "1932 Summer",
          "1932 Winter",
          "1936 Summer",
          "1936 Winter",
          "1948 Summer",
          "1948 Winter",
          "1952 Summer",
          "1952 Winter",
          "1956 Summer",
          "1956 Winter",
          "1960 Summer",
          "1960 Winter",
          "1964 Summer",
          "1964 Winter",
          "1968 Summer",
          "1968 Winter",
          "1972 Summer",
          "1972 Winter",
          "1976 Summer",
          "1976 Winter",
          "1980 Winter",
          "1984 Summer",
          "1984 Winter",
          "1988 Summer",
          "1988 Winter",
          "1992 Summer",
          "1992 Winter",
          "1994 Winter",
          "1996 Summer",
          "1998 Winter",
          "2000 Summer",
          "2002 Winter",
          "2004 Summer",
          "2006 Winter",
          "2008 Summer",
          "2010 Winter",
          "2012 Summer",
          "2014 Winter",
          "2016 Summer"
         ],
         "xaxis": "x",
         "y": [
          0,
          0,
          0,
          0,
          0,
          0,
          0,
          0,
          0,
          0,
          0,
          0,
          0,
          0,
          0,
          0,
          0,
          0,
          0,
          0,
          0,
          0,
          0,
          0,
          0,
          0,
          0,
          0,
          0,
          0,
          0,
          0,
          0,
          0,
          0,
          0,
          0,
          0,
          0,
          0,
          0,
          0,
          0,
          0,
          0,
          0,
          0,
          0,
          0
         ],
         "yaxis": "y"
        },
        {
         "alignmentgroup": "True",
         "hovertemplate": "variable=Skeleton<br>=%{x}<br>Medals=%{y}<extra></extra>",
         "legendgroup": "Skeleton",
         "marker": {
          "color": "#479B55",
          "pattern": {
           "shape": ""
          }
         },
         "name": "Skeleton",
         "offsetgroup": "Skeleton",
         "orientation": "v",
         "showlegend": true,
         "textposition": "auto",
         "type": "bar",
         "x": [
          "1900 Summer",
          "1904 Summer",
          "1906 Summer",
          "1908 Summer",
          "1912 Summer",
          "1920 Summer",
          "1924 Summer",
          "1924 Winter",
          "1928 Summer",
          "1928 Winter",
          "1932 Summer",
          "1932 Winter",
          "1936 Summer",
          "1936 Winter",
          "1948 Summer",
          "1948 Winter",
          "1952 Summer",
          "1952 Winter",
          "1956 Summer",
          "1956 Winter",
          "1960 Summer",
          "1960 Winter",
          "1964 Summer",
          "1964 Winter",
          "1968 Summer",
          "1968 Winter",
          "1972 Summer",
          "1972 Winter",
          "1976 Summer",
          "1976 Winter",
          "1980 Winter",
          "1984 Summer",
          "1984 Winter",
          "1988 Summer",
          "1988 Winter",
          "1992 Summer",
          "1992 Winter",
          "1994 Winter",
          "1996 Summer",
          "1998 Winter",
          "2000 Summer",
          "2002 Winter",
          "2004 Summer",
          "2006 Winter",
          "2008 Summer",
          "2010 Winter",
          "2012 Summer",
          "2014 Winter",
          "2016 Summer"
         ],
         "xaxis": "x",
         "y": [
          0,
          0,
          0,
          0,
          0,
          0,
          0,
          0,
          0,
          0,
          0,
          0,
          0,
          0,
          0,
          0,
          0,
          0,
          0,
          0,
          0,
          0,
          0,
          0,
          0,
          0,
          0,
          0,
          0,
          0,
          0,
          0,
          0,
          0,
          0,
          0,
          0,
          0,
          0,
          0,
          0,
          0,
          0,
          0,
          0,
          0,
          0,
          0,
          0
         ],
         "yaxis": "y"
        },
        {
         "alignmentgroup": "True",
         "hovertemplate": "variable=Ski Jumping<br>=%{x}<br>Medals=%{y}<extra></extra>",
         "legendgroup": "Ski Jumping",
         "marker": {
          "color": "#EEA6FB",
          "pattern": {
           "shape": ""
          }
         },
         "name": "Ski Jumping",
         "offsetgroup": "Ski Jumping",
         "orientation": "v",
         "showlegend": true,
         "textposition": "auto",
         "type": "bar",
         "x": [
          "1900 Summer",
          "1904 Summer",
          "1906 Summer",
          "1908 Summer",
          "1912 Summer",
          "1920 Summer",
          "1924 Summer",
          "1924 Winter",
          "1928 Summer",
          "1928 Winter",
          "1932 Summer",
          "1932 Winter",
          "1936 Summer",
          "1936 Winter",
          "1948 Summer",
          "1948 Winter",
          "1952 Summer",
          "1952 Winter",
          "1956 Summer",
          "1956 Winter",
          "1960 Summer",
          "1960 Winter",
          "1964 Summer",
          "1964 Winter",
          "1968 Summer",
          "1968 Winter",
          "1972 Summer",
          "1972 Winter",
          "1976 Summer",
          "1976 Winter",
          "1980 Winter",
          "1984 Summer",
          "1984 Winter",
          "1988 Summer",
          "1988 Winter",
          "1992 Summer",
          "1992 Winter",
          "1994 Winter",
          "1996 Summer",
          "1998 Winter",
          "2000 Summer",
          "2002 Winter",
          "2004 Summer",
          "2006 Winter",
          "2008 Summer",
          "2010 Winter",
          "2012 Summer",
          "2014 Winter",
          "2016 Summer"
         ],
         "xaxis": "x",
         "y": [
          0,
          0,
          0,
          0,
          0,
          0,
          0,
          2,
          0,
          2,
          0,
          3,
          0,
          2,
          0,
          3,
          0,
          2,
          0,
          0,
          0,
          0,
          0,
          4,
          0,
          1,
          0,
          0,
          0,
          0,
          0,
          0,
          0,
          0,
          2,
          0,
          0,
          3,
          0,
          0,
          0,
          0,
          0,
          4,
          0,
          1,
          0,
          1,
          0
         ],
         "yaxis": "y"
        },
        {
         "alignmentgroup": "True",
         "hovertemplate": "variable=Snowboarding<br>=%{x}<br>Medals=%{y}<extra></extra>",
         "legendgroup": "Snowboarding",
         "marker": {
          "color": "#DC587D",
          "pattern": {
           "shape": ""
          }
         },
         "name": "Snowboarding",
         "offsetgroup": "Snowboarding",
         "orientation": "v",
         "showlegend": true,
         "textposition": "auto",
         "type": "bar",
         "x": [
          "1900 Summer",
          "1904 Summer",
          "1906 Summer",
          "1908 Summer",
          "1912 Summer",
          "1920 Summer",
          "1924 Summer",
          "1924 Winter",
          "1928 Summer",
          "1928 Winter",
          "1932 Summer",
          "1932 Winter",
          "1936 Summer",
          "1936 Winter",
          "1948 Summer",
          "1948 Winter",
          "1952 Summer",
          "1952 Winter",
          "1956 Summer",
          "1956 Winter",
          "1960 Summer",
          "1960 Winter",
          "1964 Summer",
          "1964 Winter",
          "1968 Summer",
          "1968 Winter",
          "1972 Summer",
          "1972 Winter",
          "1976 Summer",
          "1976 Winter",
          "1980 Winter",
          "1984 Summer",
          "1984 Winter",
          "1988 Summer",
          "1988 Winter",
          "1992 Summer",
          "1992 Winter",
          "1994 Winter",
          "1996 Summer",
          "1998 Winter",
          "2000 Summer",
          "2002 Winter",
          "2004 Summer",
          "2006 Winter",
          "2008 Summer",
          "2010 Winter",
          "2012 Summer",
          "2014 Winter",
          "2016 Summer"
         ],
         "xaxis": "x",
         "y": [
          0,
          0,
          0,
          0,
          0,
          0,
          0,
          0,
          0,
          0,
          0,
          0,
          0,
          0,
          0,
          0,
          0,
          0,
          0,
          0,
          0,
          0,
          0,
          0,
          0,
          0,
          0,
          0,
          0,
          0,
          0,
          0,
          0,
          0,
          0,
          0,
          0,
          0,
          0,
          2,
          0,
          0,
          0,
          1,
          0,
          0,
          0,
          1,
          0
         ],
         "yaxis": "y"
        },
        {
         "alignmentgroup": "True",
         "hovertemplate": "variable=Speed Skating<br>=%{x}<br>Medals=%{y}<extra></extra>",
         "legendgroup": "Speed Skating",
         "marker": {
          "color": "#D626FF",
          "pattern": {
           "shape": ""
          }
         },
         "name": "Speed Skating",
         "offsetgroup": "Speed Skating",
         "orientation": "v",
         "showlegend": true,
         "textposition": "auto",
         "type": "bar",
         "x": [
          "1900 Summer",
          "1904 Summer",
          "1906 Summer",
          "1908 Summer",
          "1912 Summer",
          "1920 Summer",
          "1924 Summer",
          "1924 Winter",
          "1928 Summer",
          "1928 Winter",
          "1932 Summer",
          "1932 Winter",
          "1936 Summer",
          "1936 Winter",
          "1948 Summer",
          "1948 Winter",
          "1952 Summer",
          "1952 Winter",
          "1956 Summer",
          "1956 Winter",
          "1960 Summer",
          "1960 Winter",
          "1964 Summer",
          "1964 Winter",
          "1968 Summer",
          "1968 Winter",
          "1972 Summer",
          "1972 Winter",
          "1976 Summer",
          "1976 Winter",
          "1980 Winter",
          "1984 Summer",
          "1984 Winter",
          "1988 Summer",
          "1988 Winter",
          "1992 Summer",
          "1992 Winter",
          "1994 Winter",
          "1996 Summer",
          "1998 Winter",
          "2000 Summer",
          "2002 Winter",
          "2004 Summer",
          "2006 Winter",
          "2008 Summer",
          "2010 Winter",
          "2012 Summer",
          "2014 Winter",
          "2016 Summer"
         ],
         "xaxis": "x",
         "y": [
          0,
          0,
          0,
          0,
          0,
          0,
          0,
          7,
          0,
          6,
          0,
          2,
          0,
          6,
          0,
          6,
          0,
          6,
          0,
          2,
          0,
          3,
          0,
          7,
          0,
          4,
          0,
          4,
          0,
          5,
          7,
          0,
          1,
          0,
          0,
          0,
          5,
          5,
          0,
          1,
          0,
          2,
          0,
          0,
          0,
          1,
          0,
          0,
          0
         ],
         "yaxis": "y"
        },
        {
         "alignmentgroup": "True",
         "hovertemplate": "variable=Swimming<br>=%{x}<br>Medals=%{y}<extra></extra>",
         "legendgroup": "Swimming",
         "marker": {
          "color": "#6E899C",
          "pattern": {
           "shape": ""
          }
         },
         "name": "Swimming",
         "offsetgroup": "Swimming",
         "orientation": "v",
         "showlegend": true,
         "textposition": "auto",
         "type": "bar",
         "x": [
          "1900 Summer",
          "1904 Summer",
          "1906 Summer",
          "1908 Summer",
          "1912 Summer",
          "1920 Summer",
          "1924 Summer",
          "1924 Winter",
          "1928 Summer",
          "1928 Winter",
          "1932 Summer",
          "1932 Winter",
          "1936 Summer",
          "1936 Winter",
          "1948 Summer",
          "1948 Winter",
          "1952 Summer",
          "1952 Winter",
          "1956 Summer",
          "1956 Winter",
          "1960 Summer",
          "1960 Winter",
          "1964 Summer",
          "1964 Winter",
          "1968 Summer",
          "1968 Winter",
          "1972 Summer",
          "1972 Winter",
          "1976 Summer",
          "1976 Winter",
          "1980 Winter",
          "1984 Summer",
          "1984 Winter",
          "1988 Summer",
          "1988 Winter",
          "1992 Summer",
          "1992 Winter",
          "1994 Winter",
          "1996 Summer",
          "1998 Winter",
          "2000 Summer",
          "2002 Winter",
          "2004 Summer",
          "2006 Winter",
          "2008 Summer",
          "2010 Winter",
          "2012 Summer",
          "2014 Winter",
          "2016 Summer"
         ],
         "xaxis": "x",
         "y": [
          0,
          0,
          0,
          0,
          0,
          0,
          0,
          0,
          0,
          0,
          0,
          0,
          0,
          0,
          0,
          0,
          0,
          0,
          0,
          0,
          0,
          0,
          0,
          0,
          0,
          0,
          0,
          0,
          0,
          0,
          0,
          0,
          0,
          0,
          0,
          0,
          0,
          0,
          0,
          0,
          0,
          0,
          0,
          0,
          2,
          0,
          0,
          0,
          0
         ],
         "yaxis": "y"
        },
        {
         "alignmentgroup": "True",
         "hovertemplate": "variable=Taekwondo<br>=%{x}<br>Medals=%{y}<extra></extra>",
         "legendgroup": "Taekwondo",
         "marker": {
          "color": "#00B5F7",
          "pattern": {
           "shape": ""
          }
         },
         "name": "Taekwondo",
         "offsetgroup": "Taekwondo",
         "orientation": "v",
         "showlegend": true,
         "textposition": "auto",
         "type": "bar",
         "x": [
          "1900 Summer",
          "1904 Summer",
          "1906 Summer",
          "1908 Summer",
          "1912 Summer",
          "1920 Summer",
          "1924 Summer",
          "1924 Winter",
          "1928 Summer",
          "1928 Winter",
          "1932 Summer",
          "1932 Winter",
          "1936 Summer",
          "1936 Winter",
          "1948 Summer",
          "1948 Winter",
          "1952 Summer",
          "1952 Winter",
          "1956 Summer",
          "1956 Winter",
          "1960 Summer",
          "1960 Winter",
          "1964 Summer",
          "1964 Winter",
          "1968 Summer",
          "1968 Winter",
          "1972 Summer",
          "1972 Winter",
          "1976 Summer",
          "1976 Winter",
          "1980 Winter",
          "1984 Summer",
          "1984 Winter",
          "1988 Summer",
          "1988 Winter",
          "1992 Summer",
          "1992 Winter",
          "1994 Winter",
          "1996 Summer",
          "1998 Winter",
          "2000 Summer",
          "2002 Winter",
          "2004 Summer",
          "2006 Winter",
          "2008 Summer",
          "2010 Winter",
          "2012 Summer",
          "2014 Winter",
          "2016 Summer"
         ],
         "xaxis": "x",
         "y": [
          0,
          0,
          0,
          0,
          0,
          0,
          0,
          0,
          0,
          0,
          0,
          0,
          0,
          0,
          0,
          0,
          0,
          0,
          0,
          0,
          0,
          0,
          0,
          0,
          0,
          0,
          0,
          0,
          0,
          0,
          0,
          0,
          0,
          0,
          0,
          0,
          0,
          0,
          0,
          0,
          1,
          0,
          0,
          0,
          1,
          0,
          0,
          0,
          0
         ],
         "yaxis": "y"
        },
        {
         "alignmentgroup": "True",
         "hovertemplate": "variable=Tennis<br>=%{x}<br>Medals=%{y}<extra></extra>",
         "legendgroup": "Tennis",
         "marker": {
          "color": "#B68E00",
          "pattern": {
           "shape": ""
          }
         },
         "name": "Tennis",
         "offsetgroup": "Tennis",
         "orientation": "v",
         "showlegend": true,
         "textposition": "auto",
         "type": "bar",
         "x": [
          "1900 Summer",
          "1904 Summer",
          "1906 Summer",
          "1908 Summer",
          "1912 Summer",
          "1920 Summer",
          "1924 Summer",
          "1924 Winter",
          "1928 Summer",
          "1928 Winter",
          "1932 Summer",
          "1932 Winter",
          "1936 Summer",
          "1936 Winter",
          "1948 Summer",
          "1948 Winter",
          "1952 Summer",
          "1952 Winter",
          "1956 Summer",
          "1956 Winter",
          "1960 Summer",
          "1960 Winter",
          "1964 Summer",
          "1964 Winter",
          "1968 Summer",
          "1968 Winter",
          "1972 Summer",
          "1972 Winter",
          "1976 Summer",
          "1976 Winter",
          "1980 Winter",
          "1984 Summer",
          "1984 Winter",
          "1988 Summer",
          "1988 Winter",
          "1992 Summer",
          "1992 Winter",
          "1994 Winter",
          "1996 Summer",
          "1998 Winter",
          "2000 Summer",
          "2002 Winter",
          "2004 Summer",
          "2006 Winter",
          "2008 Summer",
          "2010 Winter",
          "2012 Summer",
          "2014 Winter",
          "2016 Summer"
         ],
         "xaxis": "x",
         "y": [
          0,
          0,
          0,
          0,
          1,
          0,
          0,
          0,
          0,
          0,
          0,
          0,
          0,
          0,
          0,
          0,
          0,
          0,
          0,
          0,
          0,
          0,
          0,
          0,
          0,
          0,
          0,
          0,
          0,
          0,
          0,
          0,
          0,
          0,
          0,
          0,
          0,
          0,
          0,
          0,
          0,
          0,
          0,
          0,
          0,
          0,
          0,
          0,
          0
         ],
         "yaxis": "y"
        },
        {
         "alignmentgroup": "True",
         "hovertemplate": "variable=Triathlon<br>=%{x}<br>Medals=%{y}<extra></extra>",
         "legendgroup": "Triathlon",
         "marker": {
          "color": "#C9FBE5",
          "pattern": {
           "shape": ""
          }
         },
         "name": "Triathlon",
         "offsetgroup": "Triathlon",
         "orientation": "v",
         "showlegend": true,
         "textposition": "auto",
         "type": "bar",
         "x": [
          "1900 Summer",
          "1904 Summer",
          "1906 Summer",
          "1908 Summer",
          "1912 Summer",
          "1920 Summer",
          "1924 Summer",
          "1924 Winter",
          "1928 Summer",
          "1928 Winter",
          "1932 Summer",
          "1932 Winter",
          "1936 Summer",
          "1936 Winter",
          "1948 Summer",
          "1948 Winter",
          "1952 Summer",
          "1952 Winter",
          "1956 Summer",
          "1956 Winter",
          "1960 Summer",
          "1960 Winter",
          "1964 Summer",
          "1964 Winter",
          "1968 Summer",
          "1968 Winter",
          "1972 Summer",
          "1972 Winter",
          "1976 Summer",
          "1976 Winter",
          "1980 Winter",
          "1984 Summer",
          "1984 Winter",
          "1988 Summer",
          "1988 Winter",
          "1992 Summer",
          "1992 Winter",
          "1994 Winter",
          "1996 Summer",
          "1998 Winter",
          "2000 Summer",
          "2002 Winter",
          "2004 Summer",
          "2006 Winter",
          "2008 Summer",
          "2010 Winter",
          "2012 Summer",
          "2014 Winter",
          "2016 Summer"
         ],
         "xaxis": "x",
         "y": [
          0,
          0,
          0,
          0,
          0,
          0,
          0,
          0,
          0,
          0,
          0,
          0,
          0,
          0,
          0,
          0,
          0,
          0,
          0,
          0,
          0,
          0,
          0,
          0,
          0,
          0,
          0,
          0,
          0,
          0,
          0,
          0,
          0,
          0,
          0,
          0,
          0,
          0,
          0,
          0,
          0,
          0,
          0,
          0,
          0,
          0,
          0,
          0,
          0
         ],
         "yaxis": "y"
        },
        {
         "alignmentgroup": "True",
         "hovertemplate": "variable=Weightlifting<br>=%{x}<br>Medals=%{y}<extra></extra>",
         "legendgroup": "Weightlifting",
         "marker": {
          "color": "#FF0092",
          "pattern": {
           "shape": ""
          }
         },
         "name": "Weightlifting",
         "offsetgroup": "Weightlifting",
         "orientation": "v",
         "showlegend": true,
         "textposition": "auto",
         "type": "bar",
         "x": [
          "1900 Summer",
          "1904 Summer",
          "1906 Summer",
          "1908 Summer",
          "1912 Summer",
          "1920 Summer",
          "1924 Summer",
          "1924 Winter",
          "1928 Summer",
          "1928 Winter",
          "1932 Summer",
          "1932 Winter",
          "1936 Summer",
          "1936 Winter",
          "1948 Summer",
          "1948 Winter",
          "1952 Summer",
          "1952 Winter",
          "1956 Summer",
          "1956 Winter",
          "1960 Summer",
          "1960 Winter",
          "1964 Summer",
          "1964 Winter",
          "1968 Summer",
          "1968 Winter",
          "1972 Summer",
          "1972 Winter",
          "1976 Summer",
          "1976 Winter",
          "1980 Winter",
          "1984 Summer",
          "1984 Winter",
          "1988 Summer",
          "1988 Winter",
          "1992 Summer",
          "1992 Winter",
          "1994 Winter",
          "1996 Summer",
          "1998 Winter",
          "2000 Summer",
          "2002 Winter",
          "2004 Summer",
          "2006 Winter",
          "2008 Summer",
          "2010 Winter",
          "2012 Summer",
          "2014 Winter",
          "2016 Summer"
         ],
         "xaxis": "x",
         "y": [
          0,
          0,
          0,
          0,
          0,
          0,
          0,
          0,
          0,
          0,
          0,
          0,
          0,
          0,
          0,
          0,
          0,
          0,
          0,
          0,
          0,
          0,
          0,
          0,
          0,
          0,
          1,
          0,
          0,
          0,
          0,
          0,
          0,
          0,
          0,
          0,
          0,
          0,
          0,
          0,
          0,
          0,
          0,
          0,
          0,
          0,
          0,
          0,
          0
         ],
         "yaxis": "y"
        },
        {
         "alignmentgroup": "True",
         "hovertemplate": "variable=Wrestling<br>=%{x}<br>Medals=%{y}<extra></extra>",
         "legendgroup": "Wrestling",
         "marker": {
          "color": "#22FFA7",
          "pattern": {
           "shape": ""
          }
         },
         "name": "Wrestling",
         "offsetgroup": "Wrestling",
         "orientation": "v",
         "showlegend": true,
         "textposition": "auto",
         "type": "bar",
         "x": [
          "1900 Summer",
          "1904 Summer",
          "1906 Summer",
          "1908 Summer",
          "1912 Summer",
          "1920 Summer",
          "1924 Summer",
          "1924 Winter",
          "1928 Summer",
          "1928 Winter",
          "1932 Summer",
          "1932 Winter",
          "1936 Summer",
          "1936 Winter",
          "1948 Summer",
          "1948 Winter",
          "1952 Summer",
          "1952 Winter",
          "1956 Summer",
          "1956 Winter",
          "1960 Summer",
          "1960 Winter",
          "1964 Summer",
          "1964 Winter",
          "1968 Summer",
          "1968 Winter",
          "1972 Summer",
          "1972 Winter",
          "1976 Summer",
          "1976 Winter",
          "1980 Winter",
          "1984 Summer",
          "1984 Winter",
          "1988 Summer",
          "1988 Winter",
          "1992 Summer",
          "1992 Winter",
          "1994 Winter",
          "1996 Summer",
          "1998 Winter",
          "2000 Summer",
          "2002 Winter",
          "2004 Summer",
          "2006 Winter",
          "2008 Summer",
          "2010 Winter",
          "2012 Summer",
          "2014 Winter",
          "2016 Summer"
         ],
         "xaxis": "x",
         "y": [
          0,
          2,
          0,
          1,
          0,
          1,
          0,
          0,
          0,
          0,
          0,
          0,
          0,
          0,
          1,
          0,
          0,
          0,
          0,
          0,
          0,
          0,
          0,
          0,
          0,
          0,
          0,
          0,
          0,
          0,
          0,
          0,
          0,
          1,
          0,
          1,
          0,
          0,
          0,
          0,
          0,
          0,
          0,
          0,
          0,
          0,
          0,
          0,
          1
         ],
         "yaxis": "y"
        }
       ],
       "layout": {
        "barmode": "relative",
        "legend": {
         "title": {
          "text": "variable"
         },
         "tracegroupgap": 0
        },
        "template": {
         "data": {
          "bar": [
           {
            "error_x": {
             "color": "#2a3f5f"
            },
            "error_y": {
             "color": "#2a3f5f"
            },
            "marker": {
             "line": {
              "color": "#E5ECF6",
              "width": 0.5
             },
             "pattern": {
              "fillmode": "overlay",
              "size": 10,
              "solidity": 0.2
             }
            },
            "type": "bar"
           }
          ],
          "barpolar": [
           {
            "marker": {
             "line": {
              "color": "#E5ECF6",
              "width": 0.5
             },
             "pattern": {
              "fillmode": "overlay",
              "size": 10,
              "solidity": 0.2
             }
            },
            "type": "barpolar"
           }
          ],
          "carpet": [
           {
            "aaxis": {
             "endlinecolor": "#2a3f5f",
             "gridcolor": "white",
             "linecolor": "white",
             "minorgridcolor": "white",
             "startlinecolor": "#2a3f5f"
            },
            "baxis": {
             "endlinecolor": "#2a3f5f",
             "gridcolor": "white",
             "linecolor": "white",
             "minorgridcolor": "white",
             "startlinecolor": "#2a3f5f"
            },
            "type": "carpet"
           }
          ],
          "choropleth": [
           {
            "colorbar": {
             "outlinewidth": 0,
             "ticks": ""
            },
            "type": "choropleth"
           }
          ],
          "contour": [
           {
            "colorbar": {
             "outlinewidth": 0,
             "ticks": ""
            },
            "colorscale": [
             [
              0,
              "#0d0887"
             ],
             [
              0.1111111111111111,
              "#46039f"
             ],
             [
              0.2222222222222222,
              "#7201a8"
             ],
             [
              0.3333333333333333,
              "#9c179e"
             ],
             [
              0.4444444444444444,
              "#bd3786"
             ],
             [
              0.5555555555555556,
              "#d8576b"
             ],
             [
              0.6666666666666666,
              "#ed7953"
             ],
             [
              0.7777777777777778,
              "#fb9f3a"
             ],
             [
              0.8888888888888888,
              "#fdca26"
             ],
             [
              1,
              "#f0f921"
             ]
            ],
            "type": "contour"
           }
          ],
          "contourcarpet": [
           {
            "colorbar": {
             "outlinewidth": 0,
             "ticks": ""
            },
            "type": "contourcarpet"
           }
          ],
          "heatmap": [
           {
            "colorbar": {
             "outlinewidth": 0,
             "ticks": ""
            },
            "colorscale": [
             [
              0,
              "#0d0887"
             ],
             [
              0.1111111111111111,
              "#46039f"
             ],
             [
              0.2222222222222222,
              "#7201a8"
             ],
             [
              0.3333333333333333,
              "#9c179e"
             ],
             [
              0.4444444444444444,
              "#bd3786"
             ],
             [
              0.5555555555555556,
              "#d8576b"
             ],
             [
              0.6666666666666666,
              "#ed7953"
             ],
             [
              0.7777777777777778,
              "#fb9f3a"
             ],
             [
              0.8888888888888888,
              "#fdca26"
             ],
             [
              1,
              "#f0f921"
             ]
            ],
            "type": "heatmap"
           }
          ],
          "heatmapgl": [
           {
            "colorbar": {
             "outlinewidth": 0,
             "ticks": ""
            },
            "colorscale": [
             [
              0,
              "#0d0887"
             ],
             [
              0.1111111111111111,
              "#46039f"
             ],
             [
              0.2222222222222222,
              "#7201a8"
             ],
             [
              0.3333333333333333,
              "#9c179e"
             ],
             [
              0.4444444444444444,
              "#bd3786"
             ],
             [
              0.5555555555555556,
              "#d8576b"
             ],
             [
              0.6666666666666666,
              "#ed7953"
             ],
             [
              0.7777777777777778,
              "#fb9f3a"
             ],
             [
              0.8888888888888888,
              "#fdca26"
             ],
             [
              1,
              "#f0f921"
             ]
            ],
            "type": "heatmapgl"
           }
          ],
          "histogram": [
           {
            "marker": {
             "pattern": {
              "fillmode": "overlay",
              "size": 10,
              "solidity": 0.2
             }
            },
            "type": "histogram"
           }
          ],
          "histogram2d": [
           {
            "colorbar": {
             "outlinewidth": 0,
             "ticks": ""
            },
            "colorscale": [
             [
              0,
              "#0d0887"
             ],
             [
              0.1111111111111111,
              "#46039f"
             ],
             [
              0.2222222222222222,
              "#7201a8"
             ],
             [
              0.3333333333333333,
              "#9c179e"
             ],
             [
              0.4444444444444444,
              "#bd3786"
             ],
             [
              0.5555555555555556,
              "#d8576b"
             ],
             [
              0.6666666666666666,
              "#ed7953"
             ],
             [
              0.7777777777777778,
              "#fb9f3a"
             ],
             [
              0.8888888888888888,
              "#fdca26"
             ],
             [
              1,
              "#f0f921"
             ]
            ],
            "type": "histogram2d"
           }
          ],
          "histogram2dcontour": [
           {
            "colorbar": {
             "outlinewidth": 0,
             "ticks": ""
            },
            "colorscale": [
             [
              0,
              "#0d0887"
             ],
             [
              0.1111111111111111,
              "#46039f"
             ],
             [
              0.2222222222222222,
              "#7201a8"
             ],
             [
              0.3333333333333333,
              "#9c179e"
             ],
             [
              0.4444444444444444,
              "#bd3786"
             ],
             [
              0.5555555555555556,
              "#d8576b"
             ],
             [
              0.6666666666666666,
              "#ed7953"
             ],
             [
              0.7777777777777778,
              "#fb9f3a"
             ],
             [
              0.8888888888888888,
              "#fdca26"
             ],
             [
              1,
              "#f0f921"
             ]
            ],
            "type": "histogram2dcontour"
           }
          ],
          "mesh3d": [
           {
            "colorbar": {
             "outlinewidth": 0,
             "ticks": ""
            },
            "type": "mesh3d"
           }
          ],
          "parcoords": [
           {
            "line": {
             "colorbar": {
              "outlinewidth": 0,
              "ticks": ""
             }
            },
            "type": "parcoords"
           }
          ],
          "pie": [
           {
            "automargin": true,
            "type": "pie"
           }
          ],
          "scatter": [
           {
            "fillpattern": {
             "fillmode": "overlay",
             "size": 10,
             "solidity": 0.2
            },
            "type": "scatter"
           }
          ],
          "scatter3d": [
           {
            "line": {
             "colorbar": {
              "outlinewidth": 0,
              "ticks": ""
             }
            },
            "marker": {
             "colorbar": {
              "outlinewidth": 0,
              "ticks": ""
             }
            },
            "type": "scatter3d"
           }
          ],
          "scattercarpet": [
           {
            "marker": {
             "colorbar": {
              "outlinewidth": 0,
              "ticks": ""
             }
            },
            "type": "scattercarpet"
           }
          ],
          "scattergeo": [
           {
            "marker": {
             "colorbar": {
              "outlinewidth": 0,
              "ticks": ""
             }
            },
            "type": "scattergeo"
           }
          ],
          "scattergl": [
           {
            "marker": {
             "colorbar": {
              "outlinewidth": 0,
              "ticks": ""
             }
            },
            "type": "scattergl"
           }
          ],
          "scattermapbox": [
           {
            "marker": {
             "colorbar": {
              "outlinewidth": 0,
              "ticks": ""
             }
            },
            "type": "scattermapbox"
           }
          ],
          "scatterpolar": [
           {
            "marker": {
             "colorbar": {
              "outlinewidth": 0,
              "ticks": ""
             }
            },
            "type": "scatterpolar"
           }
          ],
          "scatterpolargl": [
           {
            "marker": {
             "colorbar": {
              "outlinewidth": 0,
              "ticks": ""
             }
            },
            "type": "scatterpolargl"
           }
          ],
          "scatterternary": [
           {
            "marker": {
             "colorbar": {
              "outlinewidth": 0,
              "ticks": ""
             }
            },
            "type": "scatterternary"
           }
          ],
          "surface": [
           {
            "colorbar": {
             "outlinewidth": 0,
             "ticks": ""
            },
            "colorscale": [
             [
              0,
              "#0d0887"
             ],
             [
              0.1111111111111111,
              "#46039f"
             ],
             [
              0.2222222222222222,
              "#7201a8"
             ],
             [
              0.3333333333333333,
              "#9c179e"
             ],
             [
              0.4444444444444444,
              "#bd3786"
             ],
             [
              0.5555555555555556,
              "#d8576b"
             ],
             [
              0.6666666666666666,
              "#ed7953"
             ],
             [
              0.7777777777777778,
              "#fb9f3a"
             ],
             [
              0.8888888888888888,
              "#fdca26"
             ],
             [
              1,
              "#f0f921"
             ]
            ],
            "type": "surface"
           }
          ],
          "table": [
           {
            "cells": {
             "fill": {
              "color": "#EBF0F8"
             },
             "line": {
              "color": "white"
             }
            },
            "header": {
             "fill": {
              "color": "#C8D4E3"
             },
             "line": {
              "color": "white"
             }
            },
            "type": "table"
           }
          ]
         },
         "layout": {
          "annotationdefaults": {
           "arrowcolor": "#2a3f5f",
           "arrowhead": 0,
           "arrowwidth": 1
          },
          "autotypenumbers": "strict",
          "coloraxis": {
           "colorbar": {
            "outlinewidth": 0,
            "ticks": ""
           }
          },
          "colorscale": {
           "diverging": [
            [
             0,
             "#8e0152"
            ],
            [
             0.1,
             "#c51b7d"
            ],
            [
             0.2,
             "#de77ae"
            ],
            [
             0.3,
             "#f1b6da"
            ],
            [
             0.4,
             "#fde0ef"
            ],
            [
             0.5,
             "#f7f7f7"
            ],
            [
             0.6,
             "#e6f5d0"
            ],
            [
             0.7,
             "#b8e186"
            ],
            [
             0.8,
             "#7fbc41"
            ],
            [
             0.9,
             "#4d9221"
            ],
            [
             1,
             "#276419"
            ]
           ],
           "sequential": [
            [
             0,
             "#0d0887"
            ],
            [
             0.1111111111111111,
             "#46039f"
            ],
            [
             0.2222222222222222,
             "#7201a8"
            ],
            [
             0.3333333333333333,
             "#9c179e"
            ],
            [
             0.4444444444444444,
             "#bd3786"
            ],
            [
             0.5555555555555556,
             "#d8576b"
            ],
            [
             0.6666666666666666,
             "#ed7953"
            ],
            [
             0.7777777777777778,
             "#fb9f3a"
            ],
            [
             0.8888888888888888,
             "#fdca26"
            ],
            [
             1,
             "#f0f921"
            ]
           ],
           "sequentialminus": [
            [
             0,
             "#0d0887"
            ],
            [
             0.1111111111111111,
             "#46039f"
            ],
            [
             0.2222222222222222,
             "#7201a8"
            ],
            [
             0.3333333333333333,
             "#9c179e"
            ],
            [
             0.4444444444444444,
             "#bd3786"
            ],
            [
             0.5555555555555556,
             "#d8576b"
            ],
            [
             0.6666666666666666,
             "#ed7953"
            ],
            [
             0.7777777777777778,
             "#fb9f3a"
            ],
            [
             0.8888888888888888,
             "#fdca26"
            ],
            [
             1,
             "#f0f921"
            ]
           ]
          },
          "colorway": [
           "#636efa",
           "#EF553B",
           "#00cc96",
           "#ab63fa",
           "#FFA15A",
           "#19d3f3",
           "#FF6692",
           "#B6E880",
           "#FF97FF",
           "#FECB52"
          ],
          "font": {
           "color": "#2a3f5f"
          },
          "geo": {
           "bgcolor": "white",
           "lakecolor": "white",
           "landcolor": "#E5ECF6",
           "showlakes": true,
           "showland": true,
           "subunitcolor": "white"
          },
          "hoverlabel": {
           "align": "left"
          },
          "hovermode": "closest",
          "mapbox": {
           "style": "light"
          },
          "paper_bgcolor": "white",
          "plot_bgcolor": "#E5ECF6",
          "polar": {
           "angularaxis": {
            "gridcolor": "white",
            "linecolor": "white",
            "ticks": ""
           },
           "bgcolor": "#E5ECF6",
           "radialaxis": {
            "gridcolor": "white",
            "linecolor": "white",
            "ticks": ""
           }
          },
          "scene": {
           "xaxis": {
            "backgroundcolor": "#E5ECF6",
            "gridcolor": "white",
            "gridwidth": 2,
            "linecolor": "white",
            "showbackground": true,
            "ticks": "",
            "zerolinecolor": "white"
           },
           "yaxis": {
            "backgroundcolor": "#E5ECF6",
            "gridcolor": "white",
            "gridwidth": 2,
            "linecolor": "white",
            "showbackground": true,
            "ticks": "",
            "zerolinecolor": "white"
           },
           "zaxis": {
            "backgroundcolor": "#E5ECF6",
            "gridcolor": "white",
            "gridwidth": 2,
            "linecolor": "white",
            "showbackground": true,
            "ticks": "",
            "zerolinecolor": "white"
           }
          },
          "shapedefaults": {
           "line": {
            "color": "#2a3f5f"
           }
          },
          "ternary": {
           "aaxis": {
            "gridcolor": "white",
            "linecolor": "white",
            "ticks": ""
           },
           "baxis": {
            "gridcolor": "white",
            "linecolor": "white",
            "ticks": ""
           },
           "bgcolor": "#E5ECF6",
           "caxis": {
            "gridcolor": "white",
            "linecolor": "white",
            "ticks": ""
           }
          },
          "title": {
           "x": 0.05
          },
          "xaxis": {
           "automargin": true,
           "gridcolor": "white",
           "linecolor": "white",
           "ticks": "",
           "title": {
            "standoff": 15
           },
           "zerolinecolor": "white",
           "zerolinewidth": 2
          },
          "yaxis": {
           "automargin": true,
           "gridcolor": "white",
           "linecolor": "white",
           "ticks": "",
           "title": {
            "standoff": 15
           },
           "zerolinecolor": "white",
           "zerolinewidth": 2
          }
         }
        },
        "title": {
         "text": "Norwegian Olympic medals by sport"
        },
        "xaxis": {
         "anchor": "y",
         "domain": [
          0,
          1
         ],
         "tickangle": -90,
         "title": {
          "text": ""
         }
        },
        "yaxis": {
         "anchor": "x",
         "domain": [
          0,
          1
         ],
         "title": {
          "text": "Medals"
         }
        }
       }
      }
     },
     "metadata": {},
     "output_type": "display_data"
    }
   ],
   "source": [
    "fig = px.bar(nor_medals_sport, \n",
    "             x=\"Games\", y=nor_medals_sport.columns[1:], \n",
    "             title=\"Norwegian Olympic medals by sport\", \n",
    "             labels={\"Total\": \"Medals\", \"index\": \"Sport\", \"Games\": \"\", \"value\": \"Medals\"}, \n",
    "             color_discrete_sequence=px.colors.qualitative.Light24)\n",
    "fig.update_xaxes(tickangle=-90)\n",
    "fig.show()"
   ]
  },
  {
   "cell_type": "code",
   "execution_count": 228,
   "metadata": {},
   "outputs": [],
   "source": [
    "def sports_medals(df=nor):\n",
    "    sports_medals = df.copy()\n",
    "    sports_medals = sports_medals.drop_duplicates(subset=[\"Event\", \"Games\", \"Team\", \"Medal\"])\n",
    "    sports_medals = sports_medals.groupby([\"Sport\", \"Medal\"]).size().unstack(fill_value=0)\n",
    "    sports_medals[\"Total\"] = sports_medals.sum(axis=1)\n",
    "    sports_medals = sports_medals.reindex(columns=[\"Bronze\", \"Silver\", \"Gold\", \"Total\"])\n",
    "    sports_medals = sports_medals.sort_values(by=\"Total\", ascending=False)\n",
    "    sports_medals = sports_medals.reset_index()\n",
    "    return sports_medals\n",
    "\n",
    "\n",
    "nor_medals_sport_all = sports_medals()\n",
    "nor_medals_sport_wom = sports_medals(nor_wom)\n",
    "nor_medals_sport_men = sports_medals(nor_men)"
   ]
  },
  {
   "cell_type": "code",
   "execution_count": 229,
   "metadata": {},
   "outputs": [
    {
     "data": {
      "application/vnd.plotly.v1+json": {
       "config": {
        "plotlyServerURL": "https://plot.ly"
       },
       "data": [
        {
         "alignmentgroup": "True",
         "hovertemplate": "=%{x}<br>Medals=%{y}<extra></extra>",
         "legendgroup": "Cross Country Skiing",
         "marker": {
          "color": "#636efa",
          "pattern": {
           "shape": ""
          }
         },
         "name": "Cross Country Skiing",
         "offsetgroup": "Cross Country Skiing",
         "orientation": "v",
         "showlegend": true,
         "textposition": "auto",
         "type": "bar",
         "x": [
          "Cross Country Skiing"
         ],
         "xaxis": "x",
         "y": [
          97
         ],
         "yaxis": "y"
        },
        {
         "alignmentgroup": "True",
         "hovertemplate": "=%{x}<br>Medals=%{y}<extra></extra>",
         "legendgroup": "Speed Skating",
         "marker": {
          "color": "#EF553B",
          "pattern": {
           "shape": ""
          }
         },
         "name": "Speed Skating",
         "offsetgroup": "Speed Skating",
         "orientation": "v",
         "showlegend": true,
         "textposition": "auto",
         "type": "bar",
         "x": [
          "Speed Skating"
         ],
         "xaxis": "x",
         "y": [
          80
         ],
         "yaxis": "y"
        },
        {
         "alignmentgroup": "True",
         "hovertemplate": "=%{x}<br>Medals=%{y}<extra></extra>",
         "legendgroup": "Biathlon",
         "marker": {
          "color": "#00cc96",
          "pattern": {
           "shape": ""
          }
         },
         "name": "Biathlon",
         "offsetgroup": "Biathlon",
         "orientation": "v",
         "showlegend": true,
         "textposition": "auto",
         "type": "bar",
         "x": [
          "Biathlon"
         ],
         "xaxis": "x",
         "y": [
          35
         ],
         "yaxis": "y"
        },
        {
         "alignmentgroup": "True",
         "hovertemplate": "=%{x}<br>Medals=%{y}<extra></extra>",
         "legendgroup": "Shooting",
         "marker": {
          "color": "#ab63fa",
          "pattern": {
           "shape": ""
          }
         },
         "name": "Shooting",
         "offsetgroup": "Shooting",
         "orientation": "v",
         "showlegend": true,
         "textposition": "auto",
         "type": "bar",
         "x": [
          "Shooting"
         ],
         "xaxis": "x",
         "y": [
          33
         ],
         "yaxis": "y"
        },
        {
         "alignmentgroup": "True",
         "hovertemplate": "=%{x}<br>Medals=%{y}<extra></extra>",
         "legendgroup": "Sailing",
         "marker": {
          "color": "#FFA15A",
          "pattern": {
           "shape": ""
          }
         },
         "name": "Sailing",
         "offsetgroup": "Sailing",
         "orientation": "v",
         "showlegend": true,
         "textposition": "auto",
         "type": "bar",
         "x": [
          "Sailing"
         ],
         "xaxis": "x",
         "y": [
          31
         ],
         "yaxis": "y"
        },
        {
         "alignmentgroup": "True",
         "hovertemplate": "=%{x}<br>Medals=%{y}<extra></extra>",
         "legendgroup": "Nordic Combined",
         "marker": {
          "color": "#19d3f3",
          "pattern": {
           "shape": ""
          }
         },
         "name": "Nordic Combined",
         "offsetgroup": "Nordic Combined",
         "orientation": "v",
         "showlegend": true,
         "textposition": "auto",
         "type": "bar",
         "x": [
          "Nordic Combined"
         ],
         "xaxis": "x",
         "y": [
          30
         ],
         "yaxis": "y"
        },
        {
         "alignmentgroup": "True",
         "hovertemplate": "=%{x}<br>Medals=%{y}<extra></extra>",
         "legendgroup": "Ski Jumping",
         "marker": {
          "color": "#FF6692",
          "pattern": {
           "shape": ""
          }
         },
         "name": "Ski Jumping",
         "offsetgroup": "Ski Jumping",
         "orientation": "v",
         "showlegend": true,
         "textposition": "auto",
         "type": "bar",
         "x": [
          "Ski Jumping"
         ],
         "xaxis": "x",
         "y": [
          30
         ],
         "yaxis": "y"
        },
        {
         "alignmentgroup": "True",
         "hovertemplate": "=%{x}<br>Medals=%{y}<extra></extra>",
         "legendgroup": "Alpine Skiing",
         "marker": {
          "color": "#B6E880",
          "pattern": {
           "shape": ""
          }
         },
         "name": "Alpine Skiing",
         "offsetgroup": "Alpine Skiing",
         "orientation": "v",
         "showlegend": true,
         "textposition": "auto",
         "type": "bar",
         "x": [
          "Alpine Skiing"
         ],
         "xaxis": "x",
         "y": [
          29
         ],
         "yaxis": "y"
        },
        {
         "alignmentgroup": "True",
         "hovertemplate": "=%{x}<br>Medals=%{y}<extra></extra>",
         "legendgroup": "Athletics",
         "marker": {
          "color": "#FF97FF",
          "pattern": {
           "shape": ""
          }
         },
         "name": "Athletics",
         "offsetgroup": "Athletics",
         "orientation": "v",
         "showlegend": true,
         "textposition": "auto",
         "type": "bar",
         "x": [
          "Athletics"
         ],
         "xaxis": "x",
         "y": [
          20
         ],
         "yaxis": "y"
        },
        {
         "alignmentgroup": "True",
         "hovertemplate": "=%{x}<br>Medals=%{y}<extra></extra>",
         "legendgroup": "Rowing",
         "marker": {
          "color": "#FECB52",
          "pattern": {
           "shape": ""
          }
         },
         "name": "Rowing",
         "offsetgroup": "Rowing",
         "orientation": "v",
         "showlegend": true,
         "textposition": "auto",
         "type": "bar",
         "x": [
          "Rowing"
         ],
         "xaxis": "x",
         "y": [
          17
         ],
         "yaxis": "y"
        },
        {
         "alignmentgroup": "True",
         "hovertemplate": "=%{x}<br>Medals=%{y}<extra></extra>",
         "legendgroup": "Canoeing",
         "marker": {
          "color": "#636efa",
          "pattern": {
           "shape": ""
          }
         },
         "name": "Canoeing",
         "offsetgroup": "Canoeing",
         "orientation": "v",
         "showlegend": true,
         "textposition": "auto",
         "type": "bar",
         "x": [
          "Canoeing"
         ],
         "xaxis": "x",
         "y": [
          14
         ],
         "yaxis": "y"
        },
        {
         "alignmentgroup": "True",
         "hovertemplate": "=%{x}<br>Medals=%{y}<extra></extra>",
         "legendgroup": "Freestyle Skiing",
         "marker": {
          "color": "#EF553B",
          "pattern": {
           "shape": ""
          }
         },
         "name": "Freestyle Skiing",
         "offsetgroup": "Freestyle Skiing",
         "orientation": "v",
         "showlegend": true,
         "textposition": "auto",
         "type": "bar",
         "x": [
          "Freestyle Skiing"
         ],
         "xaxis": "x",
         "y": [
          8
         ],
         "yaxis": "y"
        },
        {
         "alignmentgroup": "True",
         "hovertemplate": "=%{x}<br>Medals=%{y}<extra></extra>",
         "legendgroup": "Wrestling",
         "marker": {
          "color": "#00cc96",
          "pattern": {
           "shape": ""
          }
         },
         "name": "Wrestling",
         "offsetgroup": "Wrestling",
         "orientation": "v",
         "showlegend": true,
         "textposition": "auto",
         "type": "bar",
         "x": [
          "Wrestling"
         ],
         "xaxis": "x",
         "y": [
          8
         ],
         "yaxis": "y"
        },
        {
         "alignmentgroup": "True",
         "hovertemplate": "=%{x}<br>Medals=%{y}<extra></extra>",
         "legendgroup": "Handball",
         "marker": {
          "color": "#ab63fa",
          "pattern": {
           "shape": ""
          }
         },
         "name": "Handball",
         "offsetgroup": "Handball",
         "orientation": "v",
         "showlegend": true,
         "textposition": "auto",
         "type": "bar",
         "x": [
          "Handball"
         ],
         "xaxis": "x",
         "y": [
          6
         ],
         "yaxis": "y"
        },
        {
         "alignmentgroup": "True",
         "hovertemplate": "=%{x}<br>Medals=%{y}<extra></extra>",
         "legendgroup": "Figure Skating",
         "marker": {
          "color": "#FFA15A",
          "pattern": {
           "shape": ""
          }
         },
         "name": "Figure Skating",
         "offsetgroup": "Figure Skating",
         "orientation": "v",
         "showlegend": true,
         "textposition": "auto",
         "type": "bar",
         "x": [
          "Figure Skating"
         ],
         "xaxis": "x",
         "y": [
          6
         ],
         "yaxis": "y"
        },
        {
         "alignmentgroup": "True",
         "hovertemplate": "=%{x}<br>Medals=%{y}<extra></extra>",
         "legendgroup": "Gymnastics",
         "marker": {
          "color": "#19d3f3",
          "pattern": {
           "shape": ""
          }
         },
         "name": "Gymnastics",
         "offsetgroup": "Gymnastics",
         "orientation": "v",
         "showlegend": true,
         "textposition": "auto",
         "type": "bar",
         "x": [
          "Gymnastics"
         ],
         "xaxis": "x",
         "y": [
          5
         ],
         "yaxis": "y"
        },
        {
         "alignmentgroup": "True",
         "hovertemplate": "=%{x}<br>Medals=%{y}<extra></extra>",
         "legendgroup": "Boxing",
         "marker": {
          "color": "#FF6692",
          "pattern": {
           "shape": ""
          }
         },
         "name": "Boxing",
         "offsetgroup": "Boxing",
         "orientation": "v",
         "showlegend": true,
         "textposition": "auto",
         "type": "bar",
         "x": [
          "Boxing"
         ],
         "xaxis": "x",
         "y": [
          5
         ],
         "yaxis": "y"
        },
        {
         "alignmentgroup": "True",
         "hovertemplate": "=%{x}<br>Medals=%{y}<extra></extra>",
         "legendgroup": "Cycling",
         "marker": {
          "color": "#B6E880",
          "pattern": {
           "shape": ""
          }
         },
         "name": "Cycling",
         "offsetgroup": "Cycling",
         "orientation": "v",
         "showlegend": true,
         "textposition": "auto",
         "type": "bar",
         "x": [
          "Cycling"
         ],
         "xaxis": "x",
         "y": [
          4
         ],
         "yaxis": "y"
        },
        {
         "alignmentgroup": "True",
         "hovertemplate": "=%{x}<br>Medals=%{y}<extra></extra>",
         "legendgroup": "Snowboarding",
         "marker": {
          "color": "#FF97FF",
          "pattern": {
           "shape": ""
          }
         },
         "name": "Snowboarding",
         "offsetgroup": "Snowboarding",
         "orientation": "v",
         "showlegend": true,
         "textposition": "auto",
         "type": "bar",
         "x": [
          "Snowboarding"
         ],
         "xaxis": "x",
         "y": [
          4
         ],
         "yaxis": "y"
        },
        {
         "alignmentgroup": "True",
         "hovertemplate": "=%{x}<br>Medals=%{y}<extra></extra>",
         "legendgroup": "Curling",
         "marker": {
          "color": "#FECB52",
          "pattern": {
           "shape": ""
          }
         },
         "name": "Curling",
         "offsetgroup": "Curling",
         "orientation": "v",
         "showlegend": true,
         "textposition": "auto",
         "type": "bar",
         "x": [
          "Curling"
         ],
         "xaxis": "x",
         "y": [
          3
         ],
         "yaxis": "y"
        },
        {
         "alignmentgroup": "True",
         "hovertemplate": "=%{x}<br>Medals=%{y}<extra></extra>",
         "legendgroup": "Football",
         "marker": {
          "color": "#636efa",
          "pattern": {
           "shape": ""
          }
         },
         "name": "Football",
         "offsetgroup": "Football",
         "orientation": "v",
         "showlegend": true,
         "textposition": "auto",
         "type": "bar",
         "x": [
          "Football"
         ],
         "xaxis": "x",
         "y": [
          3
         ],
         "yaxis": "y"
        },
        {
         "alignmentgroup": "True",
         "hovertemplate": "=%{x}<br>Medals=%{y}<extra></extra>",
         "legendgroup": "Swimming",
         "marker": {
          "color": "#EF553B",
          "pattern": {
           "shape": ""
          }
         },
         "name": "Swimming",
         "offsetgroup": "Swimming",
         "orientation": "v",
         "showlegend": true,
         "textposition": "auto",
         "type": "bar",
         "x": [
          "Swimming"
         ],
         "xaxis": "x",
         "y": [
          2
         ],
         "yaxis": "y"
        },
        {
         "alignmentgroup": "True",
         "hovertemplate": "=%{x}<br>Medals=%{y}<extra></extra>",
         "legendgroup": "Taekwondo",
         "marker": {
          "color": "#00cc96",
          "pattern": {
           "shape": ""
          }
         },
         "name": "Taekwondo",
         "offsetgroup": "Taekwondo",
         "orientation": "v",
         "showlegend": true,
         "textposition": "auto",
         "type": "bar",
         "x": [
          "Taekwondo"
         ],
         "xaxis": "x",
         "y": [
          2
         ],
         "yaxis": "y"
        },
        {
         "alignmentgroup": "True",
         "hovertemplate": "=%{x}<br>Medals=%{y}<extra></extra>",
         "legendgroup": "Art Competitions",
         "marker": {
          "color": "#ab63fa",
          "pattern": {
           "shape": ""
          }
         },
         "name": "Art Competitions",
         "offsetgroup": "Art Competitions",
         "orientation": "v",
         "showlegend": true,
         "textposition": "auto",
         "type": "bar",
         "x": [
          "Art Competitions"
         ],
         "xaxis": "x",
         "y": [
          1
         ],
         "yaxis": "y"
        },
        {
         "alignmentgroup": "True",
         "hovertemplate": "=%{x}<br>Medals=%{y}<extra></extra>",
         "legendgroup": "Fencing",
         "marker": {
          "color": "#FFA15A",
          "pattern": {
           "shape": ""
          }
         },
         "name": "Fencing",
         "offsetgroup": "Fencing",
         "orientation": "v",
         "showlegend": true,
         "textposition": "auto",
         "type": "bar",
         "x": [
          "Fencing"
         ],
         "xaxis": "x",
         "y": [
          1
         ],
         "yaxis": "y"
        },
        {
         "alignmentgroup": "True",
         "hovertemplate": "=%{x}<br>Medals=%{y}<extra></extra>",
         "legendgroup": "Equestrianism",
         "marker": {
          "color": "#19d3f3",
          "pattern": {
           "shape": ""
          }
         },
         "name": "Equestrianism",
         "offsetgroup": "Equestrianism",
         "orientation": "v",
         "showlegend": true,
         "textposition": "auto",
         "type": "bar",
         "x": [
          "Equestrianism"
         ],
         "xaxis": "x",
         "y": [
          1
         ],
         "yaxis": "y"
        },
        {
         "alignmentgroup": "True",
         "hovertemplate": "=%{x}<br>Medals=%{y}<extra></extra>",
         "legendgroup": "Tennis",
         "marker": {
          "color": "#FF6692",
          "pattern": {
           "shape": ""
          }
         },
         "name": "Tennis",
         "offsetgroup": "Tennis",
         "orientation": "v",
         "showlegend": true,
         "textposition": "auto",
         "type": "bar",
         "x": [
          "Tennis"
         ],
         "xaxis": "x",
         "y": [
          1
         ],
         "yaxis": "y"
        },
        {
         "alignmentgroup": "True",
         "hovertemplate": "=%{x}<br>Medals=%{y}<extra></extra>",
         "legendgroup": "Weightlifting",
         "marker": {
          "color": "#B6E880",
          "pattern": {
           "shape": ""
          }
         },
         "name": "Weightlifting",
         "offsetgroup": "Weightlifting",
         "orientation": "v",
         "showlegend": true,
         "textposition": "auto",
         "type": "bar",
         "x": [
          "Weightlifting"
         ],
         "xaxis": "x",
         "y": [
          1
         ],
         "yaxis": "y"
        }
       ],
       "layout": {
        "barmode": "relative",
        "legend": {
         "title": {
          "text": ""
         },
         "tracegroupgap": 0
        },
        "template": {
         "data": {
          "bar": [
           {
            "error_x": {
             "color": "#2a3f5f"
            },
            "error_y": {
             "color": "#2a3f5f"
            },
            "marker": {
             "line": {
              "color": "#E5ECF6",
              "width": 0.5
             },
             "pattern": {
              "fillmode": "overlay",
              "size": 10,
              "solidity": 0.2
             }
            },
            "type": "bar"
           }
          ],
          "barpolar": [
           {
            "marker": {
             "line": {
              "color": "#E5ECF6",
              "width": 0.5
             },
             "pattern": {
              "fillmode": "overlay",
              "size": 10,
              "solidity": 0.2
             }
            },
            "type": "barpolar"
           }
          ],
          "carpet": [
           {
            "aaxis": {
             "endlinecolor": "#2a3f5f",
             "gridcolor": "white",
             "linecolor": "white",
             "minorgridcolor": "white",
             "startlinecolor": "#2a3f5f"
            },
            "baxis": {
             "endlinecolor": "#2a3f5f",
             "gridcolor": "white",
             "linecolor": "white",
             "minorgridcolor": "white",
             "startlinecolor": "#2a3f5f"
            },
            "type": "carpet"
           }
          ],
          "choropleth": [
           {
            "colorbar": {
             "outlinewidth": 0,
             "ticks": ""
            },
            "type": "choropleth"
           }
          ],
          "contour": [
           {
            "colorbar": {
             "outlinewidth": 0,
             "ticks": ""
            },
            "colorscale": [
             [
              0,
              "#0d0887"
             ],
             [
              0.1111111111111111,
              "#46039f"
             ],
             [
              0.2222222222222222,
              "#7201a8"
             ],
             [
              0.3333333333333333,
              "#9c179e"
             ],
             [
              0.4444444444444444,
              "#bd3786"
             ],
             [
              0.5555555555555556,
              "#d8576b"
             ],
             [
              0.6666666666666666,
              "#ed7953"
             ],
             [
              0.7777777777777778,
              "#fb9f3a"
             ],
             [
              0.8888888888888888,
              "#fdca26"
             ],
             [
              1,
              "#f0f921"
             ]
            ],
            "type": "contour"
           }
          ],
          "contourcarpet": [
           {
            "colorbar": {
             "outlinewidth": 0,
             "ticks": ""
            },
            "type": "contourcarpet"
           }
          ],
          "heatmap": [
           {
            "colorbar": {
             "outlinewidth": 0,
             "ticks": ""
            },
            "colorscale": [
             [
              0,
              "#0d0887"
             ],
             [
              0.1111111111111111,
              "#46039f"
             ],
             [
              0.2222222222222222,
              "#7201a8"
             ],
             [
              0.3333333333333333,
              "#9c179e"
             ],
             [
              0.4444444444444444,
              "#bd3786"
             ],
             [
              0.5555555555555556,
              "#d8576b"
             ],
             [
              0.6666666666666666,
              "#ed7953"
             ],
             [
              0.7777777777777778,
              "#fb9f3a"
             ],
             [
              0.8888888888888888,
              "#fdca26"
             ],
             [
              1,
              "#f0f921"
             ]
            ],
            "type": "heatmap"
           }
          ],
          "heatmapgl": [
           {
            "colorbar": {
             "outlinewidth": 0,
             "ticks": ""
            },
            "colorscale": [
             [
              0,
              "#0d0887"
             ],
             [
              0.1111111111111111,
              "#46039f"
             ],
             [
              0.2222222222222222,
              "#7201a8"
             ],
             [
              0.3333333333333333,
              "#9c179e"
             ],
             [
              0.4444444444444444,
              "#bd3786"
             ],
             [
              0.5555555555555556,
              "#d8576b"
             ],
             [
              0.6666666666666666,
              "#ed7953"
             ],
             [
              0.7777777777777778,
              "#fb9f3a"
             ],
             [
              0.8888888888888888,
              "#fdca26"
             ],
             [
              1,
              "#f0f921"
             ]
            ],
            "type": "heatmapgl"
           }
          ],
          "histogram": [
           {
            "marker": {
             "pattern": {
              "fillmode": "overlay",
              "size": 10,
              "solidity": 0.2
             }
            },
            "type": "histogram"
           }
          ],
          "histogram2d": [
           {
            "colorbar": {
             "outlinewidth": 0,
             "ticks": ""
            },
            "colorscale": [
             [
              0,
              "#0d0887"
             ],
             [
              0.1111111111111111,
              "#46039f"
             ],
             [
              0.2222222222222222,
              "#7201a8"
             ],
             [
              0.3333333333333333,
              "#9c179e"
             ],
             [
              0.4444444444444444,
              "#bd3786"
             ],
             [
              0.5555555555555556,
              "#d8576b"
             ],
             [
              0.6666666666666666,
              "#ed7953"
             ],
             [
              0.7777777777777778,
              "#fb9f3a"
             ],
             [
              0.8888888888888888,
              "#fdca26"
             ],
             [
              1,
              "#f0f921"
             ]
            ],
            "type": "histogram2d"
           }
          ],
          "histogram2dcontour": [
           {
            "colorbar": {
             "outlinewidth": 0,
             "ticks": ""
            },
            "colorscale": [
             [
              0,
              "#0d0887"
             ],
             [
              0.1111111111111111,
              "#46039f"
             ],
             [
              0.2222222222222222,
              "#7201a8"
             ],
             [
              0.3333333333333333,
              "#9c179e"
             ],
             [
              0.4444444444444444,
              "#bd3786"
             ],
             [
              0.5555555555555556,
              "#d8576b"
             ],
             [
              0.6666666666666666,
              "#ed7953"
             ],
             [
              0.7777777777777778,
              "#fb9f3a"
             ],
             [
              0.8888888888888888,
              "#fdca26"
             ],
             [
              1,
              "#f0f921"
             ]
            ],
            "type": "histogram2dcontour"
           }
          ],
          "mesh3d": [
           {
            "colorbar": {
             "outlinewidth": 0,
             "ticks": ""
            },
            "type": "mesh3d"
           }
          ],
          "parcoords": [
           {
            "line": {
             "colorbar": {
              "outlinewidth": 0,
              "ticks": ""
             }
            },
            "type": "parcoords"
           }
          ],
          "pie": [
           {
            "automargin": true,
            "type": "pie"
           }
          ],
          "scatter": [
           {
            "fillpattern": {
             "fillmode": "overlay",
             "size": 10,
             "solidity": 0.2
            },
            "type": "scatter"
           }
          ],
          "scatter3d": [
           {
            "line": {
             "colorbar": {
              "outlinewidth": 0,
              "ticks": ""
             }
            },
            "marker": {
             "colorbar": {
              "outlinewidth": 0,
              "ticks": ""
             }
            },
            "type": "scatter3d"
           }
          ],
          "scattercarpet": [
           {
            "marker": {
             "colorbar": {
              "outlinewidth": 0,
              "ticks": ""
             }
            },
            "type": "scattercarpet"
           }
          ],
          "scattergeo": [
           {
            "marker": {
             "colorbar": {
              "outlinewidth": 0,
              "ticks": ""
             }
            },
            "type": "scattergeo"
           }
          ],
          "scattergl": [
           {
            "marker": {
             "colorbar": {
              "outlinewidth": 0,
              "ticks": ""
             }
            },
            "type": "scattergl"
           }
          ],
          "scattermapbox": [
           {
            "marker": {
             "colorbar": {
              "outlinewidth": 0,
              "ticks": ""
             }
            },
            "type": "scattermapbox"
           }
          ],
          "scatterpolar": [
           {
            "marker": {
             "colorbar": {
              "outlinewidth": 0,
              "ticks": ""
             }
            },
            "type": "scatterpolar"
           }
          ],
          "scatterpolargl": [
           {
            "marker": {
             "colorbar": {
              "outlinewidth": 0,
              "ticks": ""
             }
            },
            "type": "scatterpolargl"
           }
          ],
          "scatterternary": [
           {
            "marker": {
             "colorbar": {
              "outlinewidth": 0,
              "ticks": ""
             }
            },
            "type": "scatterternary"
           }
          ],
          "surface": [
           {
            "colorbar": {
             "outlinewidth": 0,
             "ticks": ""
            },
            "colorscale": [
             [
              0,
              "#0d0887"
             ],
             [
              0.1111111111111111,
              "#46039f"
             ],
             [
              0.2222222222222222,
              "#7201a8"
             ],
             [
              0.3333333333333333,
              "#9c179e"
             ],
             [
              0.4444444444444444,
              "#bd3786"
             ],
             [
              0.5555555555555556,
              "#d8576b"
             ],
             [
              0.6666666666666666,
              "#ed7953"
             ],
             [
              0.7777777777777778,
              "#fb9f3a"
             ],
             [
              0.8888888888888888,
              "#fdca26"
             ],
             [
              1,
              "#f0f921"
             ]
            ],
            "type": "surface"
           }
          ],
          "table": [
           {
            "cells": {
             "fill": {
              "color": "#EBF0F8"
             },
             "line": {
              "color": "white"
             }
            },
            "header": {
             "fill": {
              "color": "#C8D4E3"
             },
             "line": {
              "color": "white"
             }
            },
            "type": "table"
           }
          ]
         },
         "layout": {
          "annotationdefaults": {
           "arrowcolor": "#2a3f5f",
           "arrowhead": 0,
           "arrowwidth": 1
          },
          "autotypenumbers": "strict",
          "coloraxis": {
           "colorbar": {
            "outlinewidth": 0,
            "ticks": ""
           }
          },
          "colorscale": {
           "diverging": [
            [
             0,
             "#8e0152"
            ],
            [
             0.1,
             "#c51b7d"
            ],
            [
             0.2,
             "#de77ae"
            ],
            [
             0.3,
             "#f1b6da"
            ],
            [
             0.4,
             "#fde0ef"
            ],
            [
             0.5,
             "#f7f7f7"
            ],
            [
             0.6,
             "#e6f5d0"
            ],
            [
             0.7,
             "#b8e186"
            ],
            [
             0.8,
             "#7fbc41"
            ],
            [
             0.9,
             "#4d9221"
            ],
            [
             1,
             "#276419"
            ]
           ],
           "sequential": [
            [
             0,
             "#0d0887"
            ],
            [
             0.1111111111111111,
             "#46039f"
            ],
            [
             0.2222222222222222,
             "#7201a8"
            ],
            [
             0.3333333333333333,
             "#9c179e"
            ],
            [
             0.4444444444444444,
             "#bd3786"
            ],
            [
             0.5555555555555556,
             "#d8576b"
            ],
            [
             0.6666666666666666,
             "#ed7953"
            ],
            [
             0.7777777777777778,
             "#fb9f3a"
            ],
            [
             0.8888888888888888,
             "#fdca26"
            ],
            [
             1,
             "#f0f921"
            ]
           ],
           "sequentialminus": [
            [
             0,
             "#0d0887"
            ],
            [
             0.1111111111111111,
             "#46039f"
            ],
            [
             0.2222222222222222,
             "#7201a8"
            ],
            [
             0.3333333333333333,
             "#9c179e"
            ],
            [
             0.4444444444444444,
             "#bd3786"
            ],
            [
             0.5555555555555556,
             "#d8576b"
            ],
            [
             0.6666666666666666,
             "#ed7953"
            ],
            [
             0.7777777777777778,
             "#fb9f3a"
            ],
            [
             0.8888888888888888,
             "#fdca26"
            ],
            [
             1,
             "#f0f921"
            ]
           ]
          },
          "colorway": [
           "#636efa",
           "#EF553B",
           "#00cc96",
           "#ab63fa",
           "#FFA15A",
           "#19d3f3",
           "#FF6692",
           "#B6E880",
           "#FF97FF",
           "#FECB52"
          ],
          "font": {
           "color": "#2a3f5f"
          },
          "geo": {
           "bgcolor": "white",
           "lakecolor": "white",
           "landcolor": "#E5ECF6",
           "showlakes": true,
           "showland": true,
           "subunitcolor": "white"
          },
          "hoverlabel": {
           "align": "left"
          },
          "hovermode": "closest",
          "mapbox": {
           "style": "light"
          },
          "paper_bgcolor": "white",
          "plot_bgcolor": "#E5ECF6",
          "polar": {
           "angularaxis": {
            "gridcolor": "white",
            "linecolor": "white",
            "ticks": ""
           },
           "bgcolor": "#E5ECF6",
           "radialaxis": {
            "gridcolor": "white",
            "linecolor": "white",
            "ticks": ""
           }
          },
          "scene": {
           "xaxis": {
            "backgroundcolor": "#E5ECF6",
            "gridcolor": "white",
            "gridwidth": 2,
            "linecolor": "white",
            "showbackground": true,
            "ticks": "",
            "zerolinecolor": "white"
           },
           "yaxis": {
            "backgroundcolor": "#E5ECF6",
            "gridcolor": "white",
            "gridwidth": 2,
            "linecolor": "white",
            "showbackground": true,
            "ticks": "",
            "zerolinecolor": "white"
           },
           "zaxis": {
            "backgroundcolor": "#E5ECF6",
            "gridcolor": "white",
            "gridwidth": 2,
            "linecolor": "white",
            "showbackground": true,
            "ticks": "",
            "zerolinecolor": "white"
           }
          },
          "shapedefaults": {
           "line": {
            "color": "#2a3f5f"
           }
          },
          "ternary": {
           "aaxis": {
            "gridcolor": "white",
            "linecolor": "white",
            "ticks": ""
           },
           "baxis": {
            "gridcolor": "white",
            "linecolor": "white",
            "ticks": ""
           },
           "bgcolor": "#E5ECF6",
           "caxis": {
            "gridcolor": "white",
            "linecolor": "white",
            "ticks": ""
           }
          },
          "title": {
           "x": 0.05
          },
          "xaxis": {
           "automargin": true,
           "gridcolor": "white",
           "linecolor": "white",
           "ticks": "",
           "title": {
            "standoff": 15
           },
           "zerolinecolor": "white",
           "zerolinewidth": 2
          },
          "yaxis": {
           "automargin": true,
           "gridcolor": "white",
           "linecolor": "white",
           "ticks": "",
           "title": {
            "standoff": 15
           },
           "zerolinecolor": "white",
           "zerolinewidth": 2
          }
         }
        },
        "title": {
         "text": "Norwegian Olympic medals by sport"
        },
        "xaxis": {
         "anchor": "y",
         "categoryarray": [
          "Cross Country Skiing",
          "Speed Skating",
          "Biathlon",
          "Shooting",
          "Sailing",
          "Nordic Combined",
          "Ski Jumping",
          "Alpine Skiing",
          "Athletics",
          "Rowing",
          "Canoeing",
          "Freestyle Skiing",
          "Wrestling",
          "Handball",
          "Figure Skating",
          "Gymnastics",
          "Boxing",
          "Cycling",
          "Snowboarding",
          "Curling",
          "Football",
          "Swimming",
          "Taekwondo",
          "Art Competitions",
          "Fencing",
          "Equestrianism",
          "Tennis",
          "Weightlifting"
         ],
         "categoryorder": "array",
         "domain": [
          0,
          1
         ],
         "tickangle": -90,
         "title": {
          "text": ""
         }
        },
        "yaxis": {
         "anchor": "x",
         "domain": [
          0,
          1
         ],
         "title": {
          "text": "Medals"
         }
        }
       }
      }
     },
     "metadata": {},
     "output_type": "display_data"
    },
    {
     "data": {
      "application/vnd.plotly.v1+json": {
       "config": {
        "plotlyServerURL": "https://plot.ly"
       },
       "data": [
        {
         "alignmentgroup": "True",
         "hovertemplate": "=%{x}<br>Medals=%{y}<extra></extra>",
         "legendgroup": "Cross Country Skiing",
         "marker": {
          "color": "#636efa",
          "pattern": {
           "shape": ""
          }
         },
         "name": "Cross Country Skiing",
         "offsetgroup": "Cross Country Skiing",
         "orientation": "v",
         "showlegend": true,
         "textposition": "auto",
         "type": "bar",
         "x": [
          "Cross Country Skiing"
         ],
         "xaxis": "x",
         "y": [
          36
         ],
         "yaxis": "y"
        },
        {
         "alignmentgroup": "True",
         "hovertemplate": "=%{x}<br>Medals=%{y}<extra></extra>",
         "legendgroup": "Biathlon",
         "marker": {
          "color": "#EF553B",
          "pattern": {
           "shape": ""
          }
         },
         "name": "Biathlon",
         "offsetgroup": "Biathlon",
         "orientation": "v",
         "showlegend": true,
         "textposition": "auto",
         "type": "bar",
         "x": [
          "Biathlon"
         ],
         "xaxis": "x",
         "y": [
          8
         ],
         "yaxis": "y"
        },
        {
         "alignmentgroup": "True",
         "hovertemplate": "=%{x}<br>Medals=%{y}<extra></extra>",
         "legendgroup": "Freestyle Skiing",
         "marker": {
          "color": "#00cc96",
          "pattern": {
           "shape": ""
          }
         },
         "name": "Freestyle Skiing",
         "offsetgroup": "Freestyle Skiing",
         "orientation": "v",
         "showlegend": true,
         "textposition": "auto",
         "type": "bar",
         "x": [
          "Freestyle Skiing"
         ],
         "xaxis": "x",
         "y": [
          7
         ],
         "yaxis": "y"
        },
        {
         "alignmentgroup": "True",
         "hovertemplate": "=%{x}<br>Medals=%{y}<extra></extra>",
         "legendgroup": "Handball",
         "marker": {
          "color": "#ab63fa",
          "pattern": {
           "shape": ""
          }
         },
         "name": "Handball",
         "offsetgroup": "Handball",
         "orientation": "v",
         "showlegend": true,
         "textposition": "auto",
         "type": "bar",
         "x": [
          "Handball"
         ],
         "xaxis": "x",
         "y": [
          6
         ],
         "yaxis": "y"
        },
        {
         "alignmentgroup": "True",
         "hovertemplate": "=%{x}<br>Medals=%{y}<extra></extra>",
         "legendgroup": "Athletics",
         "marker": {
          "color": "#FFA15A",
          "pattern": {
           "shape": ""
          }
         },
         "name": "Athletics",
         "offsetgroup": "Athletics",
         "orientation": "v",
         "showlegend": true,
         "textposition": "auto",
         "type": "bar",
         "x": [
          "Athletics"
         ],
         "xaxis": "x",
         "y": [
          5
         ],
         "yaxis": "y"
        },
        {
         "alignmentgroup": "True",
         "hovertemplate": "=%{x}<br>Medals=%{y}<extra></extra>",
         "legendgroup": "Figure Skating",
         "marker": {
          "color": "#19d3f3",
          "pattern": {
           "shape": ""
          }
         },
         "name": "Figure Skating",
         "offsetgroup": "Figure Skating",
         "orientation": "v",
         "showlegend": true,
         "textposition": "auto",
         "type": "bar",
         "x": [
          "Figure Skating"
         ],
         "xaxis": "x",
         "y": [
          4
         ],
         "yaxis": "y"
        },
        {
         "alignmentgroup": "True",
         "hovertemplate": "=%{x}<br>Medals=%{y}<extra></extra>",
         "legendgroup": "Sailing",
         "marker": {
          "color": "#FF6692",
          "pattern": {
           "shape": ""
          }
         },
         "name": "Sailing",
         "offsetgroup": "Sailing",
         "orientation": "v",
         "showlegend": true,
         "textposition": "auto",
         "type": "bar",
         "x": [
          "Sailing"
         ],
         "xaxis": "x",
         "y": [
          3
         ],
         "yaxis": "y"
        },
        {
         "alignmentgroup": "True",
         "hovertemplate": "=%{x}<br>Medals=%{y}<extra></extra>",
         "legendgroup": "Speed Skating",
         "marker": {
          "color": "#B6E880",
          "pattern": {
           "shape": ""
          }
         },
         "name": "Speed Skating",
         "offsetgroup": "Speed Skating",
         "orientation": "v",
         "showlegend": true,
         "textposition": "auto",
         "type": "bar",
         "x": [
          "Speed Skating"
         ],
         "xaxis": "x",
         "y": [
          2
         ],
         "yaxis": "y"
        },
        {
         "alignmentgroup": "True",
         "hovertemplate": "=%{x}<br>Medals=%{y}<extra></extra>",
         "legendgroup": "Taekwondo",
         "marker": {
          "color": "#FF97FF",
          "pattern": {
           "shape": ""
          }
         },
         "name": "Taekwondo",
         "offsetgroup": "Taekwondo",
         "orientation": "v",
         "showlegend": true,
         "textposition": "auto",
         "type": "bar",
         "x": [
          "Taekwondo"
         ],
         "xaxis": "x",
         "y": [
          2
         ],
         "yaxis": "y"
        },
        {
         "alignmentgroup": "True",
         "hovertemplate": "=%{x}<br>Medals=%{y}<extra></extra>",
         "legendgroup": "Football",
         "marker": {
          "color": "#FECB52",
          "pattern": {
           "shape": ""
          }
         },
         "name": "Football",
         "offsetgroup": "Football",
         "orientation": "v",
         "showlegend": true,
         "textposition": "auto",
         "type": "bar",
         "x": [
          "Football"
         ],
         "xaxis": "x",
         "y": [
          2
         ],
         "yaxis": "y"
        },
        {
         "alignmentgroup": "True",
         "hovertemplate": "=%{x}<br>Medals=%{y}<extra></extra>",
         "legendgroup": "Snowboarding",
         "marker": {
          "color": "#636efa",
          "pattern": {
           "shape": ""
          }
         },
         "name": "Snowboarding",
         "offsetgroup": "Snowboarding",
         "orientation": "v",
         "showlegend": true,
         "textposition": "auto",
         "type": "bar",
         "x": [
          "Snowboarding"
         ],
         "xaxis": "x",
         "y": [
          2
         ],
         "yaxis": "y"
        },
        {
         "alignmentgroup": "True",
         "hovertemplate": "=%{x}<br>Medals=%{y}<extra></extra>",
         "legendgroup": "Cycling",
         "marker": {
          "color": "#EF553B",
          "pattern": {
           "shape": ""
          }
         },
         "name": "Cycling",
         "offsetgroup": "Cycling",
         "orientation": "v",
         "showlegend": true,
         "textposition": "auto",
         "type": "bar",
         "x": [
          "Cycling"
         ],
         "xaxis": "x",
         "y": [
          1
         ],
         "yaxis": "y"
        },
        {
         "alignmentgroup": "True",
         "hovertemplate": "=%{x}<br>Medals=%{y}<extra></extra>",
         "legendgroup": "Alpine Skiing",
         "marker": {
          "color": "#00cc96",
          "pattern": {
           "shape": ""
          }
         },
         "name": "Alpine Skiing",
         "offsetgroup": "Alpine Skiing",
         "orientation": "v",
         "showlegend": true,
         "textposition": "auto",
         "type": "bar",
         "x": [
          "Alpine Skiing"
         ],
         "xaxis": "x",
         "y": [
          1
         ],
         "yaxis": "y"
        },
        {
         "alignmentgroup": "True",
         "hovertemplate": "=%{x}<br>Medals=%{y}<extra></extra>",
         "legendgroup": "Swimming",
         "marker": {
          "color": "#ab63fa",
          "pattern": {
           "shape": ""
          }
         },
         "name": "Swimming",
         "offsetgroup": "Swimming",
         "orientation": "v",
         "showlegend": true,
         "textposition": "auto",
         "type": "bar",
         "x": [
          "Swimming"
         ],
         "xaxis": "x",
         "y": [
          1
         ],
         "yaxis": "y"
        },
        {
         "alignmentgroup": "True",
         "hovertemplate": "=%{x}<br>Medals=%{y}<extra></extra>",
         "legendgroup": "Tennis",
         "marker": {
          "color": "#FFA15A",
          "pattern": {
           "shape": ""
          }
         },
         "name": "Tennis",
         "offsetgroup": "Tennis",
         "orientation": "v",
         "showlegend": true,
         "textposition": "auto",
         "type": "bar",
         "x": [
          "Tennis"
         ],
         "xaxis": "x",
         "y": [
          1
         ],
         "yaxis": "y"
        }
       ],
       "layout": {
        "barmode": "relative",
        "legend": {
         "title": {
          "text": ""
         },
         "tracegroupgap": 0
        },
        "template": {
         "data": {
          "bar": [
           {
            "error_x": {
             "color": "#2a3f5f"
            },
            "error_y": {
             "color": "#2a3f5f"
            },
            "marker": {
             "line": {
              "color": "#E5ECF6",
              "width": 0.5
             },
             "pattern": {
              "fillmode": "overlay",
              "size": 10,
              "solidity": 0.2
             }
            },
            "type": "bar"
           }
          ],
          "barpolar": [
           {
            "marker": {
             "line": {
              "color": "#E5ECF6",
              "width": 0.5
             },
             "pattern": {
              "fillmode": "overlay",
              "size": 10,
              "solidity": 0.2
             }
            },
            "type": "barpolar"
           }
          ],
          "carpet": [
           {
            "aaxis": {
             "endlinecolor": "#2a3f5f",
             "gridcolor": "white",
             "linecolor": "white",
             "minorgridcolor": "white",
             "startlinecolor": "#2a3f5f"
            },
            "baxis": {
             "endlinecolor": "#2a3f5f",
             "gridcolor": "white",
             "linecolor": "white",
             "minorgridcolor": "white",
             "startlinecolor": "#2a3f5f"
            },
            "type": "carpet"
           }
          ],
          "choropleth": [
           {
            "colorbar": {
             "outlinewidth": 0,
             "ticks": ""
            },
            "type": "choropleth"
           }
          ],
          "contour": [
           {
            "colorbar": {
             "outlinewidth": 0,
             "ticks": ""
            },
            "colorscale": [
             [
              0,
              "#0d0887"
             ],
             [
              0.1111111111111111,
              "#46039f"
             ],
             [
              0.2222222222222222,
              "#7201a8"
             ],
             [
              0.3333333333333333,
              "#9c179e"
             ],
             [
              0.4444444444444444,
              "#bd3786"
             ],
             [
              0.5555555555555556,
              "#d8576b"
             ],
             [
              0.6666666666666666,
              "#ed7953"
             ],
             [
              0.7777777777777778,
              "#fb9f3a"
             ],
             [
              0.8888888888888888,
              "#fdca26"
             ],
             [
              1,
              "#f0f921"
             ]
            ],
            "type": "contour"
           }
          ],
          "contourcarpet": [
           {
            "colorbar": {
             "outlinewidth": 0,
             "ticks": ""
            },
            "type": "contourcarpet"
           }
          ],
          "heatmap": [
           {
            "colorbar": {
             "outlinewidth": 0,
             "ticks": ""
            },
            "colorscale": [
             [
              0,
              "#0d0887"
             ],
             [
              0.1111111111111111,
              "#46039f"
             ],
             [
              0.2222222222222222,
              "#7201a8"
             ],
             [
              0.3333333333333333,
              "#9c179e"
             ],
             [
              0.4444444444444444,
              "#bd3786"
             ],
             [
              0.5555555555555556,
              "#d8576b"
             ],
             [
              0.6666666666666666,
              "#ed7953"
             ],
             [
              0.7777777777777778,
              "#fb9f3a"
             ],
             [
              0.8888888888888888,
              "#fdca26"
             ],
             [
              1,
              "#f0f921"
             ]
            ],
            "type": "heatmap"
           }
          ],
          "heatmapgl": [
           {
            "colorbar": {
             "outlinewidth": 0,
             "ticks": ""
            },
            "colorscale": [
             [
              0,
              "#0d0887"
             ],
             [
              0.1111111111111111,
              "#46039f"
             ],
             [
              0.2222222222222222,
              "#7201a8"
             ],
             [
              0.3333333333333333,
              "#9c179e"
             ],
             [
              0.4444444444444444,
              "#bd3786"
             ],
             [
              0.5555555555555556,
              "#d8576b"
             ],
             [
              0.6666666666666666,
              "#ed7953"
             ],
             [
              0.7777777777777778,
              "#fb9f3a"
             ],
             [
              0.8888888888888888,
              "#fdca26"
             ],
             [
              1,
              "#f0f921"
             ]
            ],
            "type": "heatmapgl"
           }
          ],
          "histogram": [
           {
            "marker": {
             "pattern": {
              "fillmode": "overlay",
              "size": 10,
              "solidity": 0.2
             }
            },
            "type": "histogram"
           }
          ],
          "histogram2d": [
           {
            "colorbar": {
             "outlinewidth": 0,
             "ticks": ""
            },
            "colorscale": [
             [
              0,
              "#0d0887"
             ],
             [
              0.1111111111111111,
              "#46039f"
             ],
             [
              0.2222222222222222,
              "#7201a8"
             ],
             [
              0.3333333333333333,
              "#9c179e"
             ],
             [
              0.4444444444444444,
              "#bd3786"
             ],
             [
              0.5555555555555556,
              "#d8576b"
             ],
             [
              0.6666666666666666,
              "#ed7953"
             ],
             [
              0.7777777777777778,
              "#fb9f3a"
             ],
             [
              0.8888888888888888,
              "#fdca26"
             ],
             [
              1,
              "#f0f921"
             ]
            ],
            "type": "histogram2d"
           }
          ],
          "histogram2dcontour": [
           {
            "colorbar": {
             "outlinewidth": 0,
             "ticks": ""
            },
            "colorscale": [
             [
              0,
              "#0d0887"
             ],
             [
              0.1111111111111111,
              "#46039f"
             ],
             [
              0.2222222222222222,
              "#7201a8"
             ],
             [
              0.3333333333333333,
              "#9c179e"
             ],
             [
              0.4444444444444444,
              "#bd3786"
             ],
             [
              0.5555555555555556,
              "#d8576b"
             ],
             [
              0.6666666666666666,
              "#ed7953"
             ],
             [
              0.7777777777777778,
              "#fb9f3a"
             ],
             [
              0.8888888888888888,
              "#fdca26"
             ],
             [
              1,
              "#f0f921"
             ]
            ],
            "type": "histogram2dcontour"
           }
          ],
          "mesh3d": [
           {
            "colorbar": {
             "outlinewidth": 0,
             "ticks": ""
            },
            "type": "mesh3d"
           }
          ],
          "parcoords": [
           {
            "line": {
             "colorbar": {
              "outlinewidth": 0,
              "ticks": ""
             }
            },
            "type": "parcoords"
           }
          ],
          "pie": [
           {
            "automargin": true,
            "type": "pie"
           }
          ],
          "scatter": [
           {
            "fillpattern": {
             "fillmode": "overlay",
             "size": 10,
             "solidity": 0.2
            },
            "type": "scatter"
           }
          ],
          "scatter3d": [
           {
            "line": {
             "colorbar": {
              "outlinewidth": 0,
              "ticks": ""
             }
            },
            "marker": {
             "colorbar": {
              "outlinewidth": 0,
              "ticks": ""
             }
            },
            "type": "scatter3d"
           }
          ],
          "scattercarpet": [
           {
            "marker": {
             "colorbar": {
              "outlinewidth": 0,
              "ticks": ""
             }
            },
            "type": "scattercarpet"
           }
          ],
          "scattergeo": [
           {
            "marker": {
             "colorbar": {
              "outlinewidth": 0,
              "ticks": ""
             }
            },
            "type": "scattergeo"
           }
          ],
          "scattergl": [
           {
            "marker": {
             "colorbar": {
              "outlinewidth": 0,
              "ticks": ""
             }
            },
            "type": "scattergl"
           }
          ],
          "scattermapbox": [
           {
            "marker": {
             "colorbar": {
              "outlinewidth": 0,
              "ticks": ""
             }
            },
            "type": "scattermapbox"
           }
          ],
          "scatterpolar": [
           {
            "marker": {
             "colorbar": {
              "outlinewidth": 0,
              "ticks": ""
             }
            },
            "type": "scatterpolar"
           }
          ],
          "scatterpolargl": [
           {
            "marker": {
             "colorbar": {
              "outlinewidth": 0,
              "ticks": ""
             }
            },
            "type": "scatterpolargl"
           }
          ],
          "scatterternary": [
           {
            "marker": {
             "colorbar": {
              "outlinewidth": 0,
              "ticks": ""
             }
            },
            "type": "scatterternary"
           }
          ],
          "surface": [
           {
            "colorbar": {
             "outlinewidth": 0,
             "ticks": ""
            },
            "colorscale": [
             [
              0,
              "#0d0887"
             ],
             [
              0.1111111111111111,
              "#46039f"
             ],
             [
              0.2222222222222222,
              "#7201a8"
             ],
             [
              0.3333333333333333,
              "#9c179e"
             ],
             [
              0.4444444444444444,
              "#bd3786"
             ],
             [
              0.5555555555555556,
              "#d8576b"
             ],
             [
              0.6666666666666666,
              "#ed7953"
             ],
             [
              0.7777777777777778,
              "#fb9f3a"
             ],
             [
              0.8888888888888888,
              "#fdca26"
             ],
             [
              1,
              "#f0f921"
             ]
            ],
            "type": "surface"
           }
          ],
          "table": [
           {
            "cells": {
             "fill": {
              "color": "#EBF0F8"
             },
             "line": {
              "color": "white"
             }
            },
            "header": {
             "fill": {
              "color": "#C8D4E3"
             },
             "line": {
              "color": "white"
             }
            },
            "type": "table"
           }
          ]
         },
         "layout": {
          "annotationdefaults": {
           "arrowcolor": "#2a3f5f",
           "arrowhead": 0,
           "arrowwidth": 1
          },
          "autotypenumbers": "strict",
          "coloraxis": {
           "colorbar": {
            "outlinewidth": 0,
            "ticks": ""
           }
          },
          "colorscale": {
           "diverging": [
            [
             0,
             "#8e0152"
            ],
            [
             0.1,
             "#c51b7d"
            ],
            [
             0.2,
             "#de77ae"
            ],
            [
             0.3,
             "#f1b6da"
            ],
            [
             0.4,
             "#fde0ef"
            ],
            [
             0.5,
             "#f7f7f7"
            ],
            [
             0.6,
             "#e6f5d0"
            ],
            [
             0.7,
             "#b8e186"
            ],
            [
             0.8,
             "#7fbc41"
            ],
            [
             0.9,
             "#4d9221"
            ],
            [
             1,
             "#276419"
            ]
           ],
           "sequential": [
            [
             0,
             "#0d0887"
            ],
            [
             0.1111111111111111,
             "#46039f"
            ],
            [
             0.2222222222222222,
             "#7201a8"
            ],
            [
             0.3333333333333333,
             "#9c179e"
            ],
            [
             0.4444444444444444,
             "#bd3786"
            ],
            [
             0.5555555555555556,
             "#d8576b"
            ],
            [
             0.6666666666666666,
             "#ed7953"
            ],
            [
             0.7777777777777778,
             "#fb9f3a"
            ],
            [
             0.8888888888888888,
             "#fdca26"
            ],
            [
             1,
             "#f0f921"
            ]
           ],
           "sequentialminus": [
            [
             0,
             "#0d0887"
            ],
            [
             0.1111111111111111,
             "#46039f"
            ],
            [
             0.2222222222222222,
             "#7201a8"
            ],
            [
             0.3333333333333333,
             "#9c179e"
            ],
            [
             0.4444444444444444,
             "#bd3786"
            ],
            [
             0.5555555555555556,
             "#d8576b"
            ],
            [
             0.6666666666666666,
             "#ed7953"
            ],
            [
             0.7777777777777778,
             "#fb9f3a"
            ],
            [
             0.8888888888888888,
             "#fdca26"
            ],
            [
             1,
             "#f0f921"
            ]
           ]
          },
          "colorway": [
           "#636efa",
           "#EF553B",
           "#00cc96",
           "#ab63fa",
           "#FFA15A",
           "#19d3f3",
           "#FF6692",
           "#B6E880",
           "#FF97FF",
           "#FECB52"
          ],
          "font": {
           "color": "#2a3f5f"
          },
          "geo": {
           "bgcolor": "white",
           "lakecolor": "white",
           "landcolor": "#E5ECF6",
           "showlakes": true,
           "showland": true,
           "subunitcolor": "white"
          },
          "hoverlabel": {
           "align": "left"
          },
          "hovermode": "closest",
          "mapbox": {
           "style": "light"
          },
          "paper_bgcolor": "white",
          "plot_bgcolor": "#E5ECF6",
          "polar": {
           "angularaxis": {
            "gridcolor": "white",
            "linecolor": "white",
            "ticks": ""
           },
           "bgcolor": "#E5ECF6",
           "radialaxis": {
            "gridcolor": "white",
            "linecolor": "white",
            "ticks": ""
           }
          },
          "scene": {
           "xaxis": {
            "backgroundcolor": "#E5ECF6",
            "gridcolor": "white",
            "gridwidth": 2,
            "linecolor": "white",
            "showbackground": true,
            "ticks": "",
            "zerolinecolor": "white"
           },
           "yaxis": {
            "backgroundcolor": "#E5ECF6",
            "gridcolor": "white",
            "gridwidth": 2,
            "linecolor": "white",
            "showbackground": true,
            "ticks": "",
            "zerolinecolor": "white"
           },
           "zaxis": {
            "backgroundcolor": "#E5ECF6",
            "gridcolor": "white",
            "gridwidth": 2,
            "linecolor": "white",
            "showbackground": true,
            "ticks": "",
            "zerolinecolor": "white"
           }
          },
          "shapedefaults": {
           "line": {
            "color": "#2a3f5f"
           }
          },
          "ternary": {
           "aaxis": {
            "gridcolor": "white",
            "linecolor": "white",
            "ticks": ""
           },
           "baxis": {
            "gridcolor": "white",
            "linecolor": "white",
            "ticks": ""
           },
           "bgcolor": "#E5ECF6",
           "caxis": {
            "gridcolor": "white",
            "linecolor": "white",
            "ticks": ""
           }
          },
          "title": {
           "x": 0.05
          },
          "xaxis": {
           "automargin": true,
           "gridcolor": "white",
           "linecolor": "white",
           "ticks": "",
           "title": {
            "standoff": 15
           },
           "zerolinecolor": "white",
           "zerolinewidth": 2
          },
          "yaxis": {
           "automargin": true,
           "gridcolor": "white",
           "linecolor": "white",
           "ticks": "",
           "title": {
            "standoff": 15
           },
           "zerolinecolor": "white",
           "zerolinewidth": 2
          }
         }
        },
        "title": {
         "text": "Norwegian Olympic medals by sport for women"
        },
        "xaxis": {
         "anchor": "y",
         "categoryarray": [
          "Cross Country Skiing",
          "Biathlon",
          "Freestyle Skiing",
          "Handball",
          "Athletics",
          "Figure Skating",
          "Sailing",
          "Speed Skating",
          "Taekwondo",
          "Football",
          "Snowboarding",
          "Cycling",
          "Alpine Skiing",
          "Swimming",
          "Tennis"
         ],
         "categoryorder": "array",
         "domain": [
          0,
          1
         ],
         "tickangle": -90,
         "title": {
          "text": ""
         }
        },
        "yaxis": {
         "anchor": "x",
         "domain": [
          0,
          1
         ],
         "title": {
          "text": "Medals"
         }
        }
       }
      }
     },
     "metadata": {},
     "output_type": "display_data"
    },
    {
     "data": {
      "application/vnd.plotly.v1+json": {
       "config": {
        "plotlyServerURL": "https://plot.ly"
       },
       "data": [
        {
         "alignmentgroup": "True",
         "hovertemplate": "=%{x}<br>Medals=%{y}<extra></extra>",
         "legendgroup": "Speed Skating",
         "marker": {
          "color": "#636efa",
          "pattern": {
           "shape": ""
          }
         },
         "name": "Speed Skating",
         "offsetgroup": "Speed Skating",
         "orientation": "v",
         "showlegend": true,
         "textposition": "auto",
         "type": "bar",
         "x": [
          "Speed Skating"
         ],
         "xaxis": "x",
         "y": [
          78
         ],
         "yaxis": "y"
        },
        {
         "alignmentgroup": "True",
         "hovertemplate": "=%{x}<br>Medals=%{y}<extra></extra>",
         "legendgroup": "Cross Country Skiing",
         "marker": {
          "color": "#EF553B",
          "pattern": {
           "shape": ""
          }
         },
         "name": "Cross Country Skiing",
         "offsetgroup": "Cross Country Skiing",
         "orientation": "v",
         "showlegend": true,
         "textposition": "auto",
         "type": "bar",
         "x": [
          "Cross Country Skiing"
         ],
         "xaxis": "x",
         "y": [
          61
         ],
         "yaxis": "y"
        },
        {
         "alignmentgroup": "True",
         "hovertemplate": "=%{x}<br>Medals=%{y}<extra></extra>",
         "legendgroup": "Shooting",
         "marker": {
          "color": "#00cc96",
          "pattern": {
           "shape": ""
          }
         },
         "name": "Shooting",
         "offsetgroup": "Shooting",
         "orientation": "v",
         "showlegend": true,
         "textposition": "auto",
         "type": "bar",
         "x": [
          "Shooting"
         ],
         "xaxis": "x",
         "y": [
          33
         ],
         "yaxis": "y"
        },
        {
         "alignmentgroup": "True",
         "hovertemplate": "=%{x}<br>Medals=%{y}<extra></extra>",
         "legendgroup": "Ski Jumping",
         "marker": {
          "color": "#ab63fa",
          "pattern": {
           "shape": ""
          }
         },
         "name": "Ski Jumping",
         "offsetgroup": "Ski Jumping",
         "orientation": "v",
         "showlegend": true,
         "textposition": "auto",
         "type": "bar",
         "x": [
          "Ski Jumping"
         ],
         "xaxis": "x",
         "y": [
          30
         ],
         "yaxis": "y"
        },
        {
         "alignmentgroup": "True",
         "hovertemplate": "=%{x}<br>Medals=%{y}<extra></extra>",
         "legendgroup": "Nordic Combined",
         "marker": {
          "color": "#FFA15A",
          "pattern": {
           "shape": ""
          }
         },
         "name": "Nordic Combined",
         "offsetgroup": "Nordic Combined",
         "orientation": "v",
         "showlegend": true,
         "textposition": "auto",
         "type": "bar",
         "x": [
          "Nordic Combined"
         ],
         "xaxis": "x",
         "y": [
          30
         ],
         "yaxis": "y"
        },
        {
         "alignmentgroup": "True",
         "hovertemplate": "=%{x}<br>Medals=%{y}<extra></extra>",
         "legendgroup": "Sailing",
         "marker": {
          "color": "#19d3f3",
          "pattern": {
           "shape": ""
          }
         },
         "name": "Sailing",
         "offsetgroup": "Sailing",
         "orientation": "v",
         "showlegend": true,
         "textposition": "auto",
         "type": "bar",
         "x": [
          "Sailing"
         ],
         "xaxis": "x",
         "y": [
          29
         ],
         "yaxis": "y"
        },
        {
         "alignmentgroup": "True",
         "hovertemplate": "=%{x}<br>Medals=%{y}<extra></extra>",
         "legendgroup": "Alpine Skiing",
         "marker": {
          "color": "#FF6692",
          "pattern": {
           "shape": ""
          }
         },
         "name": "Alpine Skiing",
         "offsetgroup": "Alpine Skiing",
         "orientation": "v",
         "showlegend": true,
         "textposition": "auto",
         "type": "bar",
         "x": [
          "Alpine Skiing"
         ],
         "xaxis": "x",
         "y": [
          28
         ],
         "yaxis": "y"
        },
        {
         "alignmentgroup": "True",
         "hovertemplate": "=%{x}<br>Medals=%{y}<extra></extra>",
         "legendgroup": "Biathlon",
         "marker": {
          "color": "#B6E880",
          "pattern": {
           "shape": ""
          }
         },
         "name": "Biathlon",
         "offsetgroup": "Biathlon",
         "orientation": "v",
         "showlegend": true,
         "textposition": "auto",
         "type": "bar",
         "x": [
          "Biathlon"
         ],
         "xaxis": "x",
         "y": [
          28
         ],
         "yaxis": "y"
        },
        {
         "alignmentgroup": "True",
         "hovertemplate": "=%{x}<br>Medals=%{y}<extra></extra>",
         "legendgroup": "Rowing",
         "marker": {
          "color": "#FF97FF",
          "pattern": {
           "shape": ""
          }
         },
         "name": "Rowing",
         "offsetgroup": "Rowing",
         "orientation": "v",
         "showlegend": true,
         "textposition": "auto",
         "type": "bar",
         "x": [
          "Rowing"
         ],
         "xaxis": "x",
         "y": [
          17
         ],
         "yaxis": "y"
        },
        {
         "alignmentgroup": "True",
         "hovertemplate": "=%{x}<br>Medals=%{y}<extra></extra>",
         "legendgroup": "Athletics",
         "marker": {
          "color": "#FECB52",
          "pattern": {
           "shape": ""
          }
         },
         "name": "Athletics",
         "offsetgroup": "Athletics",
         "orientation": "v",
         "showlegend": true,
         "textposition": "auto",
         "type": "bar",
         "x": [
          "Athletics"
         ],
         "xaxis": "x",
         "y": [
          15
         ],
         "yaxis": "y"
        },
        {
         "alignmentgroup": "True",
         "hovertemplate": "=%{x}<br>Medals=%{y}<extra></extra>",
         "legendgroup": "Canoeing",
         "marker": {
          "color": "#636efa",
          "pattern": {
           "shape": ""
          }
         },
         "name": "Canoeing",
         "offsetgroup": "Canoeing",
         "orientation": "v",
         "showlegend": true,
         "textposition": "auto",
         "type": "bar",
         "x": [
          "Canoeing"
         ],
         "xaxis": "x",
         "y": [
          14
         ],
         "yaxis": "y"
        },
        {
         "alignmentgroup": "True",
         "hovertemplate": "=%{x}<br>Medals=%{y}<extra></extra>",
         "legendgroup": "Wrestling",
         "marker": {
          "color": "#EF553B",
          "pattern": {
           "shape": ""
          }
         },
         "name": "Wrestling",
         "offsetgroup": "Wrestling",
         "orientation": "v",
         "showlegend": true,
         "textposition": "auto",
         "type": "bar",
         "x": [
          "Wrestling"
         ],
         "xaxis": "x",
         "y": [
          8
         ],
         "yaxis": "y"
        },
        {
         "alignmentgroup": "True",
         "hovertemplate": "=%{x}<br>Medals=%{y}<extra></extra>",
         "legendgroup": "Boxing",
         "marker": {
          "color": "#00cc96",
          "pattern": {
           "shape": ""
          }
         },
         "name": "Boxing",
         "offsetgroup": "Boxing",
         "orientation": "v",
         "showlegend": true,
         "textposition": "auto",
         "type": "bar",
         "x": [
          "Boxing"
         ],
         "xaxis": "x",
         "y": [
          5
         ],
         "yaxis": "y"
        },
        {
         "alignmentgroup": "True",
         "hovertemplate": "=%{x}<br>Medals=%{y}<extra></extra>",
         "legendgroup": "Gymnastics",
         "marker": {
          "color": "#ab63fa",
          "pattern": {
           "shape": ""
          }
         },
         "name": "Gymnastics",
         "offsetgroup": "Gymnastics",
         "orientation": "v",
         "showlegend": true,
         "textposition": "auto",
         "type": "bar",
         "x": [
          "Gymnastics"
         ],
         "xaxis": "x",
         "y": [
          5
         ],
         "yaxis": "y"
        },
        {
         "alignmentgroup": "True",
         "hovertemplate": "=%{x}<br>Medals=%{y}<extra></extra>",
         "legendgroup": "Figure Skating",
         "marker": {
          "color": "#FFA15A",
          "pattern": {
           "shape": ""
          }
         },
         "name": "Figure Skating",
         "offsetgroup": "Figure Skating",
         "orientation": "v",
         "showlegend": true,
         "textposition": "auto",
         "type": "bar",
         "x": [
          "Figure Skating"
         ],
         "xaxis": "x",
         "y": [
          3
         ],
         "yaxis": "y"
        },
        {
         "alignmentgroup": "True",
         "hovertemplate": "=%{x}<br>Medals=%{y}<extra></extra>",
         "legendgroup": "Curling",
         "marker": {
          "color": "#19d3f3",
          "pattern": {
           "shape": ""
          }
         },
         "name": "Curling",
         "offsetgroup": "Curling",
         "orientation": "v",
         "showlegend": true,
         "textposition": "auto",
         "type": "bar",
         "x": [
          "Curling"
         ],
         "xaxis": "x",
         "y": [
          3
         ],
         "yaxis": "y"
        },
        {
         "alignmentgroup": "True",
         "hovertemplate": "=%{x}<br>Medals=%{y}<extra></extra>",
         "legendgroup": "Cycling",
         "marker": {
          "color": "#FF6692",
          "pattern": {
           "shape": ""
          }
         },
         "name": "Cycling",
         "offsetgroup": "Cycling",
         "orientation": "v",
         "showlegend": true,
         "textposition": "auto",
         "type": "bar",
         "x": [
          "Cycling"
         ],
         "xaxis": "x",
         "y": [
          3
         ],
         "yaxis": "y"
        },
        {
         "alignmentgroup": "True",
         "hovertemplate": "=%{x}<br>Medals=%{y}<extra></extra>",
         "legendgroup": "Snowboarding",
         "marker": {
          "color": "#B6E880",
          "pattern": {
           "shape": ""
          }
         },
         "name": "Snowboarding",
         "offsetgroup": "Snowboarding",
         "orientation": "v",
         "showlegend": true,
         "textposition": "auto",
         "type": "bar",
         "x": [
          "Snowboarding"
         ],
         "xaxis": "x",
         "y": [
          2
         ],
         "yaxis": "y"
        },
        {
         "alignmentgroup": "True",
         "hovertemplate": "=%{x}<br>Medals=%{y}<extra></extra>",
         "legendgroup": "Art Competitions",
         "marker": {
          "color": "#FF97FF",
          "pattern": {
           "shape": ""
          }
         },
         "name": "Art Competitions",
         "offsetgroup": "Art Competitions",
         "orientation": "v",
         "showlegend": true,
         "textposition": "auto",
         "type": "bar",
         "x": [
          "Art Competitions"
         ],
         "xaxis": "x",
         "y": [
          1
         ],
         "yaxis": "y"
        },
        {
         "alignmentgroup": "True",
         "hovertemplate": "=%{x}<br>Medals=%{y}<extra></extra>",
         "legendgroup": "Fencing",
         "marker": {
          "color": "#FECB52",
          "pattern": {
           "shape": ""
          }
         },
         "name": "Fencing",
         "offsetgroup": "Fencing",
         "orientation": "v",
         "showlegend": true,
         "textposition": "auto",
         "type": "bar",
         "x": [
          "Fencing"
         ],
         "xaxis": "x",
         "y": [
          1
         ],
         "yaxis": "y"
        },
        {
         "alignmentgroup": "True",
         "hovertemplate": "=%{x}<br>Medals=%{y}<extra></extra>",
         "legendgroup": "Football",
         "marker": {
          "color": "#636efa",
          "pattern": {
           "shape": ""
          }
         },
         "name": "Football",
         "offsetgroup": "Football",
         "orientation": "v",
         "showlegend": true,
         "textposition": "auto",
         "type": "bar",
         "x": [
          "Football"
         ],
         "xaxis": "x",
         "y": [
          1
         ],
         "yaxis": "y"
        },
        {
         "alignmentgroup": "True",
         "hovertemplate": "=%{x}<br>Medals=%{y}<extra></extra>",
         "legendgroup": "Freestyle Skiing",
         "marker": {
          "color": "#EF553B",
          "pattern": {
           "shape": ""
          }
         },
         "name": "Freestyle Skiing",
         "offsetgroup": "Freestyle Skiing",
         "orientation": "v",
         "showlegend": true,
         "textposition": "auto",
         "type": "bar",
         "x": [
          "Freestyle Skiing"
         ],
         "xaxis": "x",
         "y": [
          1
         ],
         "yaxis": "y"
        },
        {
         "alignmentgroup": "True",
         "hovertemplate": "=%{x}<br>Medals=%{y}<extra></extra>",
         "legendgroup": "Equestrianism",
         "marker": {
          "color": "#00cc96",
          "pattern": {
           "shape": ""
          }
         },
         "name": "Equestrianism",
         "offsetgroup": "Equestrianism",
         "orientation": "v",
         "showlegend": true,
         "textposition": "auto",
         "type": "bar",
         "x": [
          "Equestrianism"
         ],
         "xaxis": "x",
         "y": [
          1
         ],
         "yaxis": "y"
        },
        {
         "alignmentgroup": "True",
         "hovertemplate": "=%{x}<br>Medals=%{y}<extra></extra>",
         "legendgroup": "Swimming",
         "marker": {
          "color": "#ab63fa",
          "pattern": {
           "shape": ""
          }
         },
         "name": "Swimming",
         "offsetgroup": "Swimming",
         "orientation": "v",
         "showlegend": true,
         "textposition": "auto",
         "type": "bar",
         "x": [
          "Swimming"
         ],
         "xaxis": "x",
         "y": [
          1
         ],
         "yaxis": "y"
        },
        {
         "alignmentgroup": "True",
         "hovertemplate": "=%{x}<br>Medals=%{y}<extra></extra>",
         "legendgroup": "Weightlifting",
         "marker": {
          "color": "#FFA15A",
          "pattern": {
           "shape": ""
          }
         },
         "name": "Weightlifting",
         "offsetgroup": "Weightlifting",
         "orientation": "v",
         "showlegend": true,
         "textposition": "auto",
         "type": "bar",
         "x": [
          "Weightlifting"
         ],
         "xaxis": "x",
         "y": [
          1
         ],
         "yaxis": "y"
        }
       ],
       "layout": {
        "barmode": "relative",
        "legend": {
         "title": {
          "text": ""
         },
         "tracegroupgap": 0
        },
        "template": {
         "data": {
          "bar": [
           {
            "error_x": {
             "color": "#2a3f5f"
            },
            "error_y": {
             "color": "#2a3f5f"
            },
            "marker": {
             "line": {
              "color": "#E5ECF6",
              "width": 0.5
             },
             "pattern": {
              "fillmode": "overlay",
              "size": 10,
              "solidity": 0.2
             }
            },
            "type": "bar"
           }
          ],
          "barpolar": [
           {
            "marker": {
             "line": {
              "color": "#E5ECF6",
              "width": 0.5
             },
             "pattern": {
              "fillmode": "overlay",
              "size": 10,
              "solidity": 0.2
             }
            },
            "type": "barpolar"
           }
          ],
          "carpet": [
           {
            "aaxis": {
             "endlinecolor": "#2a3f5f",
             "gridcolor": "white",
             "linecolor": "white",
             "minorgridcolor": "white",
             "startlinecolor": "#2a3f5f"
            },
            "baxis": {
             "endlinecolor": "#2a3f5f",
             "gridcolor": "white",
             "linecolor": "white",
             "minorgridcolor": "white",
             "startlinecolor": "#2a3f5f"
            },
            "type": "carpet"
           }
          ],
          "choropleth": [
           {
            "colorbar": {
             "outlinewidth": 0,
             "ticks": ""
            },
            "type": "choropleth"
           }
          ],
          "contour": [
           {
            "colorbar": {
             "outlinewidth": 0,
             "ticks": ""
            },
            "colorscale": [
             [
              0,
              "#0d0887"
             ],
             [
              0.1111111111111111,
              "#46039f"
             ],
             [
              0.2222222222222222,
              "#7201a8"
             ],
             [
              0.3333333333333333,
              "#9c179e"
             ],
             [
              0.4444444444444444,
              "#bd3786"
             ],
             [
              0.5555555555555556,
              "#d8576b"
             ],
             [
              0.6666666666666666,
              "#ed7953"
             ],
             [
              0.7777777777777778,
              "#fb9f3a"
             ],
             [
              0.8888888888888888,
              "#fdca26"
             ],
             [
              1,
              "#f0f921"
             ]
            ],
            "type": "contour"
           }
          ],
          "contourcarpet": [
           {
            "colorbar": {
             "outlinewidth": 0,
             "ticks": ""
            },
            "type": "contourcarpet"
           }
          ],
          "heatmap": [
           {
            "colorbar": {
             "outlinewidth": 0,
             "ticks": ""
            },
            "colorscale": [
             [
              0,
              "#0d0887"
             ],
             [
              0.1111111111111111,
              "#46039f"
             ],
             [
              0.2222222222222222,
              "#7201a8"
             ],
             [
              0.3333333333333333,
              "#9c179e"
             ],
             [
              0.4444444444444444,
              "#bd3786"
             ],
             [
              0.5555555555555556,
              "#d8576b"
             ],
             [
              0.6666666666666666,
              "#ed7953"
             ],
             [
              0.7777777777777778,
              "#fb9f3a"
             ],
             [
              0.8888888888888888,
              "#fdca26"
             ],
             [
              1,
              "#f0f921"
             ]
            ],
            "type": "heatmap"
           }
          ],
          "heatmapgl": [
           {
            "colorbar": {
             "outlinewidth": 0,
             "ticks": ""
            },
            "colorscale": [
             [
              0,
              "#0d0887"
             ],
             [
              0.1111111111111111,
              "#46039f"
             ],
             [
              0.2222222222222222,
              "#7201a8"
             ],
             [
              0.3333333333333333,
              "#9c179e"
             ],
             [
              0.4444444444444444,
              "#bd3786"
             ],
             [
              0.5555555555555556,
              "#d8576b"
             ],
             [
              0.6666666666666666,
              "#ed7953"
             ],
             [
              0.7777777777777778,
              "#fb9f3a"
             ],
             [
              0.8888888888888888,
              "#fdca26"
             ],
             [
              1,
              "#f0f921"
             ]
            ],
            "type": "heatmapgl"
           }
          ],
          "histogram": [
           {
            "marker": {
             "pattern": {
              "fillmode": "overlay",
              "size": 10,
              "solidity": 0.2
             }
            },
            "type": "histogram"
           }
          ],
          "histogram2d": [
           {
            "colorbar": {
             "outlinewidth": 0,
             "ticks": ""
            },
            "colorscale": [
             [
              0,
              "#0d0887"
             ],
             [
              0.1111111111111111,
              "#46039f"
             ],
             [
              0.2222222222222222,
              "#7201a8"
             ],
             [
              0.3333333333333333,
              "#9c179e"
             ],
             [
              0.4444444444444444,
              "#bd3786"
             ],
             [
              0.5555555555555556,
              "#d8576b"
             ],
             [
              0.6666666666666666,
              "#ed7953"
             ],
             [
              0.7777777777777778,
              "#fb9f3a"
             ],
             [
              0.8888888888888888,
              "#fdca26"
             ],
             [
              1,
              "#f0f921"
             ]
            ],
            "type": "histogram2d"
           }
          ],
          "histogram2dcontour": [
           {
            "colorbar": {
             "outlinewidth": 0,
             "ticks": ""
            },
            "colorscale": [
             [
              0,
              "#0d0887"
             ],
             [
              0.1111111111111111,
              "#46039f"
             ],
             [
              0.2222222222222222,
              "#7201a8"
             ],
             [
              0.3333333333333333,
              "#9c179e"
             ],
             [
              0.4444444444444444,
              "#bd3786"
             ],
             [
              0.5555555555555556,
              "#d8576b"
             ],
             [
              0.6666666666666666,
              "#ed7953"
             ],
             [
              0.7777777777777778,
              "#fb9f3a"
             ],
             [
              0.8888888888888888,
              "#fdca26"
             ],
             [
              1,
              "#f0f921"
             ]
            ],
            "type": "histogram2dcontour"
           }
          ],
          "mesh3d": [
           {
            "colorbar": {
             "outlinewidth": 0,
             "ticks": ""
            },
            "type": "mesh3d"
           }
          ],
          "parcoords": [
           {
            "line": {
             "colorbar": {
              "outlinewidth": 0,
              "ticks": ""
             }
            },
            "type": "parcoords"
           }
          ],
          "pie": [
           {
            "automargin": true,
            "type": "pie"
           }
          ],
          "scatter": [
           {
            "fillpattern": {
             "fillmode": "overlay",
             "size": 10,
             "solidity": 0.2
            },
            "type": "scatter"
           }
          ],
          "scatter3d": [
           {
            "line": {
             "colorbar": {
              "outlinewidth": 0,
              "ticks": ""
             }
            },
            "marker": {
             "colorbar": {
              "outlinewidth": 0,
              "ticks": ""
             }
            },
            "type": "scatter3d"
           }
          ],
          "scattercarpet": [
           {
            "marker": {
             "colorbar": {
              "outlinewidth": 0,
              "ticks": ""
             }
            },
            "type": "scattercarpet"
           }
          ],
          "scattergeo": [
           {
            "marker": {
             "colorbar": {
              "outlinewidth": 0,
              "ticks": ""
             }
            },
            "type": "scattergeo"
           }
          ],
          "scattergl": [
           {
            "marker": {
             "colorbar": {
              "outlinewidth": 0,
              "ticks": ""
             }
            },
            "type": "scattergl"
           }
          ],
          "scattermapbox": [
           {
            "marker": {
             "colorbar": {
              "outlinewidth": 0,
              "ticks": ""
             }
            },
            "type": "scattermapbox"
           }
          ],
          "scatterpolar": [
           {
            "marker": {
             "colorbar": {
              "outlinewidth": 0,
              "ticks": ""
             }
            },
            "type": "scatterpolar"
           }
          ],
          "scatterpolargl": [
           {
            "marker": {
             "colorbar": {
              "outlinewidth": 0,
              "ticks": ""
             }
            },
            "type": "scatterpolargl"
           }
          ],
          "scatterternary": [
           {
            "marker": {
             "colorbar": {
              "outlinewidth": 0,
              "ticks": ""
             }
            },
            "type": "scatterternary"
           }
          ],
          "surface": [
           {
            "colorbar": {
             "outlinewidth": 0,
             "ticks": ""
            },
            "colorscale": [
             [
              0,
              "#0d0887"
             ],
             [
              0.1111111111111111,
              "#46039f"
             ],
             [
              0.2222222222222222,
              "#7201a8"
             ],
             [
              0.3333333333333333,
              "#9c179e"
             ],
             [
              0.4444444444444444,
              "#bd3786"
             ],
             [
              0.5555555555555556,
              "#d8576b"
             ],
             [
              0.6666666666666666,
              "#ed7953"
             ],
             [
              0.7777777777777778,
              "#fb9f3a"
             ],
             [
              0.8888888888888888,
              "#fdca26"
             ],
             [
              1,
              "#f0f921"
             ]
            ],
            "type": "surface"
           }
          ],
          "table": [
           {
            "cells": {
             "fill": {
              "color": "#EBF0F8"
             },
             "line": {
              "color": "white"
             }
            },
            "header": {
             "fill": {
              "color": "#C8D4E3"
             },
             "line": {
              "color": "white"
             }
            },
            "type": "table"
           }
          ]
         },
         "layout": {
          "annotationdefaults": {
           "arrowcolor": "#2a3f5f",
           "arrowhead": 0,
           "arrowwidth": 1
          },
          "autotypenumbers": "strict",
          "coloraxis": {
           "colorbar": {
            "outlinewidth": 0,
            "ticks": ""
           }
          },
          "colorscale": {
           "diverging": [
            [
             0,
             "#8e0152"
            ],
            [
             0.1,
             "#c51b7d"
            ],
            [
             0.2,
             "#de77ae"
            ],
            [
             0.3,
             "#f1b6da"
            ],
            [
             0.4,
             "#fde0ef"
            ],
            [
             0.5,
             "#f7f7f7"
            ],
            [
             0.6,
             "#e6f5d0"
            ],
            [
             0.7,
             "#b8e186"
            ],
            [
             0.8,
             "#7fbc41"
            ],
            [
             0.9,
             "#4d9221"
            ],
            [
             1,
             "#276419"
            ]
           ],
           "sequential": [
            [
             0,
             "#0d0887"
            ],
            [
             0.1111111111111111,
             "#46039f"
            ],
            [
             0.2222222222222222,
             "#7201a8"
            ],
            [
             0.3333333333333333,
             "#9c179e"
            ],
            [
             0.4444444444444444,
             "#bd3786"
            ],
            [
             0.5555555555555556,
             "#d8576b"
            ],
            [
             0.6666666666666666,
             "#ed7953"
            ],
            [
             0.7777777777777778,
             "#fb9f3a"
            ],
            [
             0.8888888888888888,
             "#fdca26"
            ],
            [
             1,
             "#f0f921"
            ]
           ],
           "sequentialminus": [
            [
             0,
             "#0d0887"
            ],
            [
             0.1111111111111111,
             "#46039f"
            ],
            [
             0.2222222222222222,
             "#7201a8"
            ],
            [
             0.3333333333333333,
             "#9c179e"
            ],
            [
             0.4444444444444444,
             "#bd3786"
            ],
            [
             0.5555555555555556,
             "#d8576b"
            ],
            [
             0.6666666666666666,
             "#ed7953"
            ],
            [
             0.7777777777777778,
             "#fb9f3a"
            ],
            [
             0.8888888888888888,
             "#fdca26"
            ],
            [
             1,
             "#f0f921"
            ]
           ]
          },
          "colorway": [
           "#636efa",
           "#EF553B",
           "#00cc96",
           "#ab63fa",
           "#FFA15A",
           "#19d3f3",
           "#FF6692",
           "#B6E880",
           "#FF97FF",
           "#FECB52"
          ],
          "font": {
           "color": "#2a3f5f"
          },
          "geo": {
           "bgcolor": "white",
           "lakecolor": "white",
           "landcolor": "#E5ECF6",
           "showlakes": true,
           "showland": true,
           "subunitcolor": "white"
          },
          "hoverlabel": {
           "align": "left"
          },
          "hovermode": "closest",
          "mapbox": {
           "style": "light"
          },
          "paper_bgcolor": "white",
          "plot_bgcolor": "#E5ECF6",
          "polar": {
           "angularaxis": {
            "gridcolor": "white",
            "linecolor": "white",
            "ticks": ""
           },
           "bgcolor": "#E5ECF6",
           "radialaxis": {
            "gridcolor": "white",
            "linecolor": "white",
            "ticks": ""
           }
          },
          "scene": {
           "xaxis": {
            "backgroundcolor": "#E5ECF6",
            "gridcolor": "white",
            "gridwidth": 2,
            "linecolor": "white",
            "showbackground": true,
            "ticks": "",
            "zerolinecolor": "white"
           },
           "yaxis": {
            "backgroundcolor": "#E5ECF6",
            "gridcolor": "white",
            "gridwidth": 2,
            "linecolor": "white",
            "showbackground": true,
            "ticks": "",
            "zerolinecolor": "white"
           },
           "zaxis": {
            "backgroundcolor": "#E5ECF6",
            "gridcolor": "white",
            "gridwidth": 2,
            "linecolor": "white",
            "showbackground": true,
            "ticks": "",
            "zerolinecolor": "white"
           }
          },
          "shapedefaults": {
           "line": {
            "color": "#2a3f5f"
           }
          },
          "ternary": {
           "aaxis": {
            "gridcolor": "white",
            "linecolor": "white",
            "ticks": ""
           },
           "baxis": {
            "gridcolor": "white",
            "linecolor": "white",
            "ticks": ""
           },
           "bgcolor": "#E5ECF6",
           "caxis": {
            "gridcolor": "white",
            "linecolor": "white",
            "ticks": ""
           }
          },
          "title": {
           "x": 0.05
          },
          "xaxis": {
           "automargin": true,
           "gridcolor": "white",
           "linecolor": "white",
           "ticks": "",
           "title": {
            "standoff": 15
           },
           "zerolinecolor": "white",
           "zerolinewidth": 2
          },
          "yaxis": {
           "automargin": true,
           "gridcolor": "white",
           "linecolor": "white",
           "ticks": "",
           "title": {
            "standoff": 15
           },
           "zerolinecolor": "white",
           "zerolinewidth": 2
          }
         }
        },
        "title": {
         "text": "Norwegian Olympic medals by sport for men"
        },
        "xaxis": {
         "anchor": "y",
         "categoryarray": [
          "Speed Skating",
          "Cross Country Skiing",
          "Shooting",
          "Ski Jumping",
          "Nordic Combined",
          "Sailing",
          "Alpine Skiing",
          "Biathlon",
          "Rowing",
          "Athletics",
          "Canoeing",
          "Wrestling",
          "Boxing",
          "Gymnastics",
          "Figure Skating",
          "Curling",
          "Cycling",
          "Snowboarding",
          "Art Competitions",
          "Fencing",
          "Football",
          "Freestyle Skiing",
          "Equestrianism",
          "Swimming",
          "Weightlifting"
         ],
         "categoryorder": "array",
         "domain": [
          0,
          1
         ],
         "tickangle": -90,
         "title": {
          "text": ""
         }
        },
        "yaxis": {
         "anchor": "x",
         "domain": [
          0,
          1
         ],
         "title": {
          "text": "Medals"
         }
        }
       }
      }
     },
     "metadata": {},
     "output_type": "display_data"
    }
   ],
   "source": [
    "# # Give each sport a unique colour so that it looks the same in all plots\n",
    "# sports_list = nor_medals_sport_all[\"Sport\"].unique().tolist()\n",
    "# sports_list\n",
    "\n",
    "fig = px.bar(nor_medals_sport_all, x=\"Sport\", y=\"Total\", title=\"Norwegian Olympic medals by sport\", labels={\"Total\": \"Medals\", \"Sport\": \"\"}, color=\"Sport\")\n",
    "fig.update_xaxes(tickangle=-90)\n",
    "fig.show()\n",
    "\n",
    "fig = px.bar(nor_medals_sport_wom, x=\"Sport\", y=\"Total\", title=\"Norwegian Olympic medals by sport for women\", labels={\"Total\": \"Medals\", \"Sport\": \"\"}, color=\"Sport\")\n",
    "fig.update_xaxes(tickangle=-90)\n",
    "fig.show()\n",
    "\n",
    "fig = px.bar(nor_medals_sport_men, x=\"Sport\", y=\"Total\", title=\"Norwegian Olympic medals by sport for men\", labels={\"Total\": \"Medals\", \"Sport\": \"\"}, color=\"Sport\")\n",
    "fig.update_xaxes(tickangle=-90)\n",
    "fig.show()"
   ]
  },
  {
   "cell_type": "code",
   "execution_count": 287,
   "metadata": {},
   "outputs": [
    {
     "data": {
      "application/vnd.plotly.v1+json": {
       "config": {
        "plotlyServerURL": "https://plot.ly"
       },
       "data": [
        {
         "domain": {
          "x": [
           0,
           0.06805555555555555
          ],
          "y": [
           0,
           1
          ]
         },
         "labels": [
          "Men",
          "Women"
         ],
         "marker": {
          "colors": [
           "forestgreen",
           "orange"
          ]
         },
         "name": "1900s",
         "type": "pie",
         "values": [
          17,
          0
         ]
        },
        {
         "domain": {
          "x": [
           0.08472222222222221,
           0.15277777777777776
          ],
          "y": [
           0,
           1
          ]
         },
         "labels": [
          "Men",
          "Women"
         ],
         "marker": {
          "colors": [
           "forestgreen",
           "orange"
          ]
         },
         "name": "1910s",
         "type": "pie",
         "values": [
          9,
          1
         ]
        },
        {
         "domain": {
          "x": [
           0.16944444444444443,
           0.2375
          ],
          "y": [
           0,
           1
          ]
         },
         "labels": [
          "Men",
          "Women"
         ],
         "marker": {
          "colors": [
           "forestgreen",
           "orange"
          ]
         },
         "name": "1920s",
         "type": "pie",
         "values": [
          77,
          2
         ]
        },
        {
         "domain": {
          "x": [
           0.25416666666666665,
           0.3222222222222222
          ],
          "y": [
           0,
           1
          ]
         },
         "labels": [
          "Men",
          "Women"
         ],
         "marker": {
          "colors": [
           "forestgreen",
           "orange"
          ]
         },
         "name": "1930s",
         "type": "pie",
         "values": [
          28,
          3
         ]
        },
        {
         "domain": {
          "x": [
           0.33888888888888885,
           0.4069444444444444
          ],
          "y": [
           0,
           1
          ]
         },
         "labels": [
          "Men",
          "Women"
         ],
         "marker": {
          "colors": [
           "forestgreen",
           "orange"
          ]
         },
         "name": "1940s",
         "type": "pie",
         "values": [
          17,
          0
         ]
        },
        {
         "domain": {
          "x": [
           0.42361111111111105,
           0.4916666666666666
          ],
          "y": [
           0,
           1
          ]
         },
         "labels": [
          "Men",
          "Women"
         ],
         "marker": {
          "colors": [
           "forestgreen",
           "orange"
          ]
         },
         "name": "1950s",
         "type": "pie",
         "values": [
          28,
          1
         ]
        },
        {
         "domain": {
          "x": [
           0.5083333333333333,
           0.5763888888888888
          ],
          "y": [
           0,
           1
          ]
         },
         "labels": [
          "Men",
          "Women"
         ],
         "marker": {
          "colors": [
           "forestgreen",
           "orange"
          ]
         },
         "name": "1960s",
         "type": "pie",
         "values": [
          35,
          3
         ]
        },
        {
         "domain": {
          "x": [
           0.5930555555555556,
           0.6611111111111111
          ],
          "y": [
           0,
           1
          ]
         },
         "labels": [
          "Men",
          "Women"
         ],
         "marker": {
          "colors": [
           "forestgreen",
           "orange"
          ]
         },
         "name": "1970s",
         "type": "pie",
         "values": [
          23,
          2
         ]
        },
        {
         "domain": {
          "x": [
           0.6777777777777777,
           0.7458333333333332
          ],
          "y": [
           0,
           1
          ]
         },
         "labels": [
          "Men",
          "Women"
         ],
         "marker": {
          "colors": [
           "forestgreen",
           "orange"
          ]
         },
         "name": "1980s",
         "type": "pie",
         "values": [
          23,
          9
         ]
        },
        {
         "domain": {
          "x": [
           0.7625,
           0.8305555555555555
          ],
          "y": [
           0,
           1
          ]
         },
         "labels": [
          "Men",
          "Women"
         ],
         "marker": {
          "colors": [
           "forestgreen",
           "orange"
          ]
         },
         "name": "1990s",
         "type": "pie",
         "values": [
          60,
          16
         ]
        },
        {
         "domain": {
          "x": [
           0.8472222222222221,
           0.9152777777777776
          ],
          "y": [
           0,
           1
          ]
         },
         "labels": [
          "Men",
          "Women"
         ],
         "marker": {
          "colors": [
           "forestgreen",
           "orange"
          ]
         },
         "name": "2000s",
         "type": "pie",
         "values": [
          46,
          22
         ]
        },
        {
         "domain": {
          "x": [
           0.9319444444444444,
           0.9999999999999999
          ],
          "y": [
           0,
           1
          ]
         },
         "labels": [
          "Men",
          "Women"
         ],
         "marker": {
          "colors": [
           "forestgreen",
           "orange"
          ]
         },
         "name": "2010s",
         "type": "pie",
         "values": [
          36,
          22
         ]
        }
       ],
       "layout": {
        "annotations": [
         {
          "font": {
           "size": 16
          },
          "showarrow": false,
          "text": "1900s",
          "x": 0.034027777777777775,
          "xanchor": "center",
          "xref": "paper",
          "y": 1,
          "yanchor": "bottom",
          "yref": "paper"
         },
         {
          "font": {
           "size": 16
          },
          "showarrow": false,
          "text": "1910s",
          "x": 0.11875,
          "xanchor": "center",
          "xref": "paper",
          "y": 1,
          "yanchor": "bottom",
          "yref": "paper"
         },
         {
          "font": {
           "size": 16
          },
          "showarrow": false,
          "text": "1920s",
          "x": 0.20347222222222222,
          "xanchor": "center",
          "xref": "paper",
          "y": 1,
          "yanchor": "bottom",
          "yref": "paper"
         },
         {
          "font": {
           "size": 16
          },
          "showarrow": false,
          "text": "1930s",
          "x": 0.2881944444444444,
          "xanchor": "center",
          "xref": "paper",
          "y": 1,
          "yanchor": "bottom",
          "yref": "paper"
         },
         {
          "font": {
           "size": 16
          },
          "showarrow": false,
          "text": "1940s",
          "x": 0.3729166666666666,
          "xanchor": "center",
          "xref": "paper",
          "y": 1,
          "yanchor": "bottom",
          "yref": "paper"
         },
         {
          "font": {
           "size": 16
          },
          "showarrow": false,
          "text": "1950s",
          "x": 0.4576388888888888,
          "xanchor": "center",
          "xref": "paper",
          "y": 1,
          "yanchor": "bottom",
          "yref": "paper"
         },
         {
          "font": {
           "size": 16
          },
          "showarrow": false,
          "text": "1960s",
          "x": 0.5423611111111111,
          "xanchor": "center",
          "xref": "paper",
          "y": 1,
          "yanchor": "bottom",
          "yref": "paper"
         },
         {
          "font": {
           "size": 16
          },
          "showarrow": false,
          "text": "1970s",
          "x": 0.6270833333333333,
          "xanchor": "center",
          "xref": "paper",
          "y": 1,
          "yanchor": "bottom",
          "yref": "paper"
         },
         {
          "font": {
           "size": 16
          },
          "showarrow": false,
          "text": "1980s",
          "x": 0.7118055555555555,
          "xanchor": "center",
          "xref": "paper",
          "y": 1,
          "yanchor": "bottom",
          "yref": "paper"
         },
         {
          "font": {
           "size": 16
          },
          "showarrow": false,
          "text": "1990s",
          "x": 0.7965277777777777,
          "xanchor": "center",
          "xref": "paper",
          "y": 1,
          "yanchor": "bottom",
          "yref": "paper"
         },
         {
          "font": {
           "size": 16
          },
          "showarrow": false,
          "text": "2000s",
          "x": 0.8812499999999999,
          "xanchor": "center",
          "xref": "paper",
          "y": 1,
          "yanchor": "bottom",
          "yref": "paper"
         },
         {
          "font": {
           "size": 16
          },
          "showarrow": false,
          "text": "2010s",
          "x": 0.9659722222222221,
          "xanchor": "center",
          "xref": "paper",
          "y": 1,
          "yanchor": "bottom",
          "yref": "paper"
         }
        ],
        "template": {
         "data": {
          "bar": [
           {
            "error_x": {
             "color": "#2a3f5f"
            },
            "error_y": {
             "color": "#2a3f5f"
            },
            "marker": {
             "line": {
              "color": "#E5ECF6",
              "width": 0.5
             },
             "pattern": {
              "fillmode": "overlay",
              "size": 10,
              "solidity": 0.2
             }
            },
            "type": "bar"
           }
          ],
          "barpolar": [
           {
            "marker": {
             "line": {
              "color": "#E5ECF6",
              "width": 0.5
             },
             "pattern": {
              "fillmode": "overlay",
              "size": 10,
              "solidity": 0.2
             }
            },
            "type": "barpolar"
           }
          ],
          "carpet": [
           {
            "aaxis": {
             "endlinecolor": "#2a3f5f",
             "gridcolor": "white",
             "linecolor": "white",
             "minorgridcolor": "white",
             "startlinecolor": "#2a3f5f"
            },
            "baxis": {
             "endlinecolor": "#2a3f5f",
             "gridcolor": "white",
             "linecolor": "white",
             "minorgridcolor": "white",
             "startlinecolor": "#2a3f5f"
            },
            "type": "carpet"
           }
          ],
          "choropleth": [
           {
            "colorbar": {
             "outlinewidth": 0,
             "ticks": ""
            },
            "type": "choropleth"
           }
          ],
          "contour": [
           {
            "colorbar": {
             "outlinewidth": 0,
             "ticks": ""
            },
            "colorscale": [
             [
              0,
              "#0d0887"
             ],
             [
              0.1111111111111111,
              "#46039f"
             ],
             [
              0.2222222222222222,
              "#7201a8"
             ],
             [
              0.3333333333333333,
              "#9c179e"
             ],
             [
              0.4444444444444444,
              "#bd3786"
             ],
             [
              0.5555555555555556,
              "#d8576b"
             ],
             [
              0.6666666666666666,
              "#ed7953"
             ],
             [
              0.7777777777777778,
              "#fb9f3a"
             ],
             [
              0.8888888888888888,
              "#fdca26"
             ],
             [
              1,
              "#f0f921"
             ]
            ],
            "type": "contour"
           }
          ],
          "contourcarpet": [
           {
            "colorbar": {
             "outlinewidth": 0,
             "ticks": ""
            },
            "type": "contourcarpet"
           }
          ],
          "heatmap": [
           {
            "colorbar": {
             "outlinewidth": 0,
             "ticks": ""
            },
            "colorscale": [
             [
              0,
              "#0d0887"
             ],
             [
              0.1111111111111111,
              "#46039f"
             ],
             [
              0.2222222222222222,
              "#7201a8"
             ],
             [
              0.3333333333333333,
              "#9c179e"
             ],
             [
              0.4444444444444444,
              "#bd3786"
             ],
             [
              0.5555555555555556,
              "#d8576b"
             ],
             [
              0.6666666666666666,
              "#ed7953"
             ],
             [
              0.7777777777777778,
              "#fb9f3a"
             ],
             [
              0.8888888888888888,
              "#fdca26"
             ],
             [
              1,
              "#f0f921"
             ]
            ],
            "type": "heatmap"
           }
          ],
          "heatmapgl": [
           {
            "colorbar": {
             "outlinewidth": 0,
             "ticks": ""
            },
            "colorscale": [
             [
              0,
              "#0d0887"
             ],
             [
              0.1111111111111111,
              "#46039f"
             ],
             [
              0.2222222222222222,
              "#7201a8"
             ],
             [
              0.3333333333333333,
              "#9c179e"
             ],
             [
              0.4444444444444444,
              "#bd3786"
             ],
             [
              0.5555555555555556,
              "#d8576b"
             ],
             [
              0.6666666666666666,
              "#ed7953"
             ],
             [
              0.7777777777777778,
              "#fb9f3a"
             ],
             [
              0.8888888888888888,
              "#fdca26"
             ],
             [
              1,
              "#f0f921"
             ]
            ],
            "type": "heatmapgl"
           }
          ],
          "histogram": [
           {
            "marker": {
             "pattern": {
              "fillmode": "overlay",
              "size": 10,
              "solidity": 0.2
             }
            },
            "type": "histogram"
           }
          ],
          "histogram2d": [
           {
            "colorbar": {
             "outlinewidth": 0,
             "ticks": ""
            },
            "colorscale": [
             [
              0,
              "#0d0887"
             ],
             [
              0.1111111111111111,
              "#46039f"
             ],
             [
              0.2222222222222222,
              "#7201a8"
             ],
             [
              0.3333333333333333,
              "#9c179e"
             ],
             [
              0.4444444444444444,
              "#bd3786"
             ],
             [
              0.5555555555555556,
              "#d8576b"
             ],
             [
              0.6666666666666666,
              "#ed7953"
             ],
             [
              0.7777777777777778,
              "#fb9f3a"
             ],
             [
              0.8888888888888888,
              "#fdca26"
             ],
             [
              1,
              "#f0f921"
             ]
            ],
            "type": "histogram2d"
           }
          ],
          "histogram2dcontour": [
           {
            "colorbar": {
             "outlinewidth": 0,
             "ticks": ""
            },
            "colorscale": [
             [
              0,
              "#0d0887"
             ],
             [
              0.1111111111111111,
              "#46039f"
             ],
             [
              0.2222222222222222,
              "#7201a8"
             ],
             [
              0.3333333333333333,
              "#9c179e"
             ],
             [
              0.4444444444444444,
              "#bd3786"
             ],
             [
              0.5555555555555556,
              "#d8576b"
             ],
             [
              0.6666666666666666,
              "#ed7953"
             ],
             [
              0.7777777777777778,
              "#fb9f3a"
             ],
             [
              0.8888888888888888,
              "#fdca26"
             ],
             [
              1,
              "#f0f921"
             ]
            ],
            "type": "histogram2dcontour"
           }
          ],
          "mesh3d": [
           {
            "colorbar": {
             "outlinewidth": 0,
             "ticks": ""
            },
            "type": "mesh3d"
           }
          ],
          "parcoords": [
           {
            "line": {
             "colorbar": {
              "outlinewidth": 0,
              "ticks": ""
             }
            },
            "type": "parcoords"
           }
          ],
          "pie": [
           {
            "automargin": true,
            "type": "pie"
           }
          ],
          "scatter": [
           {
            "fillpattern": {
             "fillmode": "overlay",
             "size": 10,
             "solidity": 0.2
            },
            "type": "scatter"
           }
          ],
          "scatter3d": [
           {
            "line": {
             "colorbar": {
              "outlinewidth": 0,
              "ticks": ""
             }
            },
            "marker": {
             "colorbar": {
              "outlinewidth": 0,
              "ticks": ""
             }
            },
            "type": "scatter3d"
           }
          ],
          "scattercarpet": [
           {
            "marker": {
             "colorbar": {
              "outlinewidth": 0,
              "ticks": ""
             }
            },
            "type": "scattercarpet"
           }
          ],
          "scattergeo": [
           {
            "marker": {
             "colorbar": {
              "outlinewidth": 0,
              "ticks": ""
             }
            },
            "type": "scattergeo"
           }
          ],
          "scattergl": [
           {
            "marker": {
             "colorbar": {
              "outlinewidth": 0,
              "ticks": ""
             }
            },
            "type": "scattergl"
           }
          ],
          "scattermapbox": [
           {
            "marker": {
             "colorbar": {
              "outlinewidth": 0,
              "ticks": ""
             }
            },
            "type": "scattermapbox"
           }
          ],
          "scatterpolar": [
           {
            "marker": {
             "colorbar": {
              "outlinewidth": 0,
              "ticks": ""
             }
            },
            "type": "scatterpolar"
           }
          ],
          "scatterpolargl": [
           {
            "marker": {
             "colorbar": {
              "outlinewidth": 0,
              "ticks": ""
             }
            },
            "type": "scatterpolargl"
           }
          ],
          "scatterternary": [
           {
            "marker": {
             "colorbar": {
              "outlinewidth": 0,
              "ticks": ""
             }
            },
            "type": "scatterternary"
           }
          ],
          "surface": [
           {
            "colorbar": {
             "outlinewidth": 0,
             "ticks": ""
            },
            "colorscale": [
             [
              0,
              "#0d0887"
             ],
             [
              0.1111111111111111,
              "#46039f"
             ],
             [
              0.2222222222222222,
              "#7201a8"
             ],
             [
              0.3333333333333333,
              "#9c179e"
             ],
             [
              0.4444444444444444,
              "#bd3786"
             ],
             [
              0.5555555555555556,
              "#d8576b"
             ],
             [
              0.6666666666666666,
              "#ed7953"
             ],
             [
              0.7777777777777778,
              "#fb9f3a"
             ],
             [
              0.8888888888888888,
              "#fdca26"
             ],
             [
              1,
              "#f0f921"
             ]
            ],
            "type": "surface"
           }
          ],
          "table": [
           {
            "cells": {
             "fill": {
              "color": "#EBF0F8"
             },
             "line": {
              "color": "white"
             }
            },
            "header": {
             "fill": {
              "color": "#C8D4E3"
             },
             "line": {
              "color": "white"
             }
            },
            "type": "table"
           }
          ]
         },
         "layout": {
          "annotationdefaults": {
           "arrowcolor": "#2a3f5f",
           "arrowhead": 0,
           "arrowwidth": 1
          },
          "autotypenumbers": "strict",
          "coloraxis": {
           "colorbar": {
            "outlinewidth": 0,
            "ticks": ""
           }
          },
          "colorscale": {
           "diverging": [
            [
             0,
             "#8e0152"
            ],
            [
             0.1,
             "#c51b7d"
            ],
            [
             0.2,
             "#de77ae"
            ],
            [
             0.3,
             "#f1b6da"
            ],
            [
             0.4,
             "#fde0ef"
            ],
            [
             0.5,
             "#f7f7f7"
            ],
            [
             0.6,
             "#e6f5d0"
            ],
            [
             0.7,
             "#b8e186"
            ],
            [
             0.8,
             "#7fbc41"
            ],
            [
             0.9,
             "#4d9221"
            ],
            [
             1,
             "#276419"
            ]
           ],
           "sequential": [
            [
             0,
             "#0d0887"
            ],
            [
             0.1111111111111111,
             "#46039f"
            ],
            [
             0.2222222222222222,
             "#7201a8"
            ],
            [
             0.3333333333333333,
             "#9c179e"
            ],
            [
             0.4444444444444444,
             "#bd3786"
            ],
            [
             0.5555555555555556,
             "#d8576b"
            ],
            [
             0.6666666666666666,
             "#ed7953"
            ],
            [
             0.7777777777777778,
             "#fb9f3a"
            ],
            [
             0.8888888888888888,
             "#fdca26"
            ],
            [
             1,
             "#f0f921"
            ]
           ],
           "sequentialminus": [
            [
             0,
             "#0d0887"
            ],
            [
             0.1111111111111111,
             "#46039f"
            ],
            [
             0.2222222222222222,
             "#7201a8"
            ],
            [
             0.3333333333333333,
             "#9c179e"
            ],
            [
             0.4444444444444444,
             "#bd3786"
            ],
            [
             0.5555555555555556,
             "#d8576b"
            ],
            [
             0.6666666666666666,
             "#ed7953"
            ],
            [
             0.7777777777777778,
             "#fb9f3a"
            ],
            [
             0.8888888888888888,
             "#fdca26"
            ],
            [
             1,
             "#f0f921"
            ]
           ]
          },
          "colorway": [
           "#636efa",
           "#EF553B",
           "#00cc96",
           "#ab63fa",
           "#FFA15A",
           "#19d3f3",
           "#FF6692",
           "#B6E880",
           "#FF97FF",
           "#FECB52"
          ],
          "font": {
           "color": "#2a3f5f"
          },
          "geo": {
           "bgcolor": "white",
           "lakecolor": "white",
           "landcolor": "#E5ECF6",
           "showlakes": true,
           "showland": true,
           "subunitcolor": "white"
          },
          "hoverlabel": {
           "align": "left"
          },
          "hovermode": "closest",
          "mapbox": {
           "style": "light"
          },
          "paper_bgcolor": "white",
          "plot_bgcolor": "#E5ECF6",
          "polar": {
           "angularaxis": {
            "gridcolor": "white",
            "linecolor": "white",
            "ticks": ""
           },
           "bgcolor": "#E5ECF6",
           "radialaxis": {
            "gridcolor": "white",
            "linecolor": "white",
            "ticks": ""
           }
          },
          "scene": {
           "xaxis": {
            "backgroundcolor": "#E5ECF6",
            "gridcolor": "white",
            "gridwidth": 2,
            "linecolor": "white",
            "showbackground": true,
            "ticks": "",
            "zerolinecolor": "white"
           },
           "yaxis": {
            "backgroundcolor": "#E5ECF6",
            "gridcolor": "white",
            "gridwidth": 2,
            "linecolor": "white",
            "showbackground": true,
            "ticks": "",
            "zerolinecolor": "white"
           },
           "zaxis": {
            "backgroundcolor": "#E5ECF6",
            "gridcolor": "white",
            "gridwidth": 2,
            "linecolor": "white",
            "showbackground": true,
            "ticks": "",
            "zerolinecolor": "white"
           }
          },
          "shapedefaults": {
           "line": {
            "color": "#2a3f5f"
           }
          },
          "ternary": {
           "aaxis": {
            "gridcolor": "white",
            "linecolor": "white",
            "ticks": ""
           },
           "baxis": {
            "gridcolor": "white",
            "linecolor": "white",
            "ticks": ""
           },
           "bgcolor": "#E5ECF6",
           "caxis": {
            "gridcolor": "white",
            "linecolor": "white",
            "ticks": ""
           }
          },
          "title": {
           "x": 0.05
          },
          "xaxis": {
           "automargin": true,
           "gridcolor": "white",
           "linecolor": "white",
           "ticks": "",
           "title": {
            "standoff": 15
           },
           "zerolinecolor": "white",
           "zerolinewidth": 2
          },
          "yaxis": {
           "automargin": true,
           "gridcolor": "white",
           "linecolor": "white",
           "ticks": "",
           "title": {
            "standoff": 15
           },
           "zerolinecolor": "white",
           "zerolinewidth": 2
          }
         }
        },
        "title": {
         "text": "Medals won by male and female athletes per decade"
        }
       }
      }
     },
     "metadata": {},
     "output_type": "display_data"
    }
   ],
   "source": [
    "nor_medals_decade = nor_medals.reset_index()\n",
    "nor_medals_decade = nor_medals_decade[[\"Games\", \"Total\"]]\n",
    "temp_men = nor_medals_men.reset_index()\n",
    "temp_men = temp_men[[\"Games\", \"Total\"]]\n",
    "temp_wom = nor_medals_wom.reset_index()\n",
    "temp_wom = temp_wom[[\"Games\", \"Total\"]]\n",
    "\n",
    "nor_medals_decade = nor_medals_decade.merge(temp_men, on=\"Games\", how=\"left\")\n",
    "nor_medals_decade = nor_medals_decade.merge(temp_wom, on=\"Games\", how=\"left\").fillna(0)\n",
    "nor_medals_decade[\"Total\"] = nor_medals_decade[\"Total\"].astype(int)\n",
    "nor_medals_decade = nor_medals_decade.rename(columns={\"Total_x\": \"Medals\", \"Total_y\": \"Men\", \"Total\": \"Women\"})\n",
    "nor_medals_decade[\"Decade\"] = nor_medals_decade[\"Games\"].apply(lambda row: int(row[:3] + \"0\"))\n",
    "\n",
    "nor_medals_decade = nor_medals_decade.groupby(\"Decade\", as_index=False)[[\"Medals\", \"Men\", \"Women\"]].sum()\n",
    "nor_medals_decade\n",
    "\n",
    "# this works but I want 3x4 subplots\n",
    "fig = make_subplots(rows=1, cols=len(nor_medals_decade), specs=[[{\"type\": \"domain\"}] * len(nor_medals_decade)],\n",
    "\t\t\t\t\tsubplot_titles=[f\"{decade}s\" for decade in nor_medals_decade[\"Decade\"]])\n",
    "\n",
    "for i, row in nor_medals_decade.iterrows():\n",
    "\tfig.add_trace(go.Pie(labels=[\"Men\", \"Women\"], values=[row[\"Men\"], row[\"Women\"]], name=f\"{row['Decade']}s\",\n",
    "\t\t\t\t\t\t marker_colors=[\"forestgreen\", \"orange\"]), 1, i+1)\n",
    "\n",
    "fig.update_layout(title_text=\"Medals won by male and female athletes per decade\")\n",
    "fig.show()"
   ]
  },
  {
   "cell_type": "code",
   "execution_count": 272,
   "metadata": {},
   "outputs": [
    {
     "data": {
      "application/vnd.plotly.v1+json": {
       "config": {
        "plotlyServerURL": "https://plot.ly"
       },
       "data": [
        {
         "alignmentgroup": "True",
         "hovertemplate": "=%{x}<br>Medals=%{y}<extra></extra>",
         "legendgroup": "Bronze",
         "marker": {
          "color": "#cd7f32",
          "pattern": {
           "shape": ""
          }
         },
         "name": "Bronze",
         "offsetgroup": "Bronze",
         "orientation": "v",
         "showlegend": true,
         "textposition": "auto",
         "type": "bar",
         "x": [
          "1900 Summer",
          "1904 Summer",
          "1906 Summer",
          "1908 Summer",
          "1912 Summer",
          "1920 Summer",
          "1924 Summer",
          "1924 Winter",
          "1928 Summer",
          "1928 Winter",
          "1932 Winter",
          "1936 Summer",
          "1936 Winter",
          "1948 Summer",
          "1948 Winter",
          "1952 Summer",
          "1952 Winter",
          "1956 Summer",
          "1956 Winter",
          "1960 Summer",
          "1960 Winter",
          "1964 Winter",
          "1968 Summer",
          "1968 Winter",
          "1972 Summer",
          "1972 Winter",
          "1976 Summer",
          "1976 Winter",
          "1980 Winter",
          "1984 Summer",
          "1984 Winter",
          "1988 Summer",
          "1988 Winter",
          "1992 Summer",
          "1992 Winter",
          "1994 Winter",
          "1996 Summer",
          "1998 Winter",
          "2000 Summer",
          "2002 Winter",
          "2004 Summer",
          "2006 Winter",
          "2008 Summer",
          "2010 Winter",
          "2012 Summer",
          "2014 Winter",
          "2016 Summer"
         ],
         "xaxis": "x",
         "y": [
          3,
          0,
          0,
          3,
          5,
          9,
          3,
          6,
          1,
          5,
          3,
          2,
          3,
          3,
          3,
          0,
          6,
          2,
          1,
          0,
          0,
          6,
          0,
          2,
          1,
          5,
          0,
          1,
          6,
          2,
          4,
          0,
          2,
          1,
          5,
          5,
          3,
          5,
          3,
          7,
          1,
          9,
          1,
          6,
          1,
          10,
          4
         ],
         "yaxis": "y"
        },
        {
         "alignmentgroup": "True",
         "hovertemplate": "=%{x}<br>Medals=%{y}<extra></extra>",
         "legendgroup": "Silver",
         "marker": {
          "color": "#c0c0c0",
          "pattern": {
           "shape": ""
          }
         },
         "name": "Silver",
         "offsetgroup": "Silver",
         "orientation": "v",
         "showlegend": true,
         "textposition": "auto",
         "type": "bar",
         "x": [
          "1900 Summer",
          "1904 Summer",
          "1906 Summer",
          "1908 Summer",
          "1912 Summer",
          "1920 Summer",
          "1924 Summer",
          "1924 Winter",
          "1928 Summer",
          "1928 Winter",
          "1932 Winter",
          "1936 Summer",
          "1936 Winter",
          "1948 Summer",
          "1948 Winter",
          "1952 Summer",
          "1952 Winter",
          "1956 Summer",
          "1956 Winter",
          "1960 Summer",
          "1960 Winter",
          "1964 Winter",
          "1968 Summer",
          "1968 Winter",
          "1972 Summer",
          "1972 Winter",
          "1976 Summer",
          "1976 Winter",
          "1980 Winter",
          "1984 Summer",
          "1984 Winter",
          "1988 Summer",
          "1988 Winter",
          "1992 Summer",
          "1992 Winter",
          "1994 Winter",
          "1996 Summer",
          "1998 Winter",
          "2000 Summer",
          "2002 Winter",
          "2004 Summer",
          "2006 Winter",
          "2008 Summer",
          "2010 Winter",
          "2012 Summer",
          "2014 Winter",
          "2016 Summer"
         ],
         "xaxis": "x",
         "y": [
          2,
          0,
          1,
          3,
          1,
          10,
          2,
          7,
          2,
          4,
          4,
          3,
          5,
          3,
          3,
          2,
          3,
          0,
          1,
          0,
          3,
          6,
          1,
          6,
          1,
          5,
          1,
          3,
          3,
          1,
          2,
          3,
          3,
          4,
          5,
          10,
          2,
          9,
          3,
          5,
          0,
          8,
          5,
          8,
          1,
          5,
          0
         ],
         "yaxis": "y"
        },
        {
         "alignmentgroup": "True",
         "hovertemplate": "=%{x}<br>Medals=%{y}<extra></extra>",
         "legendgroup": "Gold",
         "marker": {
          "color": "#ffd700",
          "pattern": {
           "shape": ""
          }
         },
         "name": "Gold",
         "offsetgroup": "Gold",
         "orientation": "v",
         "showlegend": true,
         "textposition": "auto",
         "type": "bar",
         "x": [
          "1900 Summer",
          "1904 Summer",
          "1906 Summer",
          "1908 Summer",
          "1912 Summer",
          "1920 Summer",
          "1924 Summer",
          "1924 Winter",
          "1928 Summer",
          "1928 Winter",
          "1932 Winter",
          "1936 Summer",
          "1936 Winter",
          "1948 Summer",
          "1948 Winter",
          "1952 Summer",
          "1952 Winter",
          "1956 Summer",
          "1956 Winter",
          "1960 Summer",
          "1960 Winter",
          "1964 Winter",
          "1968 Summer",
          "1968 Winter",
          "1972 Summer",
          "1972 Winter",
          "1976 Summer",
          "1976 Winter",
          "1980 Winter",
          "1984 Summer",
          "1984 Winter",
          "1988 Summer",
          "1988 Winter",
          "1992 Summer",
          "1992 Winter",
          "1994 Winter",
          "1996 Summer",
          "1998 Winter",
          "2000 Summer",
          "2002 Winter",
          "2004 Summer",
          "2006 Winter",
          "2008 Summer",
          "2010 Winter",
          "2012 Summer",
          "2014 Winter",
          "2016 Summer"
         ],
         "xaxis": "x",
         "y": [
          0,
          2,
          1,
          2,
          4,
          13,
          5,
          4,
          1,
          6,
          3,
          1,
          7,
          1,
          4,
          3,
          7,
          1,
          2,
          1,
          3,
          3,
          1,
          6,
          2,
          2,
          1,
          3,
          1,
          0,
          3,
          2,
          0,
          2,
          7,
          8,
          2,
          8,
          4,
          12,
          5,
          2,
          3,
          9,
          2,
          11,
          0
         ],
         "yaxis": "y"
        }
       ],
       "layout": {
        "barmode": "relative",
        "legend": {
         "title": {
          "text": ""
         },
         "tracegroupgap": 0
        },
        "template": {
         "data": {
          "bar": [
           {
            "error_x": {
             "color": "#2a3f5f"
            },
            "error_y": {
             "color": "#2a3f5f"
            },
            "marker": {
             "line": {
              "color": "#E5ECF6",
              "width": 0.5
             },
             "pattern": {
              "fillmode": "overlay",
              "size": 10,
              "solidity": 0.2
             }
            },
            "type": "bar"
           }
          ],
          "barpolar": [
           {
            "marker": {
             "line": {
              "color": "#E5ECF6",
              "width": 0.5
             },
             "pattern": {
              "fillmode": "overlay",
              "size": 10,
              "solidity": 0.2
             }
            },
            "type": "barpolar"
           }
          ],
          "carpet": [
           {
            "aaxis": {
             "endlinecolor": "#2a3f5f",
             "gridcolor": "white",
             "linecolor": "white",
             "minorgridcolor": "white",
             "startlinecolor": "#2a3f5f"
            },
            "baxis": {
             "endlinecolor": "#2a3f5f",
             "gridcolor": "white",
             "linecolor": "white",
             "minorgridcolor": "white",
             "startlinecolor": "#2a3f5f"
            },
            "type": "carpet"
           }
          ],
          "choropleth": [
           {
            "colorbar": {
             "outlinewidth": 0,
             "ticks": ""
            },
            "type": "choropleth"
           }
          ],
          "contour": [
           {
            "colorbar": {
             "outlinewidth": 0,
             "ticks": ""
            },
            "colorscale": [
             [
              0,
              "#0d0887"
             ],
             [
              0.1111111111111111,
              "#46039f"
             ],
             [
              0.2222222222222222,
              "#7201a8"
             ],
             [
              0.3333333333333333,
              "#9c179e"
             ],
             [
              0.4444444444444444,
              "#bd3786"
             ],
             [
              0.5555555555555556,
              "#d8576b"
             ],
             [
              0.6666666666666666,
              "#ed7953"
             ],
             [
              0.7777777777777778,
              "#fb9f3a"
             ],
             [
              0.8888888888888888,
              "#fdca26"
             ],
             [
              1,
              "#f0f921"
             ]
            ],
            "type": "contour"
           }
          ],
          "contourcarpet": [
           {
            "colorbar": {
             "outlinewidth": 0,
             "ticks": ""
            },
            "type": "contourcarpet"
           }
          ],
          "heatmap": [
           {
            "colorbar": {
             "outlinewidth": 0,
             "ticks": ""
            },
            "colorscale": [
             [
              0,
              "#0d0887"
             ],
             [
              0.1111111111111111,
              "#46039f"
             ],
             [
              0.2222222222222222,
              "#7201a8"
             ],
             [
              0.3333333333333333,
              "#9c179e"
             ],
             [
              0.4444444444444444,
              "#bd3786"
             ],
             [
              0.5555555555555556,
              "#d8576b"
             ],
             [
              0.6666666666666666,
              "#ed7953"
             ],
             [
              0.7777777777777778,
              "#fb9f3a"
             ],
             [
              0.8888888888888888,
              "#fdca26"
             ],
             [
              1,
              "#f0f921"
             ]
            ],
            "type": "heatmap"
           }
          ],
          "heatmapgl": [
           {
            "colorbar": {
             "outlinewidth": 0,
             "ticks": ""
            },
            "colorscale": [
             [
              0,
              "#0d0887"
             ],
             [
              0.1111111111111111,
              "#46039f"
             ],
             [
              0.2222222222222222,
              "#7201a8"
             ],
             [
              0.3333333333333333,
              "#9c179e"
             ],
             [
              0.4444444444444444,
              "#bd3786"
             ],
             [
              0.5555555555555556,
              "#d8576b"
             ],
             [
              0.6666666666666666,
              "#ed7953"
             ],
             [
              0.7777777777777778,
              "#fb9f3a"
             ],
             [
              0.8888888888888888,
              "#fdca26"
             ],
             [
              1,
              "#f0f921"
             ]
            ],
            "type": "heatmapgl"
           }
          ],
          "histogram": [
           {
            "marker": {
             "pattern": {
              "fillmode": "overlay",
              "size": 10,
              "solidity": 0.2
             }
            },
            "type": "histogram"
           }
          ],
          "histogram2d": [
           {
            "colorbar": {
             "outlinewidth": 0,
             "ticks": ""
            },
            "colorscale": [
             [
              0,
              "#0d0887"
             ],
             [
              0.1111111111111111,
              "#46039f"
             ],
             [
              0.2222222222222222,
              "#7201a8"
             ],
             [
              0.3333333333333333,
              "#9c179e"
             ],
             [
              0.4444444444444444,
              "#bd3786"
             ],
             [
              0.5555555555555556,
              "#d8576b"
             ],
             [
              0.6666666666666666,
              "#ed7953"
             ],
             [
              0.7777777777777778,
              "#fb9f3a"
             ],
             [
              0.8888888888888888,
              "#fdca26"
             ],
             [
              1,
              "#f0f921"
             ]
            ],
            "type": "histogram2d"
           }
          ],
          "histogram2dcontour": [
           {
            "colorbar": {
             "outlinewidth": 0,
             "ticks": ""
            },
            "colorscale": [
             [
              0,
              "#0d0887"
             ],
             [
              0.1111111111111111,
              "#46039f"
             ],
             [
              0.2222222222222222,
              "#7201a8"
             ],
             [
              0.3333333333333333,
              "#9c179e"
             ],
             [
              0.4444444444444444,
              "#bd3786"
             ],
             [
              0.5555555555555556,
              "#d8576b"
             ],
             [
              0.6666666666666666,
              "#ed7953"
             ],
             [
              0.7777777777777778,
              "#fb9f3a"
             ],
             [
              0.8888888888888888,
              "#fdca26"
             ],
             [
              1,
              "#f0f921"
             ]
            ],
            "type": "histogram2dcontour"
           }
          ],
          "mesh3d": [
           {
            "colorbar": {
             "outlinewidth": 0,
             "ticks": ""
            },
            "type": "mesh3d"
           }
          ],
          "parcoords": [
           {
            "line": {
             "colorbar": {
              "outlinewidth": 0,
              "ticks": ""
             }
            },
            "type": "parcoords"
           }
          ],
          "pie": [
           {
            "automargin": true,
            "type": "pie"
           }
          ],
          "scatter": [
           {
            "fillpattern": {
             "fillmode": "overlay",
             "size": 10,
             "solidity": 0.2
            },
            "type": "scatter"
           }
          ],
          "scatter3d": [
           {
            "line": {
             "colorbar": {
              "outlinewidth": 0,
              "ticks": ""
             }
            },
            "marker": {
             "colorbar": {
              "outlinewidth": 0,
              "ticks": ""
             }
            },
            "type": "scatter3d"
           }
          ],
          "scattercarpet": [
           {
            "marker": {
             "colorbar": {
              "outlinewidth": 0,
              "ticks": ""
             }
            },
            "type": "scattercarpet"
           }
          ],
          "scattergeo": [
           {
            "marker": {
             "colorbar": {
              "outlinewidth": 0,
              "ticks": ""
             }
            },
            "type": "scattergeo"
           }
          ],
          "scattergl": [
           {
            "marker": {
             "colorbar": {
              "outlinewidth": 0,
              "ticks": ""
             }
            },
            "type": "scattergl"
           }
          ],
          "scattermapbox": [
           {
            "marker": {
             "colorbar": {
              "outlinewidth": 0,
              "ticks": ""
             }
            },
            "type": "scattermapbox"
           }
          ],
          "scatterpolar": [
           {
            "marker": {
             "colorbar": {
              "outlinewidth": 0,
              "ticks": ""
             }
            },
            "type": "scatterpolar"
           }
          ],
          "scatterpolargl": [
           {
            "marker": {
             "colorbar": {
              "outlinewidth": 0,
              "ticks": ""
             }
            },
            "type": "scatterpolargl"
           }
          ],
          "scatterternary": [
           {
            "marker": {
             "colorbar": {
              "outlinewidth": 0,
              "ticks": ""
             }
            },
            "type": "scatterternary"
           }
          ],
          "surface": [
           {
            "colorbar": {
             "outlinewidth": 0,
             "ticks": ""
            },
            "colorscale": [
             [
              0,
              "#0d0887"
             ],
             [
              0.1111111111111111,
              "#46039f"
             ],
             [
              0.2222222222222222,
              "#7201a8"
             ],
             [
              0.3333333333333333,
              "#9c179e"
             ],
             [
              0.4444444444444444,
              "#bd3786"
             ],
             [
              0.5555555555555556,
              "#d8576b"
             ],
             [
              0.6666666666666666,
              "#ed7953"
             ],
             [
              0.7777777777777778,
              "#fb9f3a"
             ],
             [
              0.8888888888888888,
              "#fdca26"
             ],
             [
              1,
              "#f0f921"
             ]
            ],
            "type": "surface"
           }
          ],
          "table": [
           {
            "cells": {
             "fill": {
              "color": "#EBF0F8"
             },
             "line": {
              "color": "white"
             }
            },
            "header": {
             "fill": {
              "color": "#C8D4E3"
             },
             "line": {
              "color": "white"
             }
            },
            "type": "table"
           }
          ]
         },
         "layout": {
          "annotationdefaults": {
           "arrowcolor": "#2a3f5f",
           "arrowhead": 0,
           "arrowwidth": 1
          },
          "autotypenumbers": "strict",
          "coloraxis": {
           "colorbar": {
            "outlinewidth": 0,
            "ticks": ""
           }
          },
          "colorscale": {
           "diverging": [
            [
             0,
             "#8e0152"
            ],
            [
             0.1,
             "#c51b7d"
            ],
            [
             0.2,
             "#de77ae"
            ],
            [
             0.3,
             "#f1b6da"
            ],
            [
             0.4,
             "#fde0ef"
            ],
            [
             0.5,
             "#f7f7f7"
            ],
            [
             0.6,
             "#e6f5d0"
            ],
            [
             0.7,
             "#b8e186"
            ],
            [
             0.8,
             "#7fbc41"
            ],
            [
             0.9,
             "#4d9221"
            ],
            [
             1,
             "#276419"
            ]
           ],
           "sequential": [
            [
             0,
             "#0d0887"
            ],
            [
             0.1111111111111111,
             "#46039f"
            ],
            [
             0.2222222222222222,
             "#7201a8"
            ],
            [
             0.3333333333333333,
             "#9c179e"
            ],
            [
             0.4444444444444444,
             "#bd3786"
            ],
            [
             0.5555555555555556,
             "#d8576b"
            ],
            [
             0.6666666666666666,
             "#ed7953"
            ],
            [
             0.7777777777777778,
             "#fb9f3a"
            ],
            [
             0.8888888888888888,
             "#fdca26"
            ],
            [
             1,
             "#f0f921"
            ]
           ],
           "sequentialminus": [
            [
             0,
             "#0d0887"
            ],
            [
             0.1111111111111111,
             "#46039f"
            ],
            [
             0.2222222222222222,
             "#7201a8"
            ],
            [
             0.3333333333333333,
             "#9c179e"
            ],
            [
             0.4444444444444444,
             "#bd3786"
            ],
            [
             0.5555555555555556,
             "#d8576b"
            ],
            [
             0.6666666666666666,
             "#ed7953"
            ],
            [
             0.7777777777777778,
             "#fb9f3a"
            ],
            [
             0.8888888888888888,
             "#fdca26"
            ],
            [
             1,
             "#f0f921"
            ]
           ]
          },
          "colorway": [
           "#636efa",
           "#EF553B",
           "#00cc96",
           "#ab63fa",
           "#FFA15A",
           "#19d3f3",
           "#FF6692",
           "#B6E880",
           "#FF97FF",
           "#FECB52"
          ],
          "font": {
           "color": "#2a3f5f"
          },
          "geo": {
           "bgcolor": "white",
           "lakecolor": "white",
           "landcolor": "#E5ECF6",
           "showlakes": true,
           "showland": true,
           "subunitcolor": "white"
          },
          "hoverlabel": {
           "align": "left"
          },
          "hovermode": "closest",
          "mapbox": {
           "style": "light"
          },
          "paper_bgcolor": "white",
          "plot_bgcolor": "#E5ECF6",
          "polar": {
           "angularaxis": {
            "gridcolor": "white",
            "linecolor": "white",
            "ticks": ""
           },
           "bgcolor": "#E5ECF6",
           "radialaxis": {
            "gridcolor": "white",
            "linecolor": "white",
            "ticks": ""
           }
          },
          "scene": {
           "xaxis": {
            "backgroundcolor": "#E5ECF6",
            "gridcolor": "white",
            "gridwidth": 2,
            "linecolor": "white",
            "showbackground": true,
            "ticks": "",
            "zerolinecolor": "white"
           },
           "yaxis": {
            "backgroundcolor": "#E5ECF6",
            "gridcolor": "white",
            "gridwidth": 2,
            "linecolor": "white",
            "showbackground": true,
            "ticks": "",
            "zerolinecolor": "white"
           },
           "zaxis": {
            "backgroundcolor": "#E5ECF6",
            "gridcolor": "white",
            "gridwidth": 2,
            "linecolor": "white",
            "showbackground": true,
            "ticks": "",
            "zerolinecolor": "white"
           }
          },
          "shapedefaults": {
           "line": {
            "color": "#2a3f5f"
           }
          },
          "ternary": {
           "aaxis": {
            "gridcolor": "white",
            "linecolor": "white",
            "ticks": ""
           },
           "baxis": {
            "gridcolor": "white",
            "linecolor": "white",
            "ticks": ""
           },
           "bgcolor": "#E5ECF6",
           "caxis": {
            "gridcolor": "white",
            "linecolor": "white",
            "ticks": ""
           }
          },
          "title": {
           "x": 0.05
          },
          "xaxis": {
           "automargin": true,
           "gridcolor": "white",
           "linecolor": "white",
           "ticks": "",
           "title": {
            "standoff": 15
           },
           "zerolinecolor": "white",
           "zerolinewidth": 2
          },
          "yaxis": {
           "automargin": true,
           "gridcolor": "white",
           "linecolor": "white",
           "ticks": "",
           "title": {
            "standoff": 15
           },
           "zerolinecolor": "white",
           "zerolinewidth": 2
          }
         }
        },
        "title": {
         "text": "Norwegian Olympic medals"
        },
        "xaxis": {
         "anchor": "y",
         "domain": [
          0,
          1
         ],
         "tickangle": -90,
         "title": {
          "text": ""
         }
        },
        "yaxis": {
         "anchor": "x",
         "domain": [
          0,
          1
         ],
         "title": {
          "text": "Medals"
         }
        }
       }
      }
     },
     "metadata": {},
     "output_type": "display_data"
    }
   ],
   "source": [
    "def medal_coloured_bars(df=nor, col=\"Games\"):\n",
    "    \n",
    "    def medal_counter():\n",
    "        df_medals = df.copy()\n",
    "        df_medals = df_medals.drop_duplicates(subset=[\"Event\", \"Games\", \"Team\", \"Medal\"])\n",
    "        df_count = df_medals.groupby([col, \"Medal\"]).size().unstack(fill_value=0)\n",
    "        df_count[\"Total\"] = df_count[[\"Bronze\", \"Silver\", \"Gold\"]].sum(axis=1)\n",
    "        df_count = df_count.reindex(columns=[\"Bronze\", \"Silver\", \"Gold\", \"Total\"])\n",
    "        return df_count\n",
    "    \n",
    "\n",
    "    df_medal_count = medal_counter()\n",
    "    df_medal_count = df_medal_count.reset_index()\n",
    "\n",
    "    fig = px.bar(df_medal_count, \n",
    "             x=col, y=[\"Bronze\", \"Silver\", \"Gold\"], \n",
    "             title=\"Norwegian Olympic medals\", \n",
    "             labels={\"Total\": \"Medals\", \"index\": \"Sport\", \"Games\": \"\", \"value\": \"Medals\", \"variable\": \"\"}, \n",
    "             color_discrete_sequence=[\"#cd7f32\", \"#c0c0c0\", \"#ffd700\"])\n",
    "    fig.update_xaxes(tickangle=-90)\n",
    "\n",
    "    return fig\n",
    "\n",
    "\n",
    "test = medal_coloured_bars()\n",
    "test.show()"
   ]
  }
 ],
 "metadata": {
  "kernelspec": {
   "display_name": ".venv",
   "language": "python",
   "name": "python3"
  },
  "language_info": {
   "codemirror_mode": {
    "name": "ipython",
    "version": 3
   },
   "file_extension": ".py",
   "mimetype": "text/x-python",
   "name": "python",
   "nbconvert_exporter": "python",
   "pygments_lexer": "ipython3",
   "version": "3.13.0"
  }
 },
 "nbformat": 4,
 "nbformat_minor": 2
}
